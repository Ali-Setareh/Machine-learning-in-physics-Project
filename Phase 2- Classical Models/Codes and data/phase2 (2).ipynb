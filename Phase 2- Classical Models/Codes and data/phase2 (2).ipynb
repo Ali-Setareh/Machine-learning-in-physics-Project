{
  "nbformat": 4,
  "nbformat_minor": 0,
  "metadata": {
    "colab": {
      "name": "traditional method.ipynb",
      "provenance": [],
      "collapsed_sections": [
        "8dSlaia1buX_",
        "IadpDQ_ZZ4an"
      ]
    },
    "kernelspec": {
      "name": "python3",
      "display_name": "Python 3"
    },
    "language_info": {
      "name": "python"
    }
  },
  "cells": [
    {
      "cell_type": "code",
      "metadata": {
        "id": "aBMAF_QmmagS"
      },
      "source": [
        "import numpy as np\n",
        "import matplotlib.pyplot as plt\n",
        "import pandas as pd\n",
        "import requests\n",
        "import io\n",
        "from sklearn.model_selection import train_test_split\n",
        "from google.colab import files\n",
        "from sklearn.metrics import mean_absolute_error, mean_squared_error"
      ],
      "execution_count": 2,
      "outputs": []
    },
    {
      "cell_type": "markdown",
      "metadata": {
        "id": "LgPuF91IfR94"
      },
      "source": [
        "# unscaled data"
      ]
    },
    {
      "cell_type": "code",
      "metadata": {
        "colab": {
          "resources": {
            "http://localhost:8080/nbextensions/google.colab/files.js": {
              "data": "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",
              "ok": true,
              "headers": [
                [
                  "content-type",
                  "application/javascript"
                ]
              ],
              "status": 200,
              "status_text": ""
            }
          },
          "base_uri": "https://localhost:8080/",
          "height": 73
        },
        "id": "T7tkKQeJfVn4",
        "outputId": "01a7ba61-fdf2-4890-ce08-ea670aab6faa"
      },
      "source": [
        "'upload file from pc'\n",
        "uploaded = files.upload()\n",
        "unscaled_data = pd.read_csv(io.BytesIO(uploaded['final data fill nan .csv']))"
      ],
      "execution_count": 7,
      "outputs": [
        {
          "output_type": "display_data",
          "data": {
            "text/html": [
              "\n",
              "     <input type=\"file\" id=\"files-d5c36caf-fe8d-4d19-9f40-427df32b5c68\" name=\"files[]\" multiple disabled\n",
              "        style=\"border:none\" />\n",
              "     <output id=\"result-d5c36caf-fe8d-4d19-9f40-427df32b5c68\">\n",
              "      Upload widget is only available when the cell has been executed in the\n",
              "      current browser session. Please rerun this cell to enable.\n",
              "      </output>\n",
              "      <script src=\"/nbextensions/google.colab/files.js\"></script> "
            ],
            "text/plain": [
              "<IPython.core.display.HTML object>"
            ]
          },
          "metadata": {
            "tags": []
          }
        },
        {
          "output_type": "stream",
          "text": [
            "Saving final data fill nan .csv to final data fill nan .csv\n"
          ],
          "name": "stdout"
        }
      ]
    },
    {
      "cell_type": "code",
      "metadata": {
        "id": "b9b2A12qhyif"
      },
      "source": [
        "unscaled_data = pd.read_csv('final data fill nan .csv')"
      ],
      "execution_count": 8,
      "outputs": []
    },
    {
      "cell_type": "code",
      "metadata": {
        "id": "72bEkZOGiRDv"
      },
      "source": [
        "unscaled_data=unscaled_data.drop(['Unnamed: 0'],axis=1)\n",
        "unscaled_data"
      ],
      "execution_count": null,
      "outputs": []
    },
    {
      "cell_type": "code",
      "metadata": {
        "id": "hb5KhFnxiMPg"
      },
      "source": [
        "unscaled_data_X=unscaled_data.iloc[:,:276]\n",
        "unscaled_data_Y=unscaled_data.iloc[:,-1]\n",
        "# X_train, X_test, Y_train, Y_test = train_test_split(unscaled_data_X,unscaled_data_Y, random_state = 0, shuffle=False)"
      ],
      "execution_count": null,
      "outputs": []
    },
    {
      "cell_type": "code",
      "metadata": {
        "id": "9YQFi8Gckr_v"
      },
      "source": [
        "a=unscaled_data_X.iloc[:,0]==2019\n",
        "ind_list=[i for i, unscaled_data_X in enumerate(a) if unscaled_data_X]\n",
        "test_size=len(ind_list)"
      ],
      "execution_count": null,
      "outputs": []
    },
    {
      "cell_type": "code",
      "metadata": {
        "id": "YvPU278PlIlO"
      },
      "source": [
        "# 2019 Y data choose as test samples other as train \n",
        "# Y_train=[i for i in Y[ind_list]]\n",
        "# Y_test=[i for i in Y[:ind_list[0]-1]]\n"
      ],
      "execution_count": null,
      "outputs": []
    },
    {
      "cell_type": "markdown",
      "metadata": {
        "id": "wdea1EXuZw8e"
      },
      "source": [
        "# PCA"
      ]
    },
    {
      "cell_type": "markdown",
      "metadata": {
        "id": "eVC7lc6ylKME"
      },
      "source": [
        " \n",
        "*   read data from file\n",
        "*   apply PCA (so we have 5 componenet)\n",
        "*   seprate 2019 data as test\n",
        "\n",
        "\n"
      ]
    },
    {
      "cell_type": "code",
      "metadata": {
        "id": "ZA5ZTVQpk9qO"
      },
      "source": [
        "unscaled_data = pd.read_csv('final data fill nan .csv')\n",
        "unscaled_data=unscaled_data.drop(['Unnamed: 0'],axis=1)\n",
        "unscaled_data_X=unscaled_data.iloc[:,:276]\n",
        "unscaled_data_Y=unscaled_data.iloc[:,-1]"
      ],
      "execution_count": 3,
      "outputs": []
    },
    {
      "cell_type": "code",
      "metadata": {
        "colab": {
          "base_uri": "https://localhost:8080/",
          "height": 312
        },
        "id": "Du6y80O74ckC",
        "outputId": "d4853414-2cb9-46c1-d1e6-a031a9233a59"
      },
      "source": [
        "unscaled_data_X.head(5)"
      ],
      "execution_count": 4,
      "outputs": [
        {
          "output_type": "execute_result",
          "data": {
            "text/html": [
              "<div>\n",
              "<style scoped>\n",
              "    .dataframe tbody tr th:only-of-type {\n",
              "        vertical-align: middle;\n",
              "    }\n",
              "\n",
              "    .dataframe tbody tr th {\n",
              "        vertical-align: top;\n",
              "    }\n",
              "\n",
              "    .dataframe thead th {\n",
              "        text-align: right;\n",
              "    }\n",
              "</style>\n",
              "<table border=\"1\" class=\"dataframe\">\n",
              "  <thead>\n",
              "    <tr style=\"text-align: right;\">\n",
              "      <th></th>\n",
              "      <th>Year</th>\n",
              "      <th>Budget</th>\n",
              "      <th>Opening Theaters</th>\n",
              "      <th>Running time (min)</th>\n",
              "      <th>genre Action</th>\n",
              "      <th>genre Adventure</th>\n",
              "      <th>genre Fantasy</th>\n",
              "      <th>genre Sci-Fi</th>\n",
              "      <th>genre Animation</th>\n",
              "      <th>genre Comedy</th>\n",
              "      <th>genre Family</th>\n",
              "      <th>genre Drama</th>\n",
              "      <th>genre Romance</th>\n",
              "      <th>genre Thriller</th>\n",
              "      <th>genre Mystery</th>\n",
              "      <th>genre Crime</th>\n",
              "      <th>genre Sport</th>\n",
              "      <th>genre Musical</th>\n",
              "      <th>genre Documentary</th>\n",
              "      <th>genre History</th>\n",
              "      <th>genre Music</th>\n",
              "      <th>genre Biography</th>\n",
              "      <th>genre Horror</th>\n",
              "      <th>genre War</th>\n",
              "      <th>genre Western</th>\n",
              "      <th>genre Short</th>\n",
              "      <th>genre News</th>\n",
              "      <th>genre Film-Noir</th>\n",
              "      <th>genre Reality-TV</th>\n",
              "      <th>genre Adult</th>\n",
              "      <th>MPAA PG-13</th>\n",
              "      <th>MPAA PG</th>\n",
              "      <th>MPAA R</th>\n",
              "      <th>MPAA G</th>\n",
              "      <th>MPAA Unrated</th>\n",
              "      <th>MPAA NC-17</th>\n",
              "      <th>MPAA Not Rated</th>\n",
              "      <th>MPAA M/PG</th>\n",
              "      <th>MPAA TV-PG</th>\n",
              "      <th>Day</th>\n",
              "      <th>...</th>\n",
              "      <th>country Latvia</th>\n",
              "      <th>country Jamaica</th>\n",
              "      <th>country Bangladesh</th>\n",
              "      <th>country Macao</th>\n",
              "      <th>country Morocco</th>\n",
              "      <th>country Ecuador</th>\n",
              "      <th>country Laos</th>\n",
              "      <th>country Greenland</th>\n",
              "      <th>country Paraguay</th>\n",
              "      <th>country Mali</th>\n",
              "      <th>country Papua New Guinea</th>\n",
              "      <th>country Mauritania</th>\n",
              "      <th>country Panama</th>\n",
              "      <th>country Cyprus</th>\n",
              "      <th>country Montenegro</th>\n",
              "      <th>country Malawi</th>\n",
              "      <th>country Sierra Leone</th>\n",
              "      <th>country Liberia</th>\n",
              "      <th>country Mongolia</th>\n",
              "      <th>country North Korea</th>\n",
              "      <th>country Vanuatu</th>\n",
              "      <th>country Uruguay</th>\n",
              "      <th>country Congo</th>\n",
              "      <th>country Kazakhstan</th>\n",
              "      <th>country Myanmar</th>\n",
              "      <th>country Kosovo</th>\n",
              "      <th>country Iraq</th>\n",
              "      <th>country Bahrain</th>\n",
              "      <th>country Zimbabwe</th>\n",
              "      <th>country Syria</th>\n",
              "      <th>country Holy See (Vatican City State)</th>\n",
              "      <th>country Zambia</th>\n",
              "      <th>country Swaziland</th>\n",
              "      <th>country Republic of North Macedonia</th>\n",
              "      <th>country Reunion</th>\n",
              "      <th>Producer(s) rank</th>\n",
              "      <th>Director(s) rank</th>\n",
              "      <th>Writer(s) rank</th>\n",
              "      <th>Stars rank</th>\n",
              "      <th>Distributor rank</th>\n",
              "    </tr>\n",
              "  </thead>\n",
              "  <tbody>\n",
              "    <tr>\n",
              "      <th>0</th>\n",
              "      <td>2011.0</td>\n",
              "      <td>19.283571</td>\n",
              "      <td>3452.0</td>\n",
              "      <td>162.0</td>\n",
              "      <td>1.0</td>\n",
              "      <td>1.0</td>\n",
              "      <td>1.0</td>\n",
              "      <td>1.0</td>\n",
              "      <td>0.0</td>\n",
              "      <td>0.0</td>\n",
              "      <td>0.0</td>\n",
              "      <td>0.0</td>\n",
              "      <td>0.0</td>\n",
              "      <td>0.0</td>\n",
              "      <td>0.0</td>\n",
              "      <td>0.0</td>\n",
              "      <td>0.0</td>\n",
              "      <td>0.0</td>\n",
              "      <td>0.0</td>\n",
              "      <td>0.0</td>\n",
              "      <td>0.0</td>\n",
              "      <td>0.0</td>\n",
              "      <td>0.0</td>\n",
              "      <td>0.0</td>\n",
              "      <td>0.0</td>\n",
              "      <td>0.0</td>\n",
              "      <td>0.0</td>\n",
              "      <td>0.0</td>\n",
              "      <td>0.0</td>\n",
              "      <td>0.0</td>\n",
              "      <td>1.0</td>\n",
              "      <td>0.0</td>\n",
              "      <td>0.0</td>\n",
              "      <td>0.0</td>\n",
              "      <td>0.0</td>\n",
              "      <td>0.0</td>\n",
              "      <td>0.0</td>\n",
              "      <td>0.0</td>\n",
              "      <td>0.0</td>\n",
              "      <td>18.0</td>\n",
              "      <td>...</td>\n",
              "      <td>0.0</td>\n",
              "      <td>0.0</td>\n",
              "      <td>0.0</td>\n",
              "      <td>0.0</td>\n",
              "      <td>0.0</td>\n",
              "      <td>0.0</td>\n",
              "      <td>0.0</td>\n",
              "      <td>0.0</td>\n",
              "      <td>0.0</td>\n",
              "      <td>0.0</td>\n",
              "      <td>0.0</td>\n",
              "      <td>0.0</td>\n",
              "      <td>0.0</td>\n",
              "      <td>0.0</td>\n",
              "      <td>0.0</td>\n",
              "      <td>0.0</td>\n",
              "      <td>0.0</td>\n",
              "      <td>0.0</td>\n",
              "      <td>0.0</td>\n",
              "      <td>0.0</td>\n",
              "      <td>0.0</td>\n",
              "      <td>0.0</td>\n",
              "      <td>0.0</td>\n",
              "      <td>0.0</td>\n",
              "      <td>0.0</td>\n",
              "      <td>0.0</td>\n",
              "      <td>0.0</td>\n",
              "      <td>0.0</td>\n",
              "      <td>0.0</td>\n",
              "      <td>0.0</td>\n",
              "      <td>0.0</td>\n",
              "      <td>0.0</td>\n",
              "      <td>0.0</td>\n",
              "      <td>0.0</td>\n",
              "      <td>0.0</td>\n",
              "      <td>1.0</td>\n",
              "      <td>0.0</td>\n",
              "      <td>0.0</td>\n",
              "      <td>1.0</td>\n",
              "      <td>1.0</td>\n",
              "    </tr>\n",
              "    <tr>\n",
              "      <th>1</th>\n",
              "      <td>2011.0</td>\n",
              "      <td>19.113828</td>\n",
              "      <td>4028.0</td>\n",
              "      <td>103.0</td>\n",
              "      <td>0.0</td>\n",
              "      <td>1.0</td>\n",
              "      <td>1.0</td>\n",
              "      <td>0.0</td>\n",
              "      <td>1.0</td>\n",
              "      <td>1.0</td>\n",
              "      <td>1.0</td>\n",
              "      <td>0.0</td>\n",
              "      <td>0.0</td>\n",
              "      <td>0.0</td>\n",
              "      <td>0.0</td>\n",
              "      <td>0.0</td>\n",
              "      <td>0.0</td>\n",
              "      <td>0.0</td>\n",
              "      <td>0.0</td>\n",
              "      <td>0.0</td>\n",
              "      <td>0.0</td>\n",
              "      <td>0.0</td>\n",
              "      <td>0.0</td>\n",
              "      <td>0.0</td>\n",
              "      <td>0.0</td>\n",
              "      <td>0.0</td>\n",
              "      <td>0.0</td>\n",
              "      <td>0.0</td>\n",
              "      <td>0.0</td>\n",
              "      <td>0.0</td>\n",
              "      <td>0.0</td>\n",
              "      <td>0.0</td>\n",
              "      <td>0.0</td>\n",
              "      <td>0.0</td>\n",
              "      <td>0.0</td>\n",
              "      <td>0.0</td>\n",
              "      <td>0.0</td>\n",
              "      <td>0.0</td>\n",
              "      <td>0.0</td>\n",
              "      <td>18.0</td>\n",
              "      <td>...</td>\n",
              "      <td>0.0</td>\n",
              "      <td>0.0</td>\n",
              "      <td>0.0</td>\n",
              "      <td>0.0</td>\n",
              "      <td>0.0</td>\n",
              "      <td>0.0</td>\n",
              "      <td>0.0</td>\n",
              "      <td>0.0</td>\n",
              "      <td>0.0</td>\n",
              "      <td>0.0</td>\n",
              "      <td>0.0</td>\n",
              "      <td>0.0</td>\n",
              "      <td>0.0</td>\n",
              "      <td>0.0</td>\n",
              "      <td>0.0</td>\n",
              "      <td>0.0</td>\n",
              "      <td>0.0</td>\n",
              "      <td>0.0</td>\n",
              "      <td>0.0</td>\n",
              "      <td>0.0</td>\n",
              "      <td>0.0</td>\n",
              "      <td>0.0</td>\n",
              "      <td>0.0</td>\n",
              "      <td>0.0</td>\n",
              "      <td>0.0</td>\n",
              "      <td>0.0</td>\n",
              "      <td>0.0</td>\n",
              "      <td>0.0</td>\n",
              "      <td>0.0</td>\n",
              "      <td>0.0</td>\n",
              "      <td>0.0</td>\n",
              "      <td>0.0</td>\n",
              "      <td>0.0</td>\n",
              "      <td>0.0</td>\n",
              "      <td>0.0</td>\n",
              "      <td>0.0</td>\n",
              "      <td>0.0</td>\n",
              "      <td>0.0</td>\n",
              "      <td>1.0</td>\n",
              "      <td>1.0</td>\n",
              "    </tr>\n",
              "    <tr>\n",
              "      <th>2</th>\n",
              "      <td>2011.0</td>\n",
              "      <td>19.113828</td>\n",
              "      <td>3728.0</td>\n",
              "      <td>108.0</td>\n",
              "      <td>0.0</td>\n",
              "      <td>1.0</td>\n",
              "      <td>1.0</td>\n",
              "      <td>0.0</td>\n",
              "      <td>0.0</td>\n",
              "      <td>0.0</td>\n",
              "      <td>1.0</td>\n",
              "      <td>0.0</td>\n",
              "      <td>0.0</td>\n",
              "      <td>0.0</td>\n",
              "      <td>0.0</td>\n",
              "      <td>0.0</td>\n",
              "      <td>0.0</td>\n",
              "      <td>0.0</td>\n",
              "      <td>0.0</td>\n",
              "      <td>0.0</td>\n",
              "      <td>0.0</td>\n",
              "      <td>0.0</td>\n",
              "      <td>0.0</td>\n",
              "      <td>0.0</td>\n",
              "      <td>0.0</td>\n",
              "      <td>0.0</td>\n",
              "      <td>0.0</td>\n",
              "      <td>0.0</td>\n",
              "      <td>0.0</td>\n",
              "      <td>0.0</td>\n",
              "      <td>0.0</td>\n",
              "      <td>1.0</td>\n",
              "      <td>0.0</td>\n",
              "      <td>0.0</td>\n",
              "      <td>0.0</td>\n",
              "      <td>0.0</td>\n",
              "      <td>0.0</td>\n",
              "      <td>0.0</td>\n",
              "      <td>0.0</td>\n",
              "      <td>5.0</td>\n",
              "      <td>...</td>\n",
              "      <td>0.0</td>\n",
              "      <td>0.0</td>\n",
              "      <td>0.0</td>\n",
              "      <td>0.0</td>\n",
              "      <td>0.0</td>\n",
              "      <td>0.0</td>\n",
              "      <td>0.0</td>\n",
              "      <td>0.0</td>\n",
              "      <td>0.0</td>\n",
              "      <td>0.0</td>\n",
              "      <td>0.0</td>\n",
              "      <td>0.0</td>\n",
              "      <td>0.0</td>\n",
              "      <td>0.0</td>\n",
              "      <td>0.0</td>\n",
              "      <td>0.0</td>\n",
              "      <td>0.0</td>\n",
              "      <td>0.0</td>\n",
              "      <td>0.0</td>\n",
              "      <td>0.0</td>\n",
              "      <td>0.0</td>\n",
              "      <td>0.0</td>\n",
              "      <td>0.0</td>\n",
              "      <td>0.0</td>\n",
              "      <td>0.0</td>\n",
              "      <td>0.0</td>\n",
              "      <td>0.0</td>\n",
              "      <td>0.0</td>\n",
              "      <td>0.0</td>\n",
              "      <td>0.0</td>\n",
              "      <td>0.0</td>\n",
              "      <td>0.0</td>\n",
              "      <td>0.0</td>\n",
              "      <td>0.0</td>\n",
              "      <td>0.0</td>\n",
              "      <td>0.0</td>\n",
              "      <td>0.0</td>\n",
              "      <td>0.0</td>\n",
              "      <td>0.0</td>\n",
              "      <td>0.0</td>\n",
              "    </tr>\n",
              "    <tr>\n",
              "      <th>3</th>\n",
              "      <td>2011.0</td>\n",
              "      <td>19.113828</td>\n",
              "      <td>4380.0</td>\n",
              "      <td>124.0</td>\n",
              "      <td>1.0</td>\n",
              "      <td>1.0</td>\n",
              "      <td>0.0</td>\n",
              "      <td>1.0</td>\n",
              "      <td>0.0</td>\n",
              "      <td>0.0</td>\n",
              "      <td>0.0</td>\n",
              "      <td>0.0</td>\n",
              "      <td>0.0</td>\n",
              "      <td>0.0</td>\n",
              "      <td>0.0</td>\n",
              "      <td>0.0</td>\n",
              "      <td>0.0</td>\n",
              "      <td>0.0</td>\n",
              "      <td>0.0</td>\n",
              "      <td>0.0</td>\n",
              "      <td>0.0</td>\n",
              "      <td>0.0</td>\n",
              "      <td>0.0</td>\n",
              "      <td>0.0</td>\n",
              "      <td>0.0</td>\n",
              "      <td>0.0</td>\n",
              "      <td>0.0</td>\n",
              "      <td>0.0</td>\n",
              "      <td>0.0</td>\n",
              "      <td>0.0</td>\n",
              "      <td>1.0</td>\n",
              "      <td>0.0</td>\n",
              "      <td>0.0</td>\n",
              "      <td>0.0</td>\n",
              "      <td>0.0</td>\n",
              "      <td>0.0</td>\n",
              "      <td>0.0</td>\n",
              "      <td>0.0</td>\n",
              "      <td>0.0</td>\n",
              "      <td>7.0</td>\n",
              "      <td>...</td>\n",
              "      <td>0.0</td>\n",
              "      <td>0.0</td>\n",
              "      <td>0.0</td>\n",
              "      <td>0.0</td>\n",
              "      <td>0.0</td>\n",
              "      <td>0.0</td>\n",
              "      <td>0.0</td>\n",
              "      <td>0.0</td>\n",
              "      <td>0.0</td>\n",
              "      <td>0.0</td>\n",
              "      <td>0.0</td>\n",
              "      <td>0.0</td>\n",
              "      <td>0.0</td>\n",
              "      <td>0.0</td>\n",
              "      <td>0.0</td>\n",
              "      <td>0.0</td>\n",
              "      <td>0.0</td>\n",
              "      <td>0.0</td>\n",
              "      <td>0.0</td>\n",
              "      <td>0.0</td>\n",
              "      <td>0.0</td>\n",
              "      <td>0.0</td>\n",
              "      <td>0.0</td>\n",
              "      <td>0.0</td>\n",
              "      <td>0.0</td>\n",
              "      <td>0.0</td>\n",
              "      <td>0.0</td>\n",
              "      <td>0.0</td>\n",
              "      <td>0.0</td>\n",
              "      <td>0.0</td>\n",
              "      <td>0.0</td>\n",
              "      <td>0.0</td>\n",
              "      <td>0.0</td>\n",
              "      <td>0.0</td>\n",
              "      <td>0.0</td>\n",
              "      <td>1.0</td>\n",
              "      <td>0.0</td>\n",
              "      <td>0.0</td>\n",
              "      <td>1.0</td>\n",
              "      <td>1.0</td>\n",
              "    </tr>\n",
              "    <tr>\n",
              "      <th>4</th>\n",
              "      <td>2011.0</td>\n",
              "      <td>18.035018</td>\n",
              "      <td>4468.0</td>\n",
              "      <td>124.0</td>\n",
              "      <td>1.0</td>\n",
              "      <td>1.0</td>\n",
              "      <td>1.0</td>\n",
              "      <td>0.0</td>\n",
              "      <td>0.0</td>\n",
              "      <td>0.0</td>\n",
              "      <td>0.0</td>\n",
              "      <td>1.0</td>\n",
              "      <td>1.0</td>\n",
              "      <td>1.0</td>\n",
              "      <td>0.0</td>\n",
              "      <td>0.0</td>\n",
              "      <td>0.0</td>\n",
              "      <td>0.0</td>\n",
              "      <td>0.0</td>\n",
              "      <td>0.0</td>\n",
              "      <td>0.0</td>\n",
              "      <td>0.0</td>\n",
              "      <td>0.0</td>\n",
              "      <td>0.0</td>\n",
              "      <td>0.0</td>\n",
              "      <td>0.0</td>\n",
              "      <td>0.0</td>\n",
              "      <td>0.0</td>\n",
              "      <td>0.0</td>\n",
              "      <td>0.0</td>\n",
              "      <td>1.0</td>\n",
              "      <td>0.0</td>\n",
              "      <td>0.0</td>\n",
              "      <td>0.0</td>\n",
              "      <td>0.0</td>\n",
              "      <td>0.0</td>\n",
              "      <td>0.0</td>\n",
              "      <td>0.0</td>\n",
              "      <td>0.0</td>\n",
              "      <td>30.0</td>\n",
              "      <td>...</td>\n",
              "      <td>0.0</td>\n",
              "      <td>0.0</td>\n",
              "      <td>0.0</td>\n",
              "      <td>0.0</td>\n",
              "      <td>0.0</td>\n",
              "      <td>0.0</td>\n",
              "      <td>0.0</td>\n",
              "      <td>0.0</td>\n",
              "      <td>0.0</td>\n",
              "      <td>0.0</td>\n",
              "      <td>0.0</td>\n",
              "      <td>0.0</td>\n",
              "      <td>0.0</td>\n",
              "      <td>0.0</td>\n",
              "      <td>0.0</td>\n",
              "      <td>0.0</td>\n",
              "      <td>0.0</td>\n",
              "      <td>0.0</td>\n",
              "      <td>0.0</td>\n",
              "      <td>0.0</td>\n",
              "      <td>0.0</td>\n",
              "      <td>0.0</td>\n",
              "      <td>0.0</td>\n",
              "      <td>0.0</td>\n",
              "      <td>0.0</td>\n",
              "      <td>0.0</td>\n",
              "      <td>0.0</td>\n",
              "      <td>0.0</td>\n",
              "      <td>0.0</td>\n",
              "      <td>0.0</td>\n",
              "      <td>0.0</td>\n",
              "      <td>0.0</td>\n",
              "      <td>0.0</td>\n",
              "      <td>0.0</td>\n",
              "      <td>0.0</td>\n",
              "      <td>0.0</td>\n",
              "      <td>0.0</td>\n",
              "      <td>0.0</td>\n",
              "      <td>0.0</td>\n",
              "      <td>0.0</td>\n",
              "    </tr>\n",
              "  </tbody>\n",
              "</table>\n",
              "<p>5 rows × 276 columns</p>\n",
              "</div>"
            ],
            "text/plain": [
              "     Year     Budget  ...  Stars rank  Distributor rank\n",
              "0  2011.0  19.283571  ...         1.0               1.0\n",
              "1  2011.0  19.113828  ...         1.0               1.0\n",
              "2  2011.0  19.113828  ...         0.0               0.0\n",
              "3  2011.0  19.113828  ...         1.0               1.0\n",
              "4  2011.0  18.035018  ...         0.0               0.0\n",
              "\n",
              "[5 rows x 276 columns]"
            ]
          },
          "metadata": {
            "tags": []
          },
          "execution_count": 4
        }
      ]
    },
    {
      "cell_type": "code",
      "metadata": {
        "id": "DPK6xzPDSXxb"
      },
      "source": [
        "from sklearn.decomposition import PCA"
      ],
      "execution_count": 5,
      "outputs": []
    },
    {
      "cell_type": "code",
      "metadata": {
        "colab": {
          "base_uri": "https://localhost:8080/",
          "height": 279
        },
        "id": "himk1bAwV9sK",
        "outputId": "3ba02824-cf3c-404d-93e3-9e981b1883e0"
      },
      "source": [
        "pca = PCA().fit(unscaled_data_X)\n",
        "plt.plot(np.cumsum(pca.explained_variance_ratio_))\n",
        "plt.xlabel('number of components')\n",
        "plt.ylabel('cumulative explained variance');\n",
        "plt.grid()\n",
        "\n",
        "plt.show()"
      ],
      "execution_count": 6,
      "outputs": [
        {
          "output_type": "display_data",
          "data": {
            "image/png": "[encoded data removed]",
            "text/plain": [
              "<Figure size 432x288 with 1 Axes>"
            ]
          },
          "metadata": {
            "tags": [],
            "needs_background": "light"
          }
        }
      ]
    },
    {
      "cell_type": "code",
      "metadata": {
        "id": "wD1IPNzvY2pB"
      },
      "source": [
        "# pca.explained_variance_ratio_"
      ],
      "execution_count": 7,
      "outputs": []
    },
    {
      "cell_type": "code",
      "metadata": {
        "colab": {
          "base_uri": "https://localhost:8080/",
          "height": 404
        },
        "id": "g0QhTTAcXv4S",
        "outputId": "b6b6d552-4ffc-426b-b607-12b03516c775"
      },
      "source": [
        "pca = PCA(n_components = 5)\n",
        "principalComponents = pca.fit_transform(unscaled_data_X)\n",
        "principalDf = pd.DataFrame(data = principalComponents)\n",
        "principalDf"
      ],
      "execution_count": 8,
      "outputs": [
        {
          "output_type": "execute_result",
          "data": {
            "text/html": [
              "<div>\n",
              "<style scoped>\n",
              "    .dataframe tbody tr th:only-of-type {\n",
              "        vertical-align: middle;\n",
              "    }\n",
              "\n",
              "    .dataframe tbody tr th {\n",
              "        vertical-align: top;\n",
              "    }\n",
              "\n",
              "    .dataframe thead th {\n",
              "        text-align: right;\n",
              "    }\n",
              "</style>\n",
              "<table border=\"1\" class=\"dataframe\">\n",
              "  <thead>\n",
              "    <tr style=\"text-align: right;\">\n",
              "      <th></th>\n",
              "      <th>0</th>\n",
              "      <th>1</th>\n",
              "      <th>2</th>\n",
              "      <th>3</th>\n",
              "      <th>4</th>\n",
              "    </tr>\n",
              "  </thead>\n",
              "  <tbody>\n",
              "    <tr>\n",
              "      <th>0</th>\n",
              "      <td>2867.194236</td>\n",
              "      <td>50.831437</td>\n",
              "      <td>1.992957</td>\n",
              "      <td>-5.347069</td>\n",
              "      <td>3.481860</td>\n",
              "    </tr>\n",
              "    <tr>\n",
              "      <th>1</th>\n",
              "      <td>3443.068313</td>\n",
              "      <td>-9.418028</td>\n",
              "      <td>1.836468</td>\n",
              "      <td>0.326229</td>\n",
              "      <td>3.650844</td>\n",
              "    </tr>\n",
              "    <tr>\n",
              "      <th>2</th>\n",
              "      <td>3143.077045</td>\n",
              "      <td>-3.777739</td>\n",
              "      <td>-11.060864</td>\n",
              "      <td>3.484456</td>\n",
              "      <td>3.967227</td>\n",
              "    </tr>\n",
              "    <tr>\n",
              "      <th>3</th>\n",
              "      <td>3795.109765</td>\n",
              "      <td>10.861143</td>\n",
              "      <td>-9.174791</td>\n",
              "      <td>1.574731</td>\n",
              "      <td>3.845897</td>\n",
              "    </tr>\n",
              "    <tr>\n",
              "      <th>4</th>\n",
              "      <td>3883.113445</td>\n",
              "      <td>10.637606</td>\n",
              "      <td>13.796744</td>\n",
              "      <td>0.334227</td>\n",
              "      <td>3.647498</td>\n",
              "    </tr>\n",
              "    <tr>\n",
              "      <th>...</th>\n",
              "      <td>...</td>\n",
              "      <td>...</td>\n",
              "      <td>...</td>\n",
              "      <td>...</td>\n",
              "      <td>...</td>\n",
              "    </tr>\n",
              "    <tr>\n",
              "      <th>7091</th>\n",
              "      <td>-584.023836</td>\n",
              "      <td>-46.887700</td>\n",
              "      <td>-14.499834</td>\n",
              "      <td>3.812596</td>\n",
              "      <td>-3.947041</td>\n",
              "    </tr>\n",
              "    <tr>\n",
              "      <th>7092</th>\n",
              "      <td>-583.975377</td>\n",
              "      <td>-24.859228</td>\n",
              "      <td>-2.559708</td>\n",
              "      <td>-5.173353</td>\n",
              "      <td>-4.637612</td>\n",
              "    </tr>\n",
              "    <tr>\n",
              "      <th>7093</th>\n",
              "      <td>-583.921736</td>\n",
              "      <td>0.064202</td>\n",
              "      <td>2.617278</td>\n",
              "      <td>5.864927</td>\n",
              "      <td>-3.699278</td>\n",
              "    </tr>\n",
              "    <tr>\n",
              "      <th>7094</th>\n",
              "      <td>-583.907805</td>\n",
              "      <td>6.091247</td>\n",
              "      <td>10.560643</td>\n",
              "      <td>-0.161396</td>\n",
              "      <td>-4.184573</td>\n",
              "    </tr>\n",
              "    <tr>\n",
              "      <th>7095</th>\n",
              "      <td>-583.956673</td>\n",
              "      <td>-15.918756</td>\n",
              "      <td>-4.412871</td>\n",
              "      <td>5.863746</td>\n",
              "      <td>-3.741616</td>\n",
              "    </tr>\n",
              "  </tbody>\n",
              "</table>\n",
              "<p>7096 rows × 5 columns</p>\n",
              "</div>"
            ],
            "text/plain": [
              "                0          1          2         3         4\n",
              "0     2867.194236  50.831437   1.992957 -5.347069  3.481860\n",
              "1     3443.068313  -9.418028   1.836468  0.326229  3.650844\n",
              "2     3143.077045  -3.777739 -11.060864  3.484456  3.967227\n",
              "3     3795.109765  10.861143  -9.174791  1.574731  3.845897\n",
              "4     3883.113445  10.637606  13.796744  0.334227  3.647498\n",
              "...           ...        ...        ...       ...       ...\n",
              "7091  -584.023836 -46.887700 -14.499834  3.812596 -3.947041\n",
              "7092  -583.975377 -24.859228  -2.559708 -5.173353 -4.637612\n",
              "7093  -583.921736   0.064202   2.617278  5.864927 -3.699278\n",
              "7094  -583.907805   6.091247  10.560643 -0.161396 -4.184573\n",
              "7095  -583.956673 -15.918756  -4.412871  5.863746 -3.741616\n",
              "\n",
              "[7096 rows x 5 columns]"
            ]
          },
          "metadata": {
            "tags": []
          },
          "execution_count": 8
        }
      ]
    },
    {
      "cell_type": "code",
      "metadata": {
        "id": "GyhI1AaAmAue"
      },
      "source": [
        "# X=principalDf\n",
        "# X_train, X_test, Y_train, Y_test = train_test_split(X, unscaled_data_Y, random_state = 0, shuffle=True)"
      ],
      "execution_count": 9,
      "outputs": []
    },
    {
      "cell_type": "code",
      "metadata": {
        "id": "LnVRfRih335s"
      },
      "source": [
        "a=unscaled_data_X.iloc[:,0]==2019\n",
        "ind_list=[i for i, unscaled_data_X in enumerate(a) if unscaled_data_X]\n",
        "# print(ind_list)\n",
        "X=principalDf\n",
        "# 2019 Y data choose as test samples other as train \n",
        "Y_train=[i for i in unscaled_data_Y[ind_list]]\n",
        "Y_test=[i for i in unscaled_data_Y[:ind_list[0]-1]]\n",
        "X_train, X_test, Y_train, Y_test = train_test_split(X, unscaled_data_Y,train_size=len(unscaled_data_Y)-len(ind_list),test_size=len(ind_list), shuffle=False)\n",
        "\n",
        "from sklearn.utils import shuffle\n",
        "X_train,Y_train = shuffle(X_train,Y_train,random_state=0)\n",
        "X_test,Y_test = shuffle(X_test,Y_test,random_state=0)\n",
        "\n"
      ],
      "execution_count": 10,
      "outputs": []
    },
    {
      "cell_type": "code",
      "metadata": {
        "colab": {
          "base_uri": "https://localhost:8080/"
        },
        "id": "EzjA7POI3tJU",
        "outputId": "5540e5bc-7d0b-4509-efe7-966c18051591"
      },
      "source": [
        "len(Y_train)"
      ],
      "execution_count": 11,
      "outputs": [
        {
          "output_type": "execute_result",
          "data": {
            "text/plain": [
              "6332"
            ]
          },
          "metadata": {
            "tags": []
          },
          "execution_count": 11
        }
      ]
    },
    {
      "cell_type": "markdown",
      "metadata": {
        "id": "IadpDQ_ZZ4an"
      },
      "source": [
        "# linear regression"
      ]
    },
    {
      "cell_type": "code",
      "metadata": {
        "id": "HiP90ePDhv5a"
      },
      "source": [
        "from sklearn.metrics import mean_absolute_error, mean_squared_error, mean_squared_log_error, max_error"
      ],
      "execution_count": 12,
      "outputs": []
    },
    {
      "cell_type": "code",
      "metadata": {
        "colab": {
          "base_uri": "https://localhost:8080/"
        },
        "id": "kh5BWHOf7pwo",
        "outputId": "0ad28016-8af5-4026-ecf0-f557dfe01ad8"
      },
      "source": [
        "%%time\n",
        "from sklearn.linear_model import LinearRegression\n",
        "reg = LinearRegression().fit(X_train, Y_train)# fit train data\n",
        "score=reg.score(X_test,Y_test)\n",
        "print('score=',score)\n",
        "coef=reg.coef_\n",
        "# print('coef=',coef)\n"
      ],
      "execution_count": 13,
      "outputs": [
        {
          "output_type": "stream",
          "text": [
            "score= -0.008389619913057311\n",
            "CPU times: user 6.14 ms, sys: 60 µs, total: 6.2 ms\n",
            "Wall time: 6.65 ms\n"
          ],
          "name": "stdout"
        }
      ]
    },
    {
      "cell_type": "code",
      "metadata": {
        "colab": {
          "base_uri": "https://localhost:8080/"
        },
        "id": "nIrL_rUDuO2P",
        "outputId": "36451d28-5d2d-4442-b0ae-9177c33f13ca"
      },
      "source": [
        "%%time\n",
        "predict= reg.predict(X_test)"
      ],
      "execution_count": 14,
      "outputs": [
        {
          "output_type": "stream",
          "text": [
            "CPU times: user 1.22 ms, sys: 0 ns, total: 1.22 ms\n",
            "Wall time: 1.18 ms\n"
          ],
          "name": "stdout"
        }
      ]
    },
    {
      "cell_type": "code",
      "metadata": {
        "colab": {
          "base_uri": "https://localhost:8080/"
        },
        "id": "IZ7gofcTjLFP",
        "outputId": "0a8c2839-8568-46e9-bc58-331b142b024b"
      },
      "source": [
        "mean_squared_error(Y_test, predict)"
      ],
      "execution_count": 16,
      "outputs": [
        {
          "output_type": "execute_result",
          "data": {
            "text/plain": [
              "7.286856301734437"
            ]
          },
          "metadata": {
            "tags": []
          },
          "execution_count": 16
        }
      ]
    },
    {
      "cell_type": "code",
      "metadata": {
        "id": "81-BfnprOcbF"
      },
      "source": [
        "from sklearn.model_selection import learning_curve\n",
        "ns_list=[500,800,1500,2000,2500,3000,4000,5000]\n",
        "ns_list,train_scores, valid_scores = learning_curve(LinearRegression(), X_train, Y_train,train_sizes = ns_list, scoring='neg_mean_squared_error')\n",
        "\n",
        "train_scores_mean =-np.mean(train_scores, axis=1)\n",
        "train_scores_std = np.std(train_scores, axis=1)\n",
        "valid_scores_mean =-np.mean(valid_scores, axis=1)\n",
        "valid_scores_std = np.std(valid_scores, axis=1)"
      ],
      "execution_count": 58,
      "outputs": []
    },
    {
      "cell_type": "code",
      "metadata": {
        "colab": {
          "base_uri": "https://localhost:8080/",
          "height": 295
        },
        "id": "0eqJPUUAstQs",
        "outputId": "9259ba06-db52-4fad-8415-fdee5a8048de"
      },
      "source": [
        "#plot\n",
        "plt_title = 'learning curve for regression with linear regression'#.format(k)\n",
        "\n",
        "fig = plt.figure()\n",
        "ax = fig.add_subplot(111, xlabel='#sample', ylabel='l2 loss score', title=plt_title)\n",
        "plt.plot(ns_list, train_scores_mean, label=\"Training score\",\n",
        "             color=\"darkorange\", lw=2)\n",
        "plt.fill_between(ns_list, train_scores_mean - train_scores_std,\n",
        "                 train_scores_mean + train_scores_std, alpha=0.2,\n",
        "                 color=\"darkorange\", lw=2)\n",
        "plt.plot(ns_list, valid_scores_mean, label=\"Validation score\",\n",
        "             color=\"navy\", lw=2)\n",
        "plt.fill_between(ns_list, valid_scores_mean - valid_scores_std,\n",
        "                 valid_scores_mean + valid_scores_std, alpha=0.2,\n",
        "                 color=\"navy\", lw=2)\n",
        "plt.legend(loc=\"best\")\n",
        "plt.savefig('learning_lin_l2_loss.png', dpi = 500)\n",
        "# plt.savefig('learning_lin_l2_loss.eps', format='eps',dpi=300)\n",
        "plt.grid()\n",
        "plt.show()"
      ],
      "execution_count": 62,
      "outputs": [
        {
          "output_type": "display_data",
          "data": {
            "image/png": "[encoded data removed]",
            "text/plain": [
              "<Figure size 432x288 with 1 Axes>"
            ]
          },
          "metadata": {
            "tags": [],
            "needs_background": "light"
          }
        }
      ]
    },
    {
      "cell_type": "markdown",
      "metadata": {
        "id": "DpnHykCSxae_"
      },
      "source": [
        "# sgd regression"
      ]
    },
    {
      "cell_type": "code",
      "metadata": {
        "colab": {
          "base_uri": "https://localhost:8080/"
        },
        "id": "WET_I95xxezC",
        "outputId": "7230fdbb-a8ea-44e4-d3ba-379e2afe1d3b"
      },
      "source": [
        "%%time\n",
        "import numpy as np\n",
        "from sklearn.linear_model import SGDRegressor\n",
        "from sklearn.pipeline import make_pipeline\n",
        "from sklearn.preprocessing import StandardScaler\n",
        "reg = make_pipeline(StandardScaler(),\n",
        "                     SGDRegressor(max_iter=1000, tol=1e-3))\n",
        "reg.fit(X_train, Y_train)"
      ],
      "execution_count": null,
      "outputs": [
        {
          "output_type": "stream",
          "text": [
            "CPU times: user 20.4 ms, sys: 0 ns, total: 20.4 ms\n",
            "Wall time: 25 ms\n"
          ],
          "name": "stdout"
        }
      ]
    },
    {
      "cell_type": "code",
      "metadata": {
        "colab": {
          "base_uri": "https://localhost:8080/"
        },
        "id": "Qrt21sY2x4hQ",
        "outputId": "c04865da-3d9c-4a82-c9a4-01dc85728a18"
      },
      "source": [
        "%%time\n",
        "reg.predict(X_test)\n",
        "print(reg.score)"
      ],
      "execution_count": null,
      "outputs": [
        {
          "output_type": "stream",
          "text": [
            "<function Pipeline.score at 0x7fe89046eef0>\n",
            "CPU times: user 2.04 ms, sys: 0 ns, total: 2.04 ms\n",
            "Wall time: 1.81 ms\n"
          ],
          "name": "stdout"
        }
      ]
    },
    {
      "cell_type": "markdown",
      "metadata": {
        "id": "HFa1XgChaEyf"
      },
      "source": [
        "\n",
        "\n",
        "# polynomial regression"
      ]
    },
    {
      "cell_type": "code",
      "metadata": {
        "colab": {
          "base_uri": "https://localhost:8080/"
        },
        "id": "AkYiBKf2YNvf",
        "outputId": "d05b8fd5-14c8-4f98-9fc8-8f129b93419a"
      },
      "source": [
        "%%time\n",
        "from sklearn.preprocessing import PolynomialFeatures\n",
        "from sklearn.linear_model import LinearRegression\n",
        "from sklearn.pipeline import make_pipeline\n",
        "\n",
        "polyreg=make_pipeline(PolynomialFeatures(degree=2),LinearRegression())\n",
        "polyreg.fit(X_train,Y_train)"
      ],
      "execution_count": 34,
      "outputs": [
        {
          "output_type": "stream",
          "text": [
            "CPU times: user 12.4 ms, sys: 2 ms, total: 14.4 ms\n",
            "Wall time: 16 ms\n"
          ],
          "name": "stdout"
        }
      ]
    },
    {
      "cell_type": "code",
      "metadata": {
        "colab": {
          "base_uri": "https://localhost:8080/"
        },
        "id": "DOc8SqBztLig",
        "outputId": "7e64c830-c606-4f14-cc80-50fdcdd15721"
      },
      "source": [
        "%%time\n",
        "polyreg.predict(X_test)\n",
        "print(polyreg.score(X_test,Y_test))"
      ],
      "execution_count": 35,
      "outputs": [
        {
          "output_type": "stream",
          "text": [
            "0.5307460739941644\n",
            "CPU times: user 4.88 ms, sys: 5.87 ms, total: 10.7 ms\n",
            "Wall time: 9.57 ms\n"
          ],
          "name": "stdout"
        }
      ]
    },
    {
      "cell_type": "code",
      "metadata": {
        "colab": {
          "base_uri": "https://localhost:8080/"
        },
        "id": "IPCbO0aoNJX4",
        "outputId": "cca81194-06bf-4850-8ad3-c965595ddd42"
      },
      "source": [
        "from sklearn.metrics import r2_score\n",
        "# R2 (test)\n",
        "r2_score(Y_test,polyreg.predict(X_test))"
      ],
      "execution_count": 37,
      "outputs": [
        {
          "output_type": "execute_result",
          "data": {
            "text/plain": [
              "0.5307460739941644"
            ]
          },
          "metadata": {
            "tags": []
          },
          "execution_count": 37
        }
      ]
    },
    {
      "cell_type": "code",
      "metadata": {
        "colab": {
          "base_uri": "https://localhost:8080/"
        },
        "id": "ZqQryLACAEJV",
        "outputId": "8b924eec-74ff-493c-e661-297950a2d46c"
      },
      "source": [
        "#R2 (train)\n",
        "r2_score(Y_train,regr.predict(X_train))"
      ],
      "execution_count": 38,
      "outputs": [
        {
          "output_type": "execute_result",
          "data": {
            "text/plain": [
              "0.589830970016633"
            ]
          },
          "metadata": {
            "tags": []
          },
          "execution_count": 38
        }
      ]
    },
    {
      "cell_type": "code",
      "metadata": {
        "colab": {
          "base_uri": "https://localhost:8080/"
        },
        "id": "0xYuN5our3SY",
        "outputId": "19cb5a8c-e4a9-4d4a-906f-f7d89b7b66e7"
      },
      "source": [
        "# MSE(test)\n",
        "mean_squared_error( polyreg.predict(X_test),Y_test)"
      ],
      "execution_count": 39,
      "outputs": [
        {
          "output_type": "execute_result",
          "data": {
            "text/plain": [
              "3.3909372531264896"
            ]
          },
          "metadata": {
            "tags": []
          },
          "execution_count": 39
        }
      ]
    },
    {
      "cell_type": "code",
      "metadata": {
        "colab": {
          "base_uri": "https://localhost:8080/"
        },
        "id": "_xaVUt3y5hzs",
        "outputId": "c6d10f53-d61f-46cf-c0a4-f8aab9b540fe"
      },
      "source": [
        "#MSE(train)\n",
        "mean_squared_error( polyreg.predict(X_train),Y_train)"
      ],
      "execution_count": 40,
      "outputs": [
        {
          "output_type": "execute_result",
          "data": {
            "text/plain": [
              "4.001765325454294"
            ]
          },
          "metadata": {
            "tags": []
          },
          "execution_count": 40
        }
      ]
    },
    {
      "cell_type": "code",
      "metadata": {
        "colab": {
          "base_uri": "https://localhost:8080/"
        },
        "id": "DIzJP8b4M6gG",
        "outputId": "56ea5084-2ecc-428f-dc7c-7305a9defc55"
      },
      "source": [
        "mean_absolute_error( polyreg.predict(X_test),Y_test)"
      ],
      "execution_count": 109,
      "outputs": [
        {
          "output_type": "execute_result",
          "data": {
            "text/plain": [
              "1.4229728477532024"
            ]
          },
          "metadata": {
            "tags": []
          },
          "execution_count": 109
        }
      ]
    },
    {
      "cell_type": "markdown",
      "metadata": {
        "id": "50QLExXJp3o1"
      },
      "source": [
        "*plot* validation curve and learning curve\n",
        "\n",
        "\n",
        "1.   loss score vs degrees\n",
        "2.   loss score vs #sample\n",
        "\n"
      ]
    },
    {
      "cell_type": "code",
      "metadata": {
        "id": "V_7BlVjojSJQ",
        "colab": {
          "base_uri": "https://localhost:8080/"
        },
        "outputId": "8f2c8a7d-9f1b-4f8c-cf8a-3b9fc938cabe"
      },
      "source": [
        "%%time\n",
        "degrees = np.arange(1, 10)\n",
        "from sklearn.model_selection import validation_curve\n",
        "train_scores, valid_scores = validation_curve(polyreg, X_train, Y_train,param_name='polynomialfeatures__degree',\n",
        "                 param_range=degrees ,  scoring='neg_mean_squared_error' )\n",
        "train_scores_mean =-np.mean(train_scores, axis=1)\n",
        "train_scores_std = np.std(train_scores, axis=1)\n",
        "valid_scores_mean =-np.mean(valid_scores, axis=1)\n",
        "valid_scores_std = np.std(valid_scores, axis=1)"
      ],
      "execution_count": 87,
      "outputs": [
        {
          "output_type": "stream",
          "text": [
            "CPU times: user 1min 14s, sys: 9.12 s, total: 1min 24s\n",
            "Wall time: 43.3 s\n"
          ],
          "name": "stdout"
        }
      ]
    },
    {
      "cell_type": "code",
      "metadata": {
        "id": "O_bTM-b6jjaY",
        "colab": {
          "base_uri": "https://localhost:8080/",
          "height": 295
        },
        "outputId": "b05ac72d-a36d-466b-bf94-74d14acba75a"
      },
      "source": [
        "plt_title = '   Validation curve for regression with polynomial regression'#.format(k)\n",
        "fig = plt.figure()\n",
        "ax = fig.add_subplot(111, xlabel='degrees', ylabel='L2-loss score', title=plt_title)\n",
        "\n",
        "plt.semilogy(degrees, valid_scores_mean, label=\"Validation score\",marker='*',\n",
        "             color=\"navy\", lw=2)\n",
        "plt.semilogy(degrees, train_scores_mean, label=\"Training score\",marker='*',\n",
        "             color=\"darkorange\", lw=2)\n",
        "plt.fill_between(degrees, train_scores_mean - train_scores_std,\n",
        "                 train_scores_mean + train_scores_std, alpha=0.2,\n",
        "                 color=\"darkorange\", lw=2)\n",
        "\n",
        "plt.fill_between(degrees, valid_scores_mean - valid_scores_std,\n",
        "                 valid_scores_mean + valid_scores_std, alpha=0.2,\n",
        "                 color=\"navy\", lw=2)\n",
        "plt.legend(loc=\"best\")\n",
        "\n",
        "# plt.savefig('validation_poly_l2_loss.eps', format='eps',dpi=300)\n",
        "plt.grid()\n",
        "\n",
        "plt.savefig('validation_poly_l2_loss.png', dpi = 300)\n",
        "plt.show()"
      ],
      "execution_count": 89,
      "outputs": [
        {
          "output_type": "display_data",
          "data": {
            "image/png": "[encoded data removed]",
            "text/plain": [
              "<Figure size 432x288 with 1 Axes>"
            ]
          },
          "metadata": {
            "tags": [],
            "needs_background": "light"
          }
        }
      ]
    },
    {
      "cell_type": "code",
      "metadata": {
        "id": "uZkMcdDgZX3y"
      },
      "source": [
        "valid_scores_mean"
      ],
      "execution_count": null,
      "outputs": []
    },
    {
      "cell_type": "code",
      "metadata": {
        "id": "YdyniucGZdUb"
      },
      "source": [
        "train_scores_mean"
      ],
      "execution_count": null,
      "outputs": []
    },
    {
      "cell_type": "code",
      "metadata": {
        "colab": {
          "base_uri": "https://localhost:8080/",
          "height": 295
        },
        "id": "g-ZREkHOYeTm",
        "outputId": "6c3de9fc-2cc0-4c8c-a1ff-640bc19a7b19"
      },
      "source": [
        "plt_title = '   Validation curve with polynomial regression'#.format(k)\n",
        "fig = plt.figure()\n",
        "ax = fig.add_subplot(111, xlabel='degrees', ylabel='L2-loss score', title=plt_title)\n",
        "\n",
        "plt.semilogy(degrees, valid_scores_mean, label=\"Validation score\",\n",
        "             color=\"navy\", lw=2)\n",
        "plt.semilogy(degrees, train_scores_mean, label=\"Training score\",\n",
        "             color=\"darkorange\", lw=2)\n",
        "plt.xlim(7,9)\n",
        "plt.fill_between(degrees, train_scores_mean - train_scores_std,\n",
        "                 train_scores_mean + train_scores_std, alpha=0.2,\n",
        "                 color=\"darkorange\", lw=2)\n",
        "\n",
        "plt.fill_between(degrees, valid_scores_mean - valid_scores_std,\n",
        "                 valid_scores_mean + valid_scores_std, alpha=0.2,\n",
        "                 color=\"navy\", lw=2)\n",
        "plt.legend(loc=\"best\")\n",
        "plt.savefig('validation_poly_l2_loss_part2.png', dpi = 300)\n",
        "# plt.savefig('validation_poly_l2_loss.eps', format='eps',dpi=300)\n",
        "plt.show()"
      ],
      "execution_count": 41,
      "outputs": [
        {
          "output_type": "display_data",
          "data": {
            "image/png": "[encoded data removed]",
            "text/plain": [
              "<Figure size 432x288 with 1 Axes>"
            ]
          },
          "metadata": {
            "tags": [],
            "needs_background": "light"
          }
        }
      ]
    },
    {
      "cell_type": "code",
      "metadata": {
        "id": "7KzSVScjpOYa"
      },
      "source": [
        "from sklearn.model_selection import learning_curve\n",
        "ns_list=[500,800,1500,2000,2500,3000,4000,5000]\n",
        "ns_list,train_scores, valid_scores = learning_curve(polyreg, X_train, Y_train,train_sizes = ns_list,scoring='neg_mean_squared_error' )\n",
        "\n",
        "train_scores_mean =-np.mean(train_scores, axis=1)\n",
        "train_scores_std = np.std(train_scores, axis=1)\n",
        "valid_scores_mean =-np.mean(valid_scores, axis=1)\n",
        "valid_scores_std = np.std(valid_scores, axis=1)"
      ],
      "execution_count": 91,
      "outputs": []
    },
    {
      "cell_type": "code",
      "metadata": {
        "colab": {
          "base_uri": "https://localhost:8080/",
          "height": 295
        },
        "id": "YzAJmx7ptgli",
        "outputId": "faa193a4-ba5c-4c7c-f4fb-9094fe0949a1"
      },
      "source": [
        "plt_title = 'learning curve for regression with polynomial regression'#.format(k)\n",
        "\n",
        "fig = plt.figure()\n",
        "ax = fig.add_subplot(111, xlabel='# sample', ylabel='l2 loss score', title=plt_title)\n",
        "plt.plot(ns_list, valid_scores_mean, label=\"Validation score\",\n",
        "             color=\"navy\", lw=2)\n",
        "plt.plot(ns_list, train_scores_mean, label=\"Training score\",\n",
        "             color=\"darkorange\", lw=2)\n",
        "plt.fill_between(ns_list, train_scores_mean - train_scores_std,\n",
        "                 train_scores_mean + train_scores_std, alpha=0.2,\n",
        "                 color=\"darkorange\", lw=2)\n",
        "\n",
        "plt.fill_between(ns_list, valid_scores_mean - valid_scores_std,\n",
        "                 valid_scores_mean + valid_scores_std, alpha=0.2,\n",
        "                 color=\"navy\", lw=2)\n",
        "plt.legend(loc=\"best\")\n",
        "# plt.savefig('learning_poly_l2_loss.eps', format='eps',dpi=300)\n",
        "plt.grid()\n",
        "\n",
        "plt.savefig('learning_poly_l2_loss.png', dpi = 300)\n",
        "plt.show()"
      ],
      "execution_count": 92,
      "outputs": [
        {
          "output_type": "display_data",
          "data": {
            "image/png": "[encoded data removed]",
            "text/plain": [
              "<Figure size 432x288 with 1 Axes>"
            ]
          },
          "metadata": {
            "tags": [],
            "needs_background": "light"
          }
        }
      ]
    },
    {
      "cell_type": "markdown",
      "metadata": {
        "id": "VNE-ntICfvhv"
      },
      "source": [
        "# SVR"
      ]
    },
    {
      "cell_type": "code",
      "metadata": {
        "id": "PC-PBWb7Kaq7"
      },
      "source": [
        "from sklearn.svm import SVR\n",
        "from sklearn.pipeline import make_pipeline\n",
        "from sklearn.preprocessing import StandardScaler,MinMaxScaler\n",
        "import numpy as np"
      ],
      "execution_count": 17,
      "outputs": []
    },
    {
      "cell_type": "markdown",
      "metadata": {
        "id": "VYSDDGiwuQxd"
      },
      "source": [
        "***polynomial SVR***"
      ]
    },
    {
      "cell_type": "code",
      "metadata": {
        "id": "eS-NYwWSuSnN",
        "colab": {
          "base_uri": "https://localhost:8080/"
        },
        "outputId": "56f26e72-9279-4311-eae1-7e5b437df9b9"
      },
      "source": [
        "#fit data\n",
        "%%time\n",
        "\n",
        "svr_poly = SVR(kernel='poly' ,degree=1 ,gamma='auto',epsilon=.1, C=2 )\n",
        "regr = make_pipeline(MinMaxScaler(),svr_poly)\n",
        "fit_poly=regr.fit(X_train, Y_train)\n"
      ],
      "execution_count": 28,
      "outputs": [
        {
          "output_type": "stream",
          "text": [
            "CPU times: user 1.87 s, sys: 26.9 ms, total: 1.9 s\n",
            "Wall time: 1.91 s\n"
          ],
          "name": "stdout"
        }
      ]
    },
    {
      "cell_type": "code",
      "metadata": {
        "id": "7dH3D9haudFE",
        "colab": {
          "base_uri": "https://localhost:8080/"
        },
        "outputId": "88a86c8a-28eb-4c61-a555-eca7a124013c"
      },
      "source": [
        "#predict data\n",
        "%%time\n",
        "\n",
        "predict_poly=regr.predict(X_test)\n",
        "score_poly=regr.score(X_test,Y_test)\n",
        "print(score_poly)"
      ],
      "execution_count": 29,
      "outputs": [
        {
          "output_type": "stream",
          "text": [
            "0.4845980403643829\n",
            "CPU times: user 103 ms, sys: 992 µs, total: 104 ms\n",
            "Wall time: 104 ms\n"
          ],
          "name": "stdout"
        }
      ]
    },
    {
      "cell_type": "code",
      "metadata": {
        "colab": {
          "base_uri": "https://localhost:8080/"
        },
        "id": "lI1smcrd4PXw",
        "outputId": "0ac4c697-2001-40f9-ff54-c1946bea5634"
      },
      "source": [
        "# MSE(test)\n",
        "mean_squared_error(Y_test, predict_poly)"
      ],
      "execution_count": 30,
      "outputs": [
        {
          "output_type": "execute_result",
          "data": {
            "text/plain": [
              "3.724413602969142"
            ]
          },
          "metadata": {
            "tags": []
          },
          "execution_count": 30
        }
      ]
    },
    {
      "cell_type": "code",
      "metadata": {
        "colab": {
          "base_uri": "https://localhost:8080/"
        },
        "id": "s7MuJ2et_Mms",
        "outputId": "e311a87d-a302-4a7c-91ac-9f958fc7642c"
      },
      "source": [
        "#MSE(train)\n",
        "mean_squared_error(Y_train, regr.predict(X_train))"
      ],
      "execution_count": 31,
      "outputs": [
        {
          "output_type": "execute_result",
          "data": {
            "text/plain": [
              "4.340829605932672"
            ]
          },
          "metadata": {
            "tags": []
          },
          "execution_count": 31
        }
      ]
    },
    {
      "cell_type": "code",
      "metadata": {
        "colab": {
          "base_uri": "https://localhost:8080/"
        },
        "id": "H5Xy-7R34aB4",
        "outputId": "5cce5733-537e-46ae-ffb1-0a8cf9e4d751"
      },
      "source": [
        "#MAE(test)\n",
        "mean_absolute_error(Y_test, predict_poly) "
      ],
      "execution_count": 51,
      "outputs": [
        {
          "output_type": "stream",
          "text": [
            "1.784766931095598\n"
          ],
          "name": "stdout"
        },
        {
          "output_type": "execute_result",
          "data": {
            "text/plain": [
              "1.784766931095598"
            ]
          },
          "metadata": {
            "tags": []
          },
          "execution_count": 51
        }
      ]
    },
    {
      "cell_type": "code",
      "metadata": {
        "colab": {
          "base_uri": "https://localhost:8080/"
        },
        "id": "BHAF_7Pz_jq0",
        "outputId": "1468f7c6-f08c-4606-ae68-90e63123175f"
      },
      "source": [
        "#R2(test)\n",
        "r2_score(Y_test,regr.predict(X_test))"
      ],
      "execution_count": 32,
      "outputs": [
        {
          "output_type": "execute_result",
          "data": {
            "text/plain": [
              "0.4845980403643829"
            ]
          },
          "metadata": {
            "tags": []
          },
          "execution_count": 32
        }
      ]
    },
    {
      "cell_type": "code",
      "metadata": {
        "colab": {
          "base_uri": "https://localhost:8080/"
        },
        "id": "Y3dHbOY2_v-t",
        "outputId": "a2148950-aa89-47d7-e166-7117f5a0348f"
      },
      "source": [
        "#R2(train)\n",
        "r2_score(Y_train,regr.predict(X_train))"
      ],
      "execution_count": 33,
      "outputs": [
        {
          "output_type": "execute_result",
          "data": {
            "text/plain": [
              "0.589830970016633"
            ]
          },
          "metadata": {
            "tags": []
          },
          "execution_count": 33
        }
      ]
    },
    {
      "cell_type": "markdown",
      "metadata": {
        "id": "6eKYNkoxVWWV"
      },
      "source": [
        " Gridsearh to find optimum value of parameter (C and degree)"
      ]
    },
    {
      "cell_type": "code",
      "metadata": {
        "colab": {
          "base_uri": "https://localhost:8080/"
        },
        "id": "oDqKkybixuXf",
        "outputId": "6a047e9d-8b1d-496d-f90d-82764ffb14d4"
      },
      "source": [
        "from sklearn.model_selection import GridSearchCV\n",
        "# svr_rbf = SVR(kernel='poly')\n",
        "parameters = {'degree':[1,2,3], 'C':[0.0001, 2,10]}\n",
        "base_estimator = SVR(kernel='poly')\n",
        "gs=GridSearchCV(base_estimator,\n",
        "             parameters)\n",
        "\n",
        "# sh = HalvingGridSearchCV(base_estimator, parameters).fit(X_train, Y_train)\n",
        "fit=gs.fit(X_train,Y_train) \n",
        "print(gs.best_score_)\n",
        "print(gs.best_params_)"
      ],
      "execution_count": 19,
      "outputs": [
        {
          "output_type": "stream",
          "text": [
            "0.5891774661038758\n",
            "{'C': 2, 'degree': 1}\n"
          ],
          "name": "stdout"
        }
      ]
    },
    {
      "cell_type": "code",
      "metadata": {
        "id": "na-TqUVwWX0U",
        "colab": {
          "base_uri": "https://localhost:8080/"
        },
        "outputId": "ff78fc09-4d7b-4939-eacf-9f2081eb1764"
      },
      "source": [
        "##validation curve\n",
        "##metric=mean_squared_error\n",
        "%%time\n",
        "\n",
        "from sklearn.model_selection import learning_curve, validation_curve\n",
        "# opt_svr_param = {'C': 0.04, 'degree': 2, 'epsilon': 0.0015, 'gamma': 11}\n",
        "from sklearn.svm  import SVR\n",
        "# param_range = np.logspace(-6, -1, 5)\n",
        "param_range= [1,2,3,4,5,6]\n",
        "svr_poly = SVR(kernel='poly',C=2)\n",
        "\n",
        "train_scores, valid_scores = validation_curve(\n",
        "                                                   estimator = svr_poly, \n",
        "                                                   X = X_train, y = Y_train, param_name='degree',param_range=param_range,\n",
        "                                                   cv = 2,\n",
        "                                                   scoring = 'neg_mean_squared_error')\n",
        "\n",
        "\n",
        "train_scores_mean = -np.mean(train_scores, axis=1)\n",
        "train_scores_std = np.std(train_scores, axis=1)\n",
        "valid_scores_mean = -np.mean(valid_scores, axis=1)\n",
        "valid_scores_std = np.std(valid_scores, axis=1)\n",
        "\n"
      ],
      "execution_count": 27,
      "outputs": [
        {
          "output_type": "stream",
          "text": [
            "CPU times: user 3min 58s, sys: 147 ms, total: 3min 58s\n",
            "Wall time: 3min 58s\n"
          ],
          "name": "stdout"
        }
      ]
    },
    {
      "cell_type": "code",
      "metadata": {
        "colab": {
          "base_uri": "https://localhost:8080/",
          "height": 0
        },
        "id": "5LQX9yFF1va_",
        "outputId": "885c7e8c-ca63-4b16-9745-47907630f8c1"
      },
      "source": [
        "xlabel = 'degree'\n",
        "ylabel = 'L2-loss score'\n",
        "\n",
        "plt_title = 'validation curve for regression with polynomial svr'\n",
        "\n",
        "fig = plt.figure()\n",
        "ax = fig.add_subplot(111, xlabel=xlabel, ylabel=ylabel, title=plt_title)\n",
        "ax.plot(param_range, train_scores_mean, label = 'Training Score')\n",
        "ax.plot(param_range, valid_scores_mean, label = 'Validation Score')\n",
        "\n",
        "plt.fill_between(param_range, train_scores_mean - train_scores_std,\n",
        "                 train_scores_mean + train_scores_std, alpha=0.2,\n",
        "                 color=\"darkblue\", lw=2)\n",
        "plt.fill_between(param_range, valid_scores_mean - valid_scores_std,\n",
        "                 valid_scores_mean + valid_scores_std, alpha=0.2,\n",
        "                 color=\"darkgreen\", lw=2)\n",
        "\n",
        "\n",
        "ax.legend(loc=0)\n",
        "plt.grid()\n",
        "plt.savefig('valid_polysvr.png')\n",
        "plt.show()"
      ],
      "execution_count": 173,
      "outputs": [
        {
          "output_type": "display_data",
          "data": {
            "image/png": "[encoded data removed]",
            "text/plain": [
              "<Figure size 432x288 with 1 Axes>"
            ]
          },
          "metadata": {
            "tags": [],
            "needs_background": "light"
          }
        }
      ]
    },
    {
      "cell_type": "code",
      "metadata": {
        "id": "bqCWTalzXMp8",
        "colab": {
          "base_uri": "https://localhost:8080/",
          "height": 0
        },
        "outputId": "fed21b84-9510-4668-d1bc-e348e11c6af4"
      },
      "source": [
        "#learning curve\n",
        "#metric=mean_squared_error\n",
        "%%time\n",
        "\n",
        "from sklearn.model_selection import learning_curve, validation_curve\n",
        "# opt_svr_param = {'C': 0.04, 'degree': 2, 'epsilon': 0.0015, 'gamma': 11}\n",
        "from sklearn.svm  import SVR\n",
        "\n",
        "svr_poly = SVR(kernel='poly' ,degree=1 , C=2 )\n",
        "ns_list=[500,800,1500,2000,2500,3000]\n",
        "ns_list, train_scores, valid_scores = learning_curve(\n",
        "                                                   estimator = svr_poly, \n",
        "                                                   X = X_train, y = Y_train, \n",
        "                                                   train_sizes = ns_list, cv = 2,\n",
        "                                                   scoring = 'neg_mean_squared_error')\n",
        "\n",
        "\n",
        "train_scores_mean = -np.mean(train_scores, axis=1)\n",
        "train_scores_std = np.std(train_scores, axis=1)\n",
        "valid_scores_mean =- np.mean(valid_scores, axis=1)\n",
        "valid_scores_std = np.std(valid_scores, axis=1)\n",
        "\n",
        "xlabel = 'Sample Size'\n",
        "ylabel = 'L2-loss score'\n",
        "\n",
        "plt_title = 'Learning curve for regression with polynomial svr'\n",
        "\n",
        "fig = plt.figure()\n",
        "ax = fig.add_subplot(111, xlabel=xlabel, ylabel=ylabel, title=plt_title)\n",
        "ax.plot(ns_list, train_scores_mean, label = 'Training Score')\n",
        "ax.plot(ns_list, valid_scores_mean, label = 'Validation Score')\n",
        "\n",
        "plt.fill_between(ns_list, train_scores_mean - train_scores_std,\n",
        "                 train_scores_mean + train_scores_std, alpha=0.2,\n",
        "                 color=\"darkblue\", lw=2)\n",
        "plt.fill_between(ns_list, valid_scores_mean - valid_scores_std,\n",
        "                 valid_scores_mean + valid_scores_std, alpha=0.2,\n",
        "                 color=\"darkgreen\", lw=2)\n",
        "\n",
        "\n",
        "ax.legend(loc=0)\n",
        "plt.grid()\n",
        "plt.savefig('polysvr_learning.png',dpi=300)\n",
        "plt.show()"
      ],
      "execution_count": 47,
      "outputs": [
        {
          "output_type": "display_data",
          "data": {
            "image/png": "[encoded data removed]",
            "text/plain": [
              "<Figure size 432x288 with 1 Axes>"
            ]
          },
          "metadata": {
            "tags": [],
            "needs_background": "light"
          }
        },
        {
          "output_type": "stream",
          "text": [
            "CPU times: user 4.79 s, sys: 48.7 ms, total: 4.84 s\n",
            "Wall time: 4.89 s\n"
          ],
          "name": "stdout"
        }
      ]
    },
    {
      "cell_type": "markdown",
      "metadata": {
        "id": "elhAK7YekstF"
      },
      "source": [
        "***rbf SVR***"
      ]
    },
    {
      "cell_type": "code",
      "metadata": {
        "colab": {
          "base_uri": "https://localhost:8080/"
        },
        "id": "xu0EI5pi1gfT",
        "outputId": "e87774a2-a0f5-4b54-85dd-0d96ce3a5305"
      },
      "source": [
        "#fit data\n",
        "%%time\n",
        "\n",
        "svr_rbf = SVR(kernel='rbf', C=10, gamma=0.00001, epsilon=.1)\n",
        "regr = make_pipeline(svr_rbf)\n",
        "fit_poly=regr.fit(X_train, Y_train)"
      ],
      "execution_count": 41,
      "outputs": [
        {
          "output_type": "stream",
          "text": [
            "CPU times: user 3.33 s, sys: 20.9 ms, total: 3.35 s\n",
            "Wall time: 3.38 s\n"
          ],
          "name": "stdout"
        }
      ]
    },
    {
      "cell_type": "code",
      "metadata": {
        "id": "NLS9UV9autP8",
        "colab": {
          "base_uri": "https://localhost:8080/"
        },
        "outputId": "5262cfea-fcfa-4513-86d2-0a2fd15d763a"
      },
      "source": [
        "#predict data\n",
        "%%time\n",
        "\n",
        "predict_rbf=regr.predict(X_test)\n",
        "score_rbf=regr.score(X_test,Y_test)\n",
        "print(score_rbf)"
      ],
      "execution_count": 42,
      "outputs": [
        {
          "output_type": "stream",
          "text": [
            "0.5357927689006634\n",
            "CPU times: user 267 ms, sys: 14 µs, total: 267 ms\n",
            "Wall time: 269 ms\n"
          ],
          "name": "stdout"
        }
      ]
    },
    {
      "cell_type": "code",
      "metadata": {
        "colab": {
          "base_uri": "https://localhost:8080/"
        },
        "id": "oqYdiyWk3ILQ",
        "outputId": "01846943-0036-4424-eedf-7d9956f8a927"
      },
      "source": [
        "# MSE(test)\n",
        "mean_squared_error(Y_test, predict_rbf) "
      ],
      "execution_count": 43,
      "outputs": [
        {
          "output_type": "execute_result",
          "data": {
            "text/plain": [
              "3.3544686700945423"
            ]
          },
          "metadata": {
            "tags": []
          },
          "execution_count": 43
        }
      ]
    },
    {
      "cell_type": "code",
      "metadata": {
        "colab": {
          "base_uri": "https://localhost:8080/"
        },
        "id": "Zy5sSVhDBOCN",
        "outputId": "dd909bb6-eb16-4b0f-ab1b-6895b3682ffc"
      },
      "source": [
        "#MSE(train)\n",
        "mean_squared_error(Y_train,regr.predict(X_train))"
      ],
      "execution_count": 46,
      "outputs": [
        {
          "output_type": "execute_result",
          "data": {
            "text/plain": [
              "3.7027472202970877"
            ]
          },
          "metadata": {
            "tags": []
          },
          "execution_count": 46
        }
      ]
    },
    {
      "cell_type": "code",
      "metadata": {
        "colab": {
          "base_uri": "https://localhost:8080/"
        },
        "id": "GXifK93H0Sd-",
        "outputId": "c4f8db90-f84d-4026-a31d-e127315fea07"
      },
      "source": [
        "#R2(test)\n",
        "r2_score(Y_test,regr.predict(X_test))"
      ],
      "execution_count": 44,
      "outputs": [
        {
          "output_type": "execute_result",
          "data": {
            "text/plain": [
              "0.5357927689006634"
            ]
          },
          "metadata": {
            "tags": []
          },
          "execution_count": 44
        }
      ]
    },
    {
      "cell_type": "code",
      "metadata": {
        "colab": {
          "base_uri": "https://localhost:8080/"
        },
        "id": "fjVVQCDjA_Xy",
        "outputId": "2ba64931-7aea-495e-e8e9-8ed4fe61d9ec"
      },
      "source": [
        "#R2(train)\n",
        "r2_score(Y_train,regr.predict(X_train))"
      ],
      "execution_count": 45,
      "outputs": [
        {
          "output_type": "execute_result",
          "data": {
            "text/plain": [
              "0.6501239685733886"
            ]
          },
          "metadata": {
            "tags": []
          },
          "execution_count": 45
        }
      ]
    },
    {
      "cell_type": "code",
      "metadata": {
        "colab": {
          "base_uri": "https://localhost:8080/"
        },
        "id": "nnDCiDZR33Kq",
        "outputId": "3102f2a2-3aea-4aec-d27d-d947a88223a8"
      },
      "source": [
        "def mae(y,y_pred):\n",
        "  return np.sum(np.abs(y-y_pred))/len(y)\n",
        "\n",
        "mean_absolute_error(Y_test, predict_rbf)   "
      ],
      "execution_count": 206,
      "outputs": [
        {
          "output_type": "execute_result",
          "data": {
            "text/plain": [
              "1.393045947522241"
            ]
          },
          "metadata": {
            "tags": []
          },
          "execution_count": 206
        }
      ]
    },
    {
      "cell_type": "markdown",
      "metadata": {
        "id": "SSCdv7aNrq8s"
      },
      "source": [
        "Gridsearch to find optimum value of parameter(gamma and C)"
      ]
    },
    {
      "cell_type": "code",
      "metadata": {
        "colab": {
          "base_uri": "https://localhost:8080/"
        },
        "id": "N_M2ULOiSwbl",
        "outputId": "71fd5009-841f-481c-d870-41b039c21b46"
      },
      "source": [
        "from sklearn.model_selection import GridSearchCV\n",
        "# svr_rbf = SVR(kernel='rbf')\n",
        "parameters = {'gamma':[0.00001,2,10], 'C':[0.0001, 2,10]}\n",
        "base_estimator = SVR(kernel='rbf')\n",
        "gs=GridSearchCV(base_estimator,\n",
        "             parameters)\n",
        "\n",
        "# sh = HalvingGridSearchCV(base_estimator, parameters).fit(X_train, Y_train)\n",
        "fit=gs.fit(X_train,Y_train) \n",
        "print(gs.best_score_)\n",
        "print(gs.best_params_)"
      ],
      "execution_count": 212,
      "outputs": [
        {
          "output_type": "stream",
          "text": [
            "0.6471849754799026\n",
            "{'C': 10, 'gamma': 1e-05}\n"
          ],
          "name": "stdout"
        }
      ]
    },
    {
      "cell_type": "code",
      "metadata": {
        "colab": {
          "base_uri": "https://localhost:8080/"
        },
        "id": "spv_Y5JuXL3_",
        "outputId": "abb9491c-c692-493a-c21a-12545643bb74"
      },
      "source": [
        "#validation curve\n",
        "#mean_squared_error\n",
        "%%time\n",
        "from sklearn.model_selection import learning_curve, validation_curve\n",
        "from sklearn.svm  import SVR\n",
        "svr_rbf = SVR(kernel='rbf',C=10)\n",
        "param_range = np.logspace(-6, -1, 20)\n",
        "\n",
        "train_scores, valid_scores = validation_curve(\n",
        "                                                   estimator = svr_rbf, \n",
        "                                                   X = X_train, y = Y_train, \n",
        "                                                    cv = 2,param_name=\"gamma\", param_range=param_range,\n",
        "                                                   scoring = 'neg_mean_squared_error')\n",
        "\n",
        "train_scores_mean = -np.mean(train_scores, axis=1)\n",
        "train_scores_std = np.std(train_scores, axis=1)\n",
        "valid_scores_mean = -np.mean(valid_scores, axis=1)\n",
        "valid_scores_std = np.std(valid_scores, axis=1)"
      ],
      "execution_count": 225,
      "outputs": [
        {
          "output_type": "stream",
          "text": [
            "CPU times: user 1min 5s, sys: 71.9 ms, total: 1min 5s\n",
            "Wall time: 1min 5s\n"
          ],
          "name": "stdout"
        }
      ]
    },
    {
      "cell_type": "code",
      "metadata": {
        "id": "OyAuHouzpHLD",
        "colab": {
          "base_uri": "https://localhost:8080/",
          "height": 0
        },
        "outputId": "ccaa181c-927b-4f5b-fd5a-388ee5af9b4b"
      },
      "source": [
        "#plot\n",
        "xlabel = 'gamma'\n",
        "ylabel = 'L2-loss score'\n",
        "\n",
        "plt_title = 'validation curve for regression with rbf svr'\n",
        "\n",
        "fig = plt.figure()\n",
        "ax = fig.add_subplot(111, xlabel=xlabel, ylabel=ylabel, title=plt_title)\n",
        "ax.semilogx(param_range, valid_scores_mean, label = 'Validation Score')\n",
        "ax.semilogx(param_range, train_scores_mean, label = 'Training Score')\n",
        "\n",
        "\n",
        "\n",
        "plt.fill_between(param_range, train_scores_mean - train_scores_std,\n",
        "                 train_scores_mean + train_scores_std, alpha=0.2,\n",
        "                 color=\"darkblue\", lw=2)\n",
        "plt.fill_between(param_range, valid_scores_mean - valid_scores_std,\n",
        "                 valid_scores_mean + valid_scores_std, alpha=0.2,\n",
        "                 color=\"darkgreen\", lw=2)\n",
        "\n",
        "\n",
        "ax.legend(loc=0)\n",
        "\n",
        "plt.grid()\n",
        "# plt.savefig('validation_l2_loss.eps', format='eps',dpi=300)\n",
        "\n",
        "plt.savefig('validation_gamma_rbf_semilog.png', dpi = 300)\n",
        "plt.show()"
      ],
      "execution_count": 228,
      "outputs": [
        {
          "output_type": "display_data",
          "data": {
            "image/png": "[encoded data removed]",
            "text/plain": [
              "<Figure size 432x288 with 1 Axes>"
            ]
          },
          "metadata": {
            "tags": [],
            "needs_background": "light"
          }
        }
      ]
    },
    {
      "cell_type": "code",
      "metadata": {
        "colab": {
          "base_uri": "https://localhost:8080/",
          "height": 0
        },
        "id": "fx-WJxVASA7O",
        "outputId": "f9311290-02c0-4b8f-b1be-f02d4e17d67d"
      },
      "source": [
        "ig = plt.figure()\n",
        "ax = fig.add_subplot(111, xlabel=xlabel, ylabel=ylabel, title=plt_title)\n",
        "ax.plot(param_range, valid_scores_mean, label = 'Validation Score')\n",
        "ax.plot(param_range, train_scores_mean, label = 'Training Score')\n",
        "plt.xlim(0,0.002)\n",
        "\n",
        "plt.fill_between(param_range, train_scores_mean - train_scores_std,\n",
        "                 train_scores_mean + train_scores_std, alpha=0.2,\n",
        "                 color=\"darkblue\", lw=2)\n",
        "plt.fill_between(param_range, valid_scores_mean - valid_scores_std,\n",
        "                 valid_scores_mean + valid_scores_std, alpha=0.2,\n",
        "                 color=\"darkgreen\", lw=2)\n",
        "\n",
        "\n",
        "ax.legend(loc=0)\n",
        "\n",
        "plt.grid()\n",
        "# plt.savefig('validation_l2_loss.eps', format='eps',dpi=300)\n",
        "\n",
        "plt.savefig('validation_gamma_l2_loss_part1.png', dpi = 300)\n",
        "plt.show()"
      ],
      "execution_count": 128,
      "outputs": [
        {
          "output_type": "stream",
          "text": [
            "/usr/local/lib/python3.7/dist-packages/ipykernel_launcher.py:2: MatplotlibDeprecationWarning: Adding an axes using the same arguments as a previous axes currently reuses the earlier instance.  In a future version, a new instance will always be created and returned.  Meanwhile, this warning can be suppressed, and the future behavior ensured, by passing a unique label to each axes instance.\n",
            "  \n"
          ],
          "name": "stderr"
        },
        {
          "output_type": "display_data",
          "data": {
            "image/png": "[encoded data removed]",
            "text/plain": [
              "<Figure size 432x288 with 1 Axes>"
            ]
          },
          "metadata": {
            "tags": [],
            "needs_background": "light"
          }
        }
      ]
    },
    {
      "cell_type": "code",
      "metadata": {
        "colab": {
          "base_uri": "https://localhost:8080/"
        },
        "id": "oW-9XIsdtJQF",
        "outputId": "b59a6f0e-535b-49ed-c373-da4e18b8ec1f"
      },
      "source": [
        "###validation curve/C parameter\n",
        "###mse\n",
        "%%time\n",
        "from sklearn.model_selection import learning_curve, validation_curve\n",
        "from sklearn.svm  import SVR\n",
        "svr_rbf = SVR(kernel='rbf',gamma=0.00001,epsilon=.1)\n",
        "param_range = np.linspace(0.00001, 11, 20)\n",
        "train_scores, valid_scores = validation_curve(\n",
        "                                                   estimator = svr_rbf, \n",
        "                                                   X = X_train, y = Y_train, \n",
        "                                                    cv = 2,param_name=\"C\", param_range=param_range,\n",
        "                                                   scoring = 'neg_mean_squared_error')\n",
        "\n",
        "train_scores_mean = np.abs(np.mean(train_scores, axis=1))\n",
        "train_scores_std = np.std(train_scores, axis=1)\n",
        "valid_scores_mean =np.abs(np.mean(valid_scores, axis=1))\n",
        "valid_scores_std = np.std(valid_scores, axis=1)"
      ],
      "execution_count": 215,
      "outputs": [
        {
          "output_type": "stream",
          "text": [
            "CPU times: user 55 s, sys: 82.7 ms, total: 55.1 s\n",
            "Wall time: 54.9 s\n"
          ],
          "name": "stdout"
        }
      ]
    },
    {
      "cell_type": "code",
      "metadata": {
        "colab": {
          "base_uri": "https://localhost:8080/",
          "height": 0
        },
        "id": "fTm3Z9X_tjBZ",
        "outputId": "7cb439c8-b932-475f-dbfa-f05900b8ad57"
      },
      "source": [
        "xlabel = 'C'\n",
        "ylabel = 'L2-loss score'\n",
        "\n",
        "plt_title = 'validation curve for regression with rbf svr'\n",
        "\n",
        "fig = plt.figure()\n",
        "ax = fig.add_subplot(111, xlabel=xlabel, ylabel=ylabel, title=plt_title)\n",
        "ax.plot(param_range, valid_scores_mean, label = 'Validation Score')\n",
        "ax.plot(param_range, train_scores_mean, label = 'Training Score')\n",
        "# plt.xlim(5,10)\n",
        "plt.fill_between(param_range, train_scores_mean - train_scores_std,\n",
        "                 train_scores_mean + train_scores_std, alpha=0.2,\n",
        "                 color=\"darkblue\", lw=2)\n",
        "plt.fill_between(param_range, valid_scores_mean - valid_scores_std,\n",
        "                 valid_scores_mean + valid_scores_std, alpha=0.2,\n",
        "                 color=\"darkgreen\", lw=2)\n",
        "\n",
        "\n",
        "ax.legend(loc=0)\n",
        "plt.grid()\n",
        "# plt.savefig('validation_r2_loss.eps', format='eps',dpi=300)\n",
        "\n",
        "plt.savefig('validation_C_l2_loss.png', dpi = 300)\n",
        "plt.show()"
      ],
      "execution_count": 223,
      "outputs": [
        {
          "output_type": "display_data",
          "data": {
            "image/png": "[encoded data removed]",
            "text/plain": [
              "<Figure size 432x288 with 1 Axes>"
            ]
          },
          "metadata": {
            "tags": [],
            "needs_background": "light"
          }
        }
      ]
    },
    {
      "cell_type": "code",
      "metadata": {
        "colab": {
          "base_uri": "https://localhost:8080/"
        },
        "id": "5P2h5VqCZPN9",
        "outputId": "3b99e3db-33e3-42ce-b6c1-a68187a4b6b4"
      },
      "source": [
        "#learning curve\n",
        "#mean_squared_error\n",
        "%%time\n",
        "\n",
        "from sklearn.model_selection import learning_curve, validation_curve\n",
        "from sklearn.svm  import SVR\n",
        "svr_rbf = SVR(kernel='rbf', C=10, gamma=0.00001, epsilon=.1)\n",
        "ns_list=[500,1000,2000,2500,3000,3500,4000,4500,5000]\n",
        "ns_list, train_scores, valid_scores = learning_curve(\n",
        "                                                   estimator = svr_rbf, \n",
        "                                                   X = X_train, y = Y_train, \n",
        "                                                   train_sizes = ns_list, cv = 5,\n",
        "                                                   scoring = 'neg_mean_squared_error')\n",
        "\n",
        "train_scores_mean = -np.mean(train_scores, axis=1)\n",
        "train_scores_std = np.std(train_scores, axis=1)\n",
        "valid_scores_mean =-np.mean(valid_scores, axis=1)\n",
        "valid_scores_std = np.std(valid_scores, axis=1)"
      ],
      "execution_count": 213,
      "outputs": [
        {
          "output_type": "stream",
          "text": [
            "CPU times: user 57.2 s, sys: 200 ms, total: 57.4 s\n",
            "Wall time: 57.3 s\n"
          ],
          "name": "stdout"
        }
      ]
    },
    {
      "cell_type": "code",
      "metadata": {
        "colab": {
          "base_uri": "https://localhost:8080/",
          "height": 0
        },
        "id": "34vpWt7Eopdt",
        "outputId": "7db72bb8-c756-46a3-f928-00f3de04de73"
      },
      "source": [
        "#plot\n",
        "xlabel = 'Sample Size'\n",
        "ylabel = 'L2-loss score'\n",
        "\n",
        "plt_title = 'Learning curve for regression with rbf svr'\n",
        "\n",
        "fig = plt.figure()\n",
        "ax = fig.add_subplot(111, xlabel=xlabel, ylabel=ylabel, title=plt_title)\n",
        "ax.plot(ns_list, train_scores_mean, label = 'Training Score')\n",
        "ax.plot(ns_list, valid_scores_mean, label = 'Validation Score')\n",
        "\n",
        "plt.fill_between(ns_list, train_scores_mean - train_scores_std,\n",
        "                 train_scores_mean + train_scores_std, alpha=0.2,\n",
        "                 color=\"darkblue\", lw=2)\n",
        "plt.fill_between(ns_list, valid_scores_mean - valid_scores_std,\n",
        "                 valid_scores_mean + valid_scores_std, alpha=0.2,\n",
        "                 color=\"darkgreen\", lw=2)\n",
        "\n",
        "\n",
        "ax.legend(loc=0)\n",
        "plt.grid()\n",
        "# plt.savefig('learning_l2_loss.eps', format='eps',dpi=300)\n",
        "\n",
        "plt.savefig('learning_l2_loss.png', dpi = 300)\n",
        "plt.show()"
      ],
      "execution_count": 214,
      "outputs": [
        {
          "output_type": "display_data",
          "data": {
            "image/png": "[encoded data removed]",
            "text/plain": [
              "<Figure size 432x288 with 1 Axes>"
            ]
          },
          "metadata": {
            "tags": [],
            "needs_background": "light"
          }
        }
      ]
    }
  ]
}