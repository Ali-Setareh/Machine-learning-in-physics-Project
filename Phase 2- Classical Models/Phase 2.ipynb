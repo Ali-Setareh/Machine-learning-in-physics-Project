{
 "metadata": {
  "language_info": {
   "codemirror_mode": {
    "name": "ipython",
    "version": 3
   },
   "file_extension": ".py",
   "mimetype": "text/x-python",
   "name": "python",
   "nbconvert_exporter": "python",
   "pygments_lexer": "ipython3",
   "version": "3.8.3"
  },
  "orig_nbformat": 2,
  "kernelspec": {
   "name": "python383jvsc74a57bd084d37dffb2af7f268fc7f49b660c49f0933770a2b2a82a03c1aeb1edb794d7a9",
   "display_name": "Python 3.8.3 64-bit ('base': conda)"
  }
 },
 "nbformat": 4,
 "nbformat_minor": 2,
 "cells": [
  {
   "cell_type": "code",
   "execution_count": 2,
   "metadata": {},
   "outputs": [],
   "source": [
    "import numpy as np \n",
    "import pandas as pd \n",
    "import matplotlib.pyplot as plt \n",
    "import seaborn as sns \n",
    "import sklearn "
   ]
  },
  {
   "cell_type": "code",
   "execution_count": 3,
   "metadata": {},
   "outputs": [],
   "source": [
    "from sklearn.pipeline import Pipeline"
   ]
  },
  {
   "cell_type": "code",
   "execution_count": 17,
   "metadata": {},
   "outputs": [
    {
     "output_type": "execute_result",
     "data": {
      "text/plain": [
       "        IMDB ID     Mojo ID    Year  Opening ($)       Budget  \\\n",
       "0     tt0499549   876971521  2011.0   77025481.0  237000000.0   \n",
       "1     tt0435761  1383564801  2011.0  110307189.0  200000000.0   \n",
       "2     tt1014759  3393226241  2011.0  116101023.0  200000000.0   \n",
       "3     tt1228705  1515881985  2011.0  128122480.0  200000000.0   \n",
       "4     tt1325004   659654145  2011.0   64832191.0   68000000.0   \n",
       "...         ...         ...     ...          ...          ...   \n",
       "7091  tt0104448  2835973633  2019.0       1273.0          NaN   \n",
       "7092  tt9434778   933790209  2019.0        546.0          NaN   \n",
       "7093  tt3737840   621184513  2019.0        790.0          NaN   \n",
       "7094  tt7543930  3389556225  2019.0        348.0          NaN   \n",
       "7095  tt6314766    17401345  2019.0       4400.0          NaN   \n",
       "\n",
       "      Opening Theaters  In Realease (Days)  Widest Release  \\\n",
       "0               3452.0               379.0          3461.0   \n",
       "1               4028.0               203.0          4028.0   \n",
       "2               3728.0               302.0          3739.0   \n",
       "3               4380.0               239.0          4390.0   \n",
       "4               4468.0               185.0          4468.0   \n",
       "...                ...                 ...             ...   \n",
       "7091               1.0               306.0             1.0   \n",
       "7092               1.0               385.0             2.0   \n",
       "7093               1.0               348.0             1.0   \n",
       "7094               1.0               159.0             1.0   \n",
       "7095               1.0               355.0            20.0   \n",
       "\n",
       "      Running time (min)  IMDB score  ...  country Swaziland  \\\n",
       "0                  162.0         7.8  ...                0.0   \n",
       "1                  103.0         8.2  ...                0.0   \n",
       "2                  108.0         6.4  ...                0.0   \n",
       "3                  124.0         7.0  ...                0.0   \n",
       "4                  124.0         5.0  ...                0.0   \n",
       "...                  ...         ...  ...                ...   \n",
       "7091                57.0         6.2  ...                0.0   \n",
       "7092                79.0         6.3  ...                0.0   \n",
       "7093               104.0         5.6  ...                0.0   \n",
       "7094               110.0         7.2  ...                0.0   \n",
       "7095                88.0         4.6  ...                0.0   \n",
       "\n",
       "      country Republic of North Macedonia  country Reunion  \\\n",
       "0                                     0.0              0.0   \n",
       "1                                     0.0              0.0   \n",
       "2                                     0.0              0.0   \n",
       "3                                     0.0              0.0   \n",
       "4                                     0.0              0.0   \n",
       "...                                   ...              ...   \n",
       "7091                                  0.0              0.0   \n",
       "7092                                  0.0              0.0   \n",
       "7093                                  0.0              0.0   \n",
       "7094                                  0.0              0.0   \n",
       "7095                                  0.0              0.0   \n",
       "\n",
       "      additive Producer(s) rank  additive Director(s) rank  \\\n",
       "0                    78817892.4                  8757543.6   \n",
       "1                    24951714.4                  6237928.6   \n",
       "2                    24671872.0                  2467187.2   \n",
       "3                    61036080.0                  5086340.0   \n",
       "4                    10310985.0                  1145665.0   \n",
       "...                         ...                        ...   \n",
       "7091                     4023.8                     4023.8   \n",
       "7092                     1493.1                      497.7   \n",
       "7093                    15775.2                     1752.8   \n",
       "7094                    81496.8                    11642.4   \n",
       "7095                     3919.2                     1959.6   \n",
       "\n",
       "      additive Writer(s) rank  additive Stars rank  additive Distributor rank  \\\n",
       "0                   8757543.6           43787718.0                  8757543.6   \n",
       "1                  43665500.2           37427571.6                  6237928.6   \n",
       "2                   4934374.4           14803123.2                  2467187.2   \n",
       "3                  25431700.0           30518040.0                  5086340.0   \n",
       "4                   2291330.0            6873990.0                  1145665.0   \n",
       "...                       ...                  ...                        ...   \n",
       "7091                   4023.8              28166.6                     4023.8   \n",
       "7092                    497.7               2488.5                      497.7   \n",
       "7093                   3505.6               8764.0                     1752.8   \n",
       "7094                  11642.4              58212.0                    11642.4   \n",
       "7095                   3919.2               6858.6                      979.8   \n",
       "\n",
       "      Domestic Gross ($)  Worldwide Gross ($)  \n",
       "0            749766139.0         2.744337e+09  \n",
       "1            415004880.0         1.066970e+09  \n",
       "2            334191110.0         1.025467e+09  \n",
       "3            312433331.0         6.239333e+08  \n",
       "4            300531751.0         6.984913e+08  \n",
       "...                  ...                  ...  \n",
       "7091              1273.0         1.273000e+03  \n",
       "7092              4140.0         4.140000e+03  \n",
       "7093               790.0         7.900000e+02  \n",
       "7094              1737.0         7.086596e+06  \n",
       "7095               220.0         1.434073e+07  \n",
       "\n",
       "[7096 rows x 288 columns]"
      ],
      "text/html": "<div>\n<style scoped>\n    .dataframe tbody tr th:only-of-type {\n        vertical-align: middle;\n    }\n\n    .dataframe tbody tr th {\n        vertical-align: top;\n    }\n\n    .dataframe thead th {\n        text-align: right;\n    }\n</style>\n<table border=\"1\" class=\"dataframe\">\n  <thead>\n    <tr style=\"text-align: right;\">\n      <th></th>\n      <th>IMDB ID</th>\n      <th>Mojo ID</th>\n      <th>Year</th>\n      <th>Opening ($)</th>\n      <th>Budget</th>\n      <th>Opening Theaters</th>\n      <th>In Realease (Days)</th>\n      <th>Widest Release</th>\n      <th>Running time (min)</th>\n      <th>IMDB score</th>\n      <th>...</th>\n      <th>country Swaziland</th>\n      <th>country Republic of North Macedonia</th>\n      <th>country Reunion</th>\n      <th>additive Producer(s) rank</th>\n      <th>additive Director(s) rank</th>\n      <th>additive Writer(s) rank</th>\n      <th>additive Stars rank</th>\n      <th>additive Distributor rank</th>\n      <th>Domestic Gross ($)</th>\n      <th>Worldwide Gross ($)</th>\n    </tr>\n  </thead>\n  <tbody>\n    <tr>\n      <th>0</th>\n      <td>tt0499549</td>\n      <td>876971521</td>\n      <td>2011.0</td>\n      <td>77025481.0</td>\n      <td>237000000.0</td>\n      <td>3452.0</td>\n      <td>379.0</td>\n      <td>3461.0</td>\n      <td>162.0</td>\n      <td>7.8</td>\n      <td>...</td>\n      <td>0.0</td>\n      <td>0.0</td>\n      <td>0.0</td>\n      <td>78817892.4</td>\n      <td>8757543.6</td>\n      <td>8757543.6</td>\n      <td>43787718.0</td>\n      <td>8757543.6</td>\n      <td>749766139.0</td>\n      <td>2.744337e+09</td>\n    </tr>\n    <tr>\n      <th>1</th>\n      <td>tt0435761</td>\n      <td>1383564801</td>\n      <td>2011.0</td>\n      <td>110307189.0</td>\n      <td>200000000.0</td>\n      <td>4028.0</td>\n      <td>203.0</td>\n      <td>4028.0</td>\n      <td>103.0</td>\n      <td>8.2</td>\n      <td>...</td>\n      <td>0.0</td>\n      <td>0.0</td>\n      <td>0.0</td>\n      <td>24951714.4</td>\n      <td>6237928.6</td>\n      <td>43665500.2</td>\n      <td>37427571.6</td>\n      <td>6237928.6</td>\n      <td>415004880.0</td>\n      <td>1.066970e+09</td>\n    </tr>\n    <tr>\n      <th>2</th>\n      <td>tt1014759</td>\n      <td>3393226241</td>\n      <td>2011.0</td>\n      <td>116101023.0</td>\n      <td>200000000.0</td>\n      <td>3728.0</td>\n      <td>302.0</td>\n      <td>3739.0</td>\n      <td>108.0</td>\n      <td>6.4</td>\n      <td>...</td>\n      <td>0.0</td>\n      <td>0.0</td>\n      <td>0.0</td>\n      <td>24671872.0</td>\n      <td>2467187.2</td>\n      <td>4934374.4</td>\n      <td>14803123.2</td>\n      <td>2467187.2</td>\n      <td>334191110.0</td>\n      <td>1.025467e+09</td>\n    </tr>\n    <tr>\n      <th>3</th>\n      <td>tt1228705</td>\n      <td>1515881985</td>\n      <td>2011.0</td>\n      <td>128122480.0</td>\n      <td>200000000.0</td>\n      <td>4380.0</td>\n      <td>239.0</td>\n      <td>4390.0</td>\n      <td>124.0</td>\n      <td>7.0</td>\n      <td>...</td>\n      <td>0.0</td>\n      <td>0.0</td>\n      <td>0.0</td>\n      <td>61036080.0</td>\n      <td>5086340.0</td>\n      <td>25431700.0</td>\n      <td>30518040.0</td>\n      <td>5086340.0</td>\n      <td>312433331.0</td>\n      <td>6.239333e+08</td>\n    </tr>\n    <tr>\n      <th>4</th>\n      <td>tt1325004</td>\n      <td>659654145</td>\n      <td>2011.0</td>\n      <td>64832191.0</td>\n      <td>68000000.0</td>\n      <td>4468.0</td>\n      <td>185.0</td>\n      <td>4468.0</td>\n      <td>124.0</td>\n      <td>5.0</td>\n      <td>...</td>\n      <td>0.0</td>\n      <td>0.0</td>\n      <td>0.0</td>\n      <td>10310985.0</td>\n      <td>1145665.0</td>\n      <td>2291330.0</td>\n      <td>6873990.0</td>\n      <td>1145665.0</td>\n      <td>300531751.0</td>\n      <td>6.984913e+08</td>\n    </tr>\n    <tr>\n      <th>...</th>\n      <td>...</td>\n      <td>...</td>\n      <td>...</td>\n      <td>...</td>\n      <td>...</td>\n      <td>...</td>\n      <td>...</td>\n      <td>...</td>\n      <td>...</td>\n      <td>...</td>\n      <td>...</td>\n      <td>...</td>\n      <td>...</td>\n      <td>...</td>\n      <td>...</td>\n      <td>...</td>\n      <td>...</td>\n      <td>...</td>\n      <td>...</td>\n      <td>...</td>\n      <td>...</td>\n    </tr>\n    <tr>\n      <th>7091</th>\n      <td>tt0104448</td>\n      <td>2835973633</td>\n      <td>2019.0</td>\n      <td>1273.0</td>\n      <td>NaN</td>\n      <td>1.0</td>\n      <td>306.0</td>\n      <td>1.0</td>\n      <td>57.0</td>\n      <td>6.2</td>\n      <td>...</td>\n      <td>0.0</td>\n      <td>0.0</td>\n      <td>0.0</td>\n      <td>4023.8</td>\n      <td>4023.8</td>\n      <td>4023.8</td>\n      <td>28166.6</td>\n      <td>4023.8</td>\n      <td>1273.0</td>\n      <td>1.273000e+03</td>\n    </tr>\n    <tr>\n      <th>7092</th>\n      <td>tt9434778</td>\n      <td>933790209</td>\n      <td>2019.0</td>\n      <td>546.0</td>\n      <td>NaN</td>\n      <td>1.0</td>\n      <td>385.0</td>\n      <td>2.0</td>\n      <td>79.0</td>\n      <td>6.3</td>\n      <td>...</td>\n      <td>0.0</td>\n      <td>0.0</td>\n      <td>0.0</td>\n      <td>1493.1</td>\n      <td>497.7</td>\n      <td>497.7</td>\n      <td>2488.5</td>\n      <td>497.7</td>\n      <td>4140.0</td>\n      <td>4.140000e+03</td>\n    </tr>\n    <tr>\n      <th>7093</th>\n      <td>tt3737840</td>\n      <td>621184513</td>\n      <td>2019.0</td>\n      <td>790.0</td>\n      <td>NaN</td>\n      <td>1.0</td>\n      <td>348.0</td>\n      <td>1.0</td>\n      <td>104.0</td>\n      <td>5.6</td>\n      <td>...</td>\n      <td>0.0</td>\n      <td>0.0</td>\n      <td>0.0</td>\n      <td>15775.2</td>\n      <td>1752.8</td>\n      <td>3505.6</td>\n      <td>8764.0</td>\n      <td>1752.8</td>\n      <td>790.0</td>\n      <td>7.900000e+02</td>\n    </tr>\n    <tr>\n      <th>7094</th>\n      <td>tt7543930</td>\n      <td>3389556225</td>\n      <td>2019.0</td>\n      <td>348.0</td>\n      <td>NaN</td>\n      <td>1.0</td>\n      <td>159.0</td>\n      <td>1.0</td>\n      <td>110.0</td>\n      <td>7.2</td>\n      <td>...</td>\n      <td>0.0</td>\n      <td>0.0</td>\n      <td>0.0</td>\n      <td>81496.8</td>\n      <td>11642.4</td>\n      <td>11642.4</td>\n      <td>58212.0</td>\n      <td>11642.4</td>\n      <td>1737.0</td>\n      <td>7.086596e+06</td>\n    </tr>\n    <tr>\n      <th>7095</th>\n      <td>tt6314766</td>\n      <td>17401345</td>\n      <td>2019.0</td>\n      <td>4400.0</td>\n      <td>NaN</td>\n      <td>1.0</td>\n      <td>355.0</td>\n      <td>20.0</td>\n      <td>88.0</td>\n      <td>4.6</td>\n      <td>...</td>\n      <td>0.0</td>\n      <td>0.0</td>\n      <td>0.0</td>\n      <td>3919.2</td>\n      <td>1959.6</td>\n      <td>3919.2</td>\n      <td>6858.6</td>\n      <td>979.8</td>\n      <td>220.0</td>\n      <td>1.434073e+07</td>\n    </tr>\n  </tbody>\n</table>\n<p>7096 rows × 288 columns</p>\n</div>"
     },
     "metadata": {},
     "execution_count": 17
    }
   ],
   "source": [
    "df=pd.read_csv('final data set.csv',index_col=0)\n",
    "df=df.drop(['Producer(s) rank',\n",
    "'Director(s) rank',\n",
    "'Writer(s) rank',\n",
    "'Stars rank',\n",
    "'Distributor rank','Worldwide Gross ($)','IMDB score'],axis=1)"
   ]
  },
  {
   "cell_type": "code",
   "execution_count": 18,
   "metadata": {},
   "outputs": [
    {
     "output_type": "execute_result",
     "data": {
      "text/plain": [
       "        IMDB ID     Mojo ID    Year  Opening ($)       Budget  \\\n",
       "0     tt0499549   876971521  2011.0   77025481.0  237000000.0   \n",
       "1     tt0435761  1383564801  2011.0  110307189.0  200000000.0   \n",
       "2     tt1014759  3393226241  2011.0  116101023.0  200000000.0   \n",
       "3     tt1228705  1515881985  2011.0  128122480.0  200000000.0   \n",
       "4     tt1325004   659654145  2011.0   64832191.0   68000000.0   \n",
       "...         ...         ...     ...          ...          ...   \n",
       "7091  tt0104448  2835973633  2019.0       1273.0          NaN   \n",
       "7092  tt9434778   933790209  2019.0        546.0          NaN   \n",
       "7093  tt3737840   621184513  2019.0        790.0          NaN   \n",
       "7094  tt7543930  3389556225  2019.0        348.0          NaN   \n",
       "7095  tt6314766    17401345  2019.0       4400.0          NaN   \n",
       "\n",
       "      Opening Theaters  In Realease (Days)  Widest Release  \\\n",
       "0               3452.0               379.0          3461.0   \n",
       "1               4028.0               203.0          4028.0   \n",
       "2               3728.0               302.0          3739.0   \n",
       "3               4380.0               239.0          4390.0   \n",
       "4               4468.0               185.0          4468.0   \n",
       "...                ...                 ...             ...   \n",
       "7091               1.0               306.0             1.0   \n",
       "7092               1.0               385.0             2.0   \n",
       "7093               1.0               348.0             1.0   \n",
       "7094               1.0               159.0             1.0   \n",
       "7095               1.0               355.0            20.0   \n",
       "\n",
       "      Running time (min)  IMDB score  ...  Writer(s) rank  Stars rank  \\\n",
       "0                  162.0         7.8  ...             0.0         1.0   \n",
       "1                  103.0         8.2  ...             0.0         1.0   \n",
       "2                  108.0         6.4  ...             0.0         0.0   \n",
       "3                  124.0         7.0  ...             0.0         1.0   \n",
       "4                  124.0         5.0  ...             0.0         0.0   \n",
       "...                  ...         ...  ...             ...         ...   \n",
       "7091                57.0         6.2  ...             0.0         0.0   \n",
       "7092                79.0         6.3  ...             0.0         0.0   \n",
       "7093               104.0         5.6  ...             0.0         0.0   \n",
       "7094               110.0         7.2  ...             0.0         0.0   \n",
       "7095                88.0         4.6  ...             0.0         0.0   \n",
       "\n",
       "      Distributor rank  additive Producer(s) rank  additive Director(s) rank  \\\n",
       "0                  1.0                 78817892.4                  8757543.6   \n",
       "1                  1.0                 24951714.4                  6237928.6   \n",
       "2                  0.0                 24671872.0                  2467187.2   \n",
       "3                  1.0                 61036080.0                  5086340.0   \n",
       "4                  0.0                 10310985.0                  1145665.0   \n",
       "...                ...                        ...                        ...   \n",
       "7091               0.0                     4023.8                     4023.8   \n",
       "7092               0.0                     1493.1                      497.7   \n",
       "7093               0.0                    15775.2                     1752.8   \n",
       "7094               0.0                    81496.8                    11642.4   \n",
       "7095               0.0                     3919.2                     1959.6   \n",
       "\n",
       "      additive Writer(s) rank  additive Stars rank  additive Distributor rank  \\\n",
       "0                   8757543.6           43787718.0                  8757543.6   \n",
       "1                  43665500.2           37427571.6                  6237928.6   \n",
       "2                   4934374.4           14803123.2                  2467187.2   \n",
       "3                  25431700.0           30518040.0                  5086340.0   \n",
       "4                   2291330.0            6873990.0                  1145665.0   \n",
       "...                       ...                  ...                        ...   \n",
       "7091                   4023.8              28166.6                     4023.8   \n",
       "7092                    497.7               2488.5                      497.7   \n",
       "7093                   3505.6               8764.0                     1752.8   \n",
       "7094                  11642.4              58212.0                    11642.4   \n",
       "7095                   3919.2               6858.6                      979.8   \n",
       "\n",
       "      Domestic Gross ($)  Worldwide Gross ($)  \n",
       "0            749766139.0         2.744337e+09  \n",
       "1            415004880.0         1.066970e+09  \n",
       "2            334191110.0         1.025467e+09  \n",
       "3            312433331.0         6.239333e+08  \n",
       "4            300531751.0         6.984913e+08  \n",
       "...                  ...                  ...  \n",
       "7091              1273.0         1.273000e+03  \n",
       "7092              4140.0         4.140000e+03  \n",
       "7093               790.0         7.900000e+02  \n",
       "7094              1737.0         7.086596e+06  \n",
       "7095               220.0         1.434073e+07  \n",
       "\n",
       "[7096 rows x 293 columns]"
      ],
      "text/html": "<div>\n<style scoped>\n    .dataframe tbody tr th:only-of-type {\n        vertical-align: middle;\n    }\n\n    .dataframe tbody tr th {\n        vertical-align: top;\n    }\n\n    .dataframe thead th {\n        text-align: right;\n    }\n</style>\n<table border=\"1\" class=\"dataframe\">\n  <thead>\n    <tr style=\"text-align: right;\">\n      <th></th>\n      <th>IMDB ID</th>\n      <th>Mojo ID</th>\n      <th>Year</th>\n      <th>Opening ($)</th>\n      <th>Budget</th>\n      <th>Opening Theaters</th>\n      <th>In Realease (Days)</th>\n      <th>Widest Release</th>\n      <th>Running time (min)</th>\n      <th>IMDB score</th>\n      <th>...</th>\n      <th>Writer(s) rank</th>\n      <th>Stars rank</th>\n      <th>Distributor rank</th>\n      <th>additive Producer(s) rank</th>\n      <th>additive Director(s) rank</th>\n      <th>additive Writer(s) rank</th>\n      <th>additive Stars rank</th>\n      <th>additive Distributor rank</th>\n      <th>Domestic Gross ($)</th>\n      <th>Worldwide Gross ($)</th>\n    </tr>\n  </thead>\n  <tbody>\n    <tr>\n      <th>0</th>\n      <td>tt0499549</td>\n      <td>876971521</td>\n      <td>2011.0</td>\n      <td>77025481.0</td>\n      <td>237000000.0</td>\n      <td>3452.0</td>\n      <td>379.0</td>\n      <td>3461.0</td>\n      <td>162.0</td>\n      <td>7.8</td>\n      <td>...</td>\n      <td>0.0</td>\n      <td>1.0</td>\n      <td>1.0</td>\n      <td>78817892.4</td>\n      <td>8757543.6</td>\n      <td>8757543.6</td>\n      <td>43787718.0</td>\n      <td>8757543.6</td>\n      <td>749766139.0</td>\n      <td>2.744337e+09</td>\n    </tr>\n    <tr>\n      <th>1</th>\n      <td>tt0435761</td>\n      <td>1383564801</td>\n      <td>2011.0</td>\n      <td>110307189.0</td>\n      <td>200000000.0</td>\n      <td>4028.0</td>\n      <td>203.0</td>\n      <td>4028.0</td>\n      <td>103.0</td>\n      <td>8.2</td>\n      <td>...</td>\n      <td>0.0</td>\n      <td>1.0</td>\n      <td>1.0</td>\n      <td>24951714.4</td>\n      <td>6237928.6</td>\n      <td>43665500.2</td>\n      <td>37427571.6</td>\n      <td>6237928.6</td>\n      <td>415004880.0</td>\n      <td>1.066970e+09</td>\n    </tr>\n    <tr>\n      <th>2</th>\n      <td>tt1014759</td>\n      <td>3393226241</td>\n      <td>2011.0</td>\n      <td>116101023.0</td>\n      <td>200000000.0</td>\n      <td>3728.0</td>\n      <td>302.0</td>\n      <td>3739.0</td>\n      <td>108.0</td>\n      <td>6.4</td>\n      <td>...</td>\n      <td>0.0</td>\n      <td>0.0</td>\n      <td>0.0</td>\n      <td>24671872.0</td>\n      <td>2467187.2</td>\n      <td>4934374.4</td>\n      <td>14803123.2</td>\n      <td>2467187.2</td>\n      <td>334191110.0</td>\n      <td>1.025467e+09</td>\n    </tr>\n    <tr>\n      <th>3</th>\n      <td>tt1228705</td>\n      <td>1515881985</td>\n      <td>2011.0</td>\n      <td>128122480.0</td>\n      <td>200000000.0</td>\n      <td>4380.0</td>\n      <td>239.0</td>\n      <td>4390.0</td>\n      <td>124.0</td>\n      <td>7.0</td>\n      <td>...</td>\n      <td>0.0</td>\n      <td>1.0</td>\n      <td>1.0</td>\n      <td>61036080.0</td>\n      <td>5086340.0</td>\n      <td>25431700.0</td>\n      <td>30518040.0</td>\n      <td>5086340.0</td>\n      <td>312433331.0</td>\n      <td>6.239333e+08</td>\n    </tr>\n    <tr>\n      <th>4</th>\n      <td>tt1325004</td>\n      <td>659654145</td>\n      <td>2011.0</td>\n      <td>64832191.0</td>\n      <td>68000000.0</td>\n      <td>4468.0</td>\n      <td>185.0</td>\n      <td>4468.0</td>\n      <td>124.0</td>\n      <td>5.0</td>\n      <td>...</td>\n      <td>0.0</td>\n      <td>0.0</td>\n      <td>0.0</td>\n      <td>10310985.0</td>\n      <td>1145665.0</td>\n      <td>2291330.0</td>\n      <td>6873990.0</td>\n      <td>1145665.0</td>\n      <td>300531751.0</td>\n      <td>6.984913e+08</td>\n    </tr>\n    <tr>\n      <th>...</th>\n      <td>...</td>\n      <td>...</td>\n      <td>...</td>\n      <td>...</td>\n      <td>...</td>\n      <td>...</td>\n      <td>...</td>\n      <td>...</td>\n      <td>...</td>\n      <td>...</td>\n      <td>...</td>\n      <td>...</td>\n      <td>...</td>\n      <td>...</td>\n      <td>...</td>\n      <td>...</td>\n      <td>...</td>\n      <td>...</td>\n      <td>...</td>\n      <td>...</td>\n      <td>...</td>\n    </tr>\n    <tr>\n      <th>7091</th>\n      <td>tt0104448</td>\n      <td>2835973633</td>\n      <td>2019.0</td>\n      <td>1273.0</td>\n      <td>NaN</td>\n      <td>1.0</td>\n      <td>306.0</td>\n      <td>1.0</td>\n      <td>57.0</td>\n      <td>6.2</td>\n      <td>...</td>\n      <td>0.0</td>\n      <td>0.0</td>\n      <td>0.0</td>\n      <td>4023.8</td>\n      <td>4023.8</td>\n      <td>4023.8</td>\n      <td>28166.6</td>\n      <td>4023.8</td>\n      <td>1273.0</td>\n      <td>1.273000e+03</td>\n    </tr>\n    <tr>\n      <th>7092</th>\n      <td>tt9434778</td>\n      <td>933790209</td>\n      <td>2019.0</td>\n      <td>546.0</td>\n      <td>NaN</td>\n      <td>1.0</td>\n      <td>385.0</td>\n      <td>2.0</td>\n      <td>79.0</td>\n      <td>6.3</td>\n      <td>...</td>\n      <td>0.0</td>\n      <td>0.0</td>\n      <td>0.0</td>\n      <td>1493.1</td>\n      <td>497.7</td>\n      <td>497.7</td>\n      <td>2488.5</td>\n      <td>497.7</td>\n      <td>4140.0</td>\n      <td>4.140000e+03</td>\n    </tr>\n    <tr>\n      <th>7093</th>\n      <td>tt3737840</td>\n      <td>621184513</td>\n      <td>2019.0</td>\n      <td>790.0</td>\n      <td>NaN</td>\n      <td>1.0</td>\n      <td>348.0</td>\n      <td>1.0</td>\n      <td>104.0</td>\n      <td>5.6</td>\n      <td>...</td>\n      <td>0.0</td>\n      <td>0.0</td>\n      <td>0.0</td>\n      <td>15775.2</td>\n      <td>1752.8</td>\n      <td>3505.6</td>\n      <td>8764.0</td>\n      <td>1752.8</td>\n      <td>790.0</td>\n      <td>7.900000e+02</td>\n    </tr>\n    <tr>\n      <th>7094</th>\n      <td>tt7543930</td>\n      <td>3389556225</td>\n      <td>2019.0</td>\n      <td>348.0</td>\n      <td>NaN</td>\n      <td>1.0</td>\n      <td>159.0</td>\n      <td>1.0</td>\n      <td>110.0</td>\n      <td>7.2</td>\n      <td>...</td>\n      <td>0.0</td>\n      <td>0.0</td>\n      <td>0.0</td>\n      <td>81496.8</td>\n      <td>11642.4</td>\n      <td>11642.4</td>\n      <td>58212.0</td>\n      <td>11642.4</td>\n      <td>1737.0</td>\n      <td>7.086596e+06</td>\n    </tr>\n    <tr>\n      <th>7095</th>\n      <td>tt6314766</td>\n      <td>17401345</td>\n      <td>2019.0</td>\n      <td>4400.0</td>\n      <td>NaN</td>\n      <td>1.0</td>\n      <td>355.0</td>\n      <td>20.0</td>\n      <td>88.0</td>\n      <td>4.6</td>\n      <td>...</td>\n      <td>0.0</td>\n      <td>0.0</td>\n      <td>0.0</td>\n      <td>3919.2</td>\n      <td>1959.6</td>\n      <td>3919.2</td>\n      <td>6858.6</td>\n      <td>979.8</td>\n      <td>220.0</td>\n      <td>1.434073e+07</td>\n    </tr>\n  </tbody>\n</table>\n<p>7096 rows × 293 columns</p>\n</div>"
     },
     "metadata": {},
     "execution_count": 18
    }
   ],
   "source": [
    "df"
   ]
  },
  {
   "cell_type": "code",
   "execution_count": 7,
   "metadata": {},
   "outputs": [
    {
     "output_type": "stream",
     "name": "stdout",
     "text": [
      "IMDB ID\nMojo ID\nYear\nOpening ($)\nBudget\nOpening Theaters\nIn Realease (Days)\nWidest Release\nRunning time (min)\nIMDB score\nIMDB votes\nMetascore\ngenre Action\ngenre Adventure\ngenre Fantasy\ngenre Sci-Fi\ngenre Animation\ngenre Comedy\ngenre Family\ngenre Drama\ngenre Romance\ngenre Thriller\ngenre Mystery\ngenre Crime\ngenre Sport\ngenre Musical\ngenre Documentary\ngenre History\ngenre Music\ngenre Biography\ngenre Horror\ngenre War\ngenre Western\ngenre Short\ngenre News\ngenre Film-Noir\ngenre Reality-TV\ngenre Adult\nMPAA PG-13\nMPAA PG\nMPAA R\nMPAA G\nMPAA Unrated\nMPAA NC-17\nMPAA Not Rated\nMPAA M/PG\nMPAA TV-PG\nDay\nMonth\nUser\nCritic\nlanguage English\nlanguage French\nlanguage Swedish\nlanguage Spanish\nlanguage Italian\nlanguage Hindi\nlanguage Hebrew\nlanguage German\nlanguage Arabic\nlanguage Korean\nlanguage None\nlanguage Mandarin\nlanguage Finnish\nlanguage Japanese\nlanguage Danish\nlanguage Vietnamese\nlanguage Portuguese\nlanguage Persian\nlanguage Greek\nlanguage Cantonese\nlanguage Serbian\nlanguage Norwegian\nlanguage Romanian\nlanguage Zulu\nlanguage Turkish\nlanguage Estonian\nlanguage Dutch\nlanguage Russian\nlanguage Catalan\nlanguage Urdu\nlanguage Thai\nlanguage Southern Sotho\nlanguage Bosnian\nlanguage Tibetan\nlanguage Tamil\nlanguage Lingala\nlanguage Czech\nlanguage Indonesian\nlanguage Polish\nlanguage Flemish\nlanguage Aboriginal\nlanguage Albanian\nlanguage Filipino\nlanguage Punjabi\nlanguage Min Nan\nlanguage Hungarian\nlanguage Chinese\nlanguage Malayalam\nlanguage Kinyarwanda\nlanguage Tagalog\nlanguage Lao\nlanguage Georgian\nlanguage Nepali\nlanguage Ukrainian\nlanguage Telugu\nlanguage Bengali\nlanguage Ukrainian Sign Language\nlanguage Swiss German\nlanguage Basque\nlanguage Amharic\nlanguage Armenian\nlanguage Marathi\nlanguage Icelandic\nlanguage Bulgarian\nlanguage Maori\nlanguage Lithuanian\nlanguage Kazakh\nlanguage Maya\nlanguage Burmese\nlanguage Tswana\nlanguage Yiddish\nlanguage Slovak\nlanguage Xhosa\nlanguage Irish\nlanguage American Sign Language\nlanguage Malay\nlanguage Latin\nlanguage Guarani\nlanguage Wayuu\nlanguage Yakut\nlanguage Neapolitan\nlanguage Wolof\nlanguage Dari\nlanguage Rhaetian\ncountry USA\ncountry UK\ncountry France\ncountry Japan\ncountry China\ncountry Australia\ncountry Germany\ncountry Bulgaria\ncountry Spain\ncountry Canada\ncountry New Zealand\ncountry Italy\ncountry United Arab Emirates\ncountry Ireland\ncountry India\ncountry Switzerland\ncountry Monaco\ncountry Sweden\ncountry Denmark\ncountry Norway\ncountry Poland\ncountry Russia\ncountry Argentina\ncountry South Korea\ncountry Hong Kong\ncountry Israel\ncountry Austria\ncountry Egypt\ncountry Mexico\ncountry Belgium\ncountry Netherlands\ncountry Brazil\ncountry Hungary\ncountry Romania\ncountry Malta\ncountry Bahamas\ncountry Isle Of Man\ncountry Cameroon\ncountry Guatemala\ncountry Dominican Republic\ncountry Finland\ncountry Vietnam\ncountry Luxembourg\ncountry Taiwan\ncountry Chile\ncountry Iran\ncountry Greece\ncountry Palestine\ncountry Peru\ncountry Colombia\ncountry Cambodia\ncountry West Germany\ncountry Serbia\ncountry Iceland\ncountry Tunisia\ncountry South Africa\ncountry Senegal\ncountry Kuwait\ncountry Jordan\ncountry Portugal\ncountry Turkey\ncountry Estonia\ncountry Puerto Rico\ncountry Thailand\ncountry Antarctica\ncountry Botswana\ncountry Lebanon\ncountry Kenya\ncountry Pakistan\ncountry Bolivia\ncountry Angola\ncountry The Democratic Republic Of Congo\ncountry Venezuela\ncountry Singapore\ncountry Malaysia\ncountry Soviet Union\ncountry Afghanistan\ncountry Tanzania\ncountry Georgia\ncountry Nigeria\ncountry Chad\ncountry Saudi Arabia\ncountry Philippines\ncountry Ukraine\ncountry Algeria\ncountry Czech Republic\ncountry Bosnia and Herzegovina\ncountry Sri Lanka\ncountry Madagascar\ncountry Côte d'Ivoire\ncountry Uganda\ncountry Indonesia\ncountry Ghana\ncountry Ethiopia\ncountry Namibia\ncountry Qatar\ncountry Lithuania\ncountry Albania\ncountry Slovakia\ncountry Cuba\ncountry Czechoslovakia\ncountry Nepal\ncountry Bhutan\ncountry Slovenia\ncountry Croatia\ncountry Armenia\ncountry Costa Rica\ncountry Haiti\ncountry Rwanda\ncountry Serbia and Montenegro\ncountry Belarus\ncountry Latvia\ncountry Jamaica\ncountry Bangladesh\ncountry Macao\ncountry Morocco\ncountry Ecuador\ncountry Laos\ncountry Greenland\ncountry Paraguay\ncountry Mali\ncountry Papua New Guinea\ncountry Mauritania\ncountry Panama\ncountry Cyprus\ncountry Montenegro\ncountry Malawi\ncountry Sierra Leone\ncountry Liberia\ncountry Mongolia\ncountry North Korea\ncountry Vanuatu\ncountry Uruguay\ncountry Congo\ncountry Kazakhstan\ncountry Myanmar\ncountry Kosovo\ncountry Iraq\ncountry Bahrain\ncountry Zimbabwe\ncountry Syria\ncountry Holy See (Vatican City State)\ncountry Zambia\ncountry Swaziland\ncountry Republic of North Macedonia\ncountry Reunion\nProducer(s) rank\nDirector(s) rank\nWriter(s) rank\nStars rank\nDistributor rank\nadditive Producer(s) rank\nadditive Director(s) rank\nadditive Writer(s) rank\nadditive Stars rank\nadditive Distributor rank\nDomestic Gross ($)\nWorldwide Gross ($)\n"
     ]
    }
   ],
   "source": [
    "for item in df.columns:\n",
    "    print(item )"
   ]
  },
  {
   "cell_type": "code",
   "execution_count": 16,
   "metadata": {},
   "outputs": [
    {
     "output_type": "execute_result",
     "data": {
      "text/plain": [
       "1.0"
      ]
     },
     "metadata": {},
     "execution_count": 16
    }
   ],
   "source": []
  }
 ]
}