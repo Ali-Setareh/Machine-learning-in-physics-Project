{
 "metadata": {
  "language_info": {
   "codemirror_mode": {
    "name": "ipython",
    "version": 3
   },
   "file_extension": ".py",
   "mimetype": "text/x-python",
   "name": "python",
   "nbconvert_exporter": "python",
   "pygments_lexer": "ipython3",
   "version": "3.8.3"
  },
  "orig_nbformat": 2,
  "kernelspec": {
   "name": "python383jvsc74a57bd084d37dffb2af7f268fc7f49b660c49f0933770a2b2a82a03c1aeb1edb794d7a9",
   "display_name": "Python 3.8.3 64-bit ('base': conda)"
  }
 },
 "nbformat": 4,
 "nbformat_minor": 2,
 "cells": [
  {
   "cell_type": "code",
   "execution_count": 4,
   "metadata": {},
   "outputs": [],
   "source": [
    "import numpy as np \n",
    "import pandas as pd \n",
    "import matplotlib.pyplot as plt \n",
    "import seaborn as sns \n",
    "import sklearn "
   ]
  },
  {
   "cell_type": "code",
   "execution_count": 5,
   "metadata": {},
   "outputs": [],
   "source": [
    "from sklearn.pipeline import Pipeline"
   ]
  },
  {
   "cell_type": "code",
   "execution_count": 55,
   "metadata": {},
   "outputs": [],
   "source": [
    "df=pd.read_csv('final data set.csv',index_col=0)\n",
    "df.drop(['additive Producer(s) rank',\n",
    "'additive Director(s) rank',\n",
    "'additive Writer(s) rank',\n",
    "'additive Stars rank',\n",
    "'additive Distributor rank','Worldwide Gross ($)','IMDB score','IMDB votes','IMDB ID',\n",
    "'Mojo ID','Opening ($)','In Realease (Days)',\n",
    "'Widest Release','Metascore','User',\n",
    "'Critic'],axis=1,inplace=True)"
   ]
  },
  {
   "cell_type": "code",
   "execution_count": 28,
   "metadata": {},
   "outputs": [
    {
     "output_type": "execute_result",
     "data": {
      "text/plain": [
       "        Year       Budget  Opening Theaters  Running time (min)  genre Action  \\\n",
       "0     2011.0  237000000.0            3452.0               162.0           1.0   \n",
       "1     2011.0  200000000.0            4028.0               103.0           0.0   \n",
       "2     2011.0  200000000.0            3728.0               108.0           0.0   \n",
       "3     2011.0  200000000.0            4380.0               124.0           1.0   \n",
       "4     2011.0   68000000.0            4468.0               124.0           1.0   \n",
       "...      ...          ...               ...                 ...           ...   \n",
       "7091  2019.0          NaN               1.0                57.0           0.0   \n",
       "7092  2019.0          NaN               1.0                79.0           0.0   \n",
       "7093  2019.0          NaN               1.0               104.0           0.0   \n",
       "7094  2019.0          NaN               1.0               110.0           0.0   \n",
       "7095  2019.0          NaN               1.0                88.0           0.0   \n",
       "\n",
       "      genre Adventure  genre Fantasy  genre Sci-Fi  genre Animation  \\\n",
       "0                 1.0            1.0           1.0              0.0   \n",
       "1                 1.0            1.0           0.0              1.0   \n",
       "2                 1.0            1.0           0.0              0.0   \n",
       "3                 1.0            0.0           1.0              0.0   \n",
       "4                 1.0            1.0           0.0              0.0   \n",
       "...               ...            ...           ...              ...   \n",
       "7091              0.0            0.0           0.0              0.0   \n",
       "7092              0.0            0.0           0.0              0.0   \n",
       "7093              0.0            0.0           0.0              0.0   \n",
       "7094              0.0            0.0           0.0              0.0   \n",
       "7095              1.0            0.0           0.0              1.0   \n",
       "\n",
       "      genre Comedy  ...  country Zambia  country Swaziland  \\\n",
       "0              0.0  ...             0.0                0.0   \n",
       "1              1.0  ...             0.0                0.0   \n",
       "2              0.0  ...             0.0                0.0   \n",
       "3              0.0  ...             0.0                0.0   \n",
       "4              0.0  ...             0.0                0.0   \n",
       "...            ...  ...             ...                ...   \n",
       "7091           0.0  ...             0.0                0.0   \n",
       "7092           0.0  ...             0.0                0.0   \n",
       "7093           1.0  ...             0.0                0.0   \n",
       "7094           0.0  ...             0.0                0.0   \n",
       "7095           1.0  ...             0.0                0.0   \n",
       "\n",
       "      country Republic of North Macedonia  country Reunion  Producer(s) rank  \\\n",
       "0                                     0.0              0.0               1.0   \n",
       "1                                     0.0              0.0               0.0   \n",
       "2                                     0.0              0.0               0.0   \n",
       "3                                     0.0              0.0               1.0   \n",
       "4                                     0.0              0.0               0.0   \n",
       "...                                   ...              ...               ...   \n",
       "7091                                  0.0              0.0               0.0   \n",
       "7092                                  0.0              0.0               0.0   \n",
       "7093                                  0.0              0.0               0.0   \n",
       "7094                                  0.0              0.0               0.0   \n",
       "7095                                  0.0              0.0               0.0   \n",
       "\n",
       "      Director(s) rank  Writer(s) rank  Stars rank  Distributor rank  \\\n",
       "0                  0.0             0.0         1.0               1.0   \n",
       "1                  0.0             0.0         1.0               1.0   \n",
       "2                  0.0             0.0         0.0               0.0   \n",
       "3                  0.0             0.0         1.0               1.0   \n",
       "4                  0.0             0.0         0.0               0.0   \n",
       "...                ...             ...         ...               ...   \n",
       "7091               0.0             0.0         0.0               0.0   \n",
       "7092               0.0             0.0         0.0               0.0   \n",
       "7093               0.0             0.0         0.0               0.0   \n",
       "7094               0.0             0.0         0.0               0.0   \n",
       "7095               0.0             0.0         0.0               0.0   \n",
       "\n",
       "      Domestic Gross ($)  \n",
       "0            749766139.0  \n",
       "1            415004880.0  \n",
       "2            334191110.0  \n",
       "3            312433331.0  \n",
       "4            300531751.0  \n",
       "...                  ...  \n",
       "7091              1273.0  \n",
       "7092              4140.0  \n",
       "7093               790.0  \n",
       "7094              1737.0  \n",
       "7095               220.0  \n",
       "\n",
       "[7096 rows x 277 columns]"
      ],
      "text/html": "<div>\n<style scoped>\n    .dataframe tbody tr th:only-of-type {\n        vertical-align: middle;\n    }\n\n    .dataframe tbody tr th {\n        vertical-align: top;\n    }\n\n    .dataframe thead th {\n        text-align: right;\n    }\n</style>\n<table border=\"1\" class=\"dataframe\">\n  <thead>\n    <tr style=\"text-align: right;\">\n      <th></th>\n      <th>Year</th>\n      <th>Budget</th>\n      <th>Opening Theaters</th>\n      <th>Running time (min)</th>\n      <th>genre Action</th>\n      <th>genre Adventure</th>\n      <th>genre Fantasy</th>\n      <th>genre Sci-Fi</th>\n      <th>genre Animation</th>\n      <th>genre Comedy</th>\n      <th>...</th>\n      <th>country Zambia</th>\n      <th>country Swaziland</th>\n      <th>country Republic of North Macedonia</th>\n      <th>country Reunion</th>\n      <th>Producer(s) rank</th>\n      <th>Director(s) rank</th>\n      <th>Writer(s) rank</th>\n      <th>Stars rank</th>\n      <th>Distributor rank</th>\n      <th>Domestic Gross ($)</th>\n    </tr>\n  </thead>\n  <tbody>\n    <tr>\n      <th>0</th>\n      <td>2011.0</td>\n      <td>237000000.0</td>\n      <td>3452.0</td>\n      <td>162.0</td>\n      <td>1.0</td>\n      <td>1.0</td>\n      <td>1.0</td>\n      <td>1.0</td>\n      <td>0.0</td>\n      <td>0.0</td>\n      <td>...</td>\n      <td>0.0</td>\n      <td>0.0</td>\n      <td>0.0</td>\n      <td>0.0</td>\n      <td>1.0</td>\n      <td>0.0</td>\n      <td>0.0</td>\n      <td>1.0</td>\n      <td>1.0</td>\n      <td>749766139.0</td>\n    </tr>\n    <tr>\n      <th>1</th>\n      <td>2011.0</td>\n      <td>200000000.0</td>\n      <td>4028.0</td>\n      <td>103.0</td>\n      <td>0.0</td>\n      <td>1.0</td>\n      <td>1.0</td>\n      <td>0.0</td>\n      <td>1.0</td>\n      <td>1.0</td>\n      <td>...</td>\n      <td>0.0</td>\n      <td>0.0</td>\n      <td>0.0</td>\n      <td>0.0</td>\n      <td>0.0</td>\n      <td>0.0</td>\n      <td>0.0</td>\n      <td>1.0</td>\n      <td>1.0</td>\n      <td>415004880.0</td>\n    </tr>\n    <tr>\n      <th>2</th>\n      <td>2011.0</td>\n      <td>200000000.0</td>\n      <td>3728.0</td>\n      <td>108.0</td>\n      <td>0.0</td>\n      <td>1.0</td>\n      <td>1.0</td>\n      <td>0.0</td>\n      <td>0.0</td>\n      <td>0.0</td>\n      <td>...</td>\n      <td>0.0</td>\n      <td>0.0</td>\n      <td>0.0</td>\n      <td>0.0</td>\n      <td>0.0</td>\n      <td>0.0</td>\n      <td>0.0</td>\n      <td>0.0</td>\n      <td>0.0</td>\n      <td>334191110.0</td>\n    </tr>\n    <tr>\n      <th>3</th>\n      <td>2011.0</td>\n      <td>200000000.0</td>\n      <td>4380.0</td>\n      <td>124.0</td>\n      <td>1.0</td>\n      <td>1.0</td>\n      <td>0.0</td>\n      <td>1.0</td>\n      <td>0.0</td>\n      <td>0.0</td>\n      <td>...</td>\n      <td>0.0</td>\n      <td>0.0</td>\n      <td>0.0</td>\n      <td>0.0</td>\n      <td>1.0</td>\n      <td>0.0</td>\n      <td>0.0</td>\n      <td>1.0</td>\n      <td>1.0</td>\n      <td>312433331.0</td>\n    </tr>\n    <tr>\n      <th>4</th>\n      <td>2011.0</td>\n      <td>68000000.0</td>\n      <td>4468.0</td>\n      <td>124.0</td>\n      <td>1.0</td>\n      <td>1.0</td>\n      <td>1.0</td>\n      <td>0.0</td>\n      <td>0.0</td>\n      <td>0.0</td>\n      <td>...</td>\n      <td>0.0</td>\n      <td>0.0</td>\n      <td>0.0</td>\n      <td>0.0</td>\n      <td>0.0</td>\n      <td>0.0</td>\n      <td>0.0</td>\n      <td>0.0</td>\n      <td>0.0</td>\n      <td>300531751.0</td>\n    </tr>\n    <tr>\n      <th>...</th>\n      <td>...</td>\n      <td>...</td>\n      <td>...</td>\n      <td>...</td>\n      <td>...</td>\n      <td>...</td>\n      <td>...</td>\n      <td>...</td>\n      <td>...</td>\n      <td>...</td>\n      <td>...</td>\n      <td>...</td>\n      <td>...</td>\n      <td>...</td>\n      <td>...</td>\n      <td>...</td>\n      <td>...</td>\n      <td>...</td>\n      <td>...</td>\n      <td>...</td>\n      <td>...</td>\n    </tr>\n    <tr>\n      <th>7091</th>\n      <td>2019.0</td>\n      <td>NaN</td>\n      <td>1.0</td>\n      <td>57.0</td>\n      <td>0.0</td>\n      <td>0.0</td>\n      <td>0.0</td>\n      <td>0.0</td>\n      <td>0.0</td>\n      <td>0.0</td>\n      <td>...</td>\n      <td>0.0</td>\n      <td>0.0</td>\n      <td>0.0</td>\n      <td>0.0</td>\n      <td>0.0</td>\n      <td>0.0</td>\n      <td>0.0</td>\n      <td>0.0</td>\n      <td>0.0</td>\n      <td>1273.0</td>\n    </tr>\n    <tr>\n      <th>7092</th>\n      <td>2019.0</td>\n      <td>NaN</td>\n      <td>1.0</td>\n      <td>79.0</td>\n      <td>0.0</td>\n      <td>0.0</td>\n      <td>0.0</td>\n      <td>0.0</td>\n      <td>0.0</td>\n      <td>0.0</td>\n      <td>...</td>\n      <td>0.0</td>\n      <td>0.0</td>\n      <td>0.0</td>\n      <td>0.0</td>\n      <td>0.0</td>\n      <td>0.0</td>\n      <td>0.0</td>\n      <td>0.0</td>\n      <td>0.0</td>\n      <td>4140.0</td>\n    </tr>\n    <tr>\n      <th>7093</th>\n      <td>2019.0</td>\n      <td>NaN</td>\n      <td>1.0</td>\n      <td>104.0</td>\n      <td>0.0</td>\n      <td>0.0</td>\n      <td>0.0</td>\n      <td>0.0</td>\n      <td>0.0</td>\n      <td>1.0</td>\n      <td>...</td>\n      <td>0.0</td>\n      <td>0.0</td>\n      <td>0.0</td>\n      <td>0.0</td>\n      <td>0.0</td>\n      <td>0.0</td>\n      <td>0.0</td>\n      <td>0.0</td>\n      <td>0.0</td>\n      <td>790.0</td>\n    </tr>\n    <tr>\n      <th>7094</th>\n      <td>2019.0</td>\n      <td>NaN</td>\n      <td>1.0</td>\n      <td>110.0</td>\n      <td>0.0</td>\n      <td>0.0</td>\n      <td>0.0</td>\n      <td>0.0</td>\n      <td>0.0</td>\n      <td>0.0</td>\n      <td>...</td>\n      <td>0.0</td>\n      <td>0.0</td>\n      <td>0.0</td>\n      <td>0.0</td>\n      <td>0.0</td>\n      <td>0.0</td>\n      <td>0.0</td>\n      <td>0.0</td>\n      <td>0.0</td>\n      <td>1737.0</td>\n    </tr>\n    <tr>\n      <th>7095</th>\n      <td>2019.0</td>\n      <td>NaN</td>\n      <td>1.0</td>\n      <td>88.0</td>\n      <td>0.0</td>\n      <td>1.0</td>\n      <td>0.0</td>\n      <td>0.0</td>\n      <td>1.0</td>\n      <td>1.0</td>\n      <td>...</td>\n      <td>0.0</td>\n      <td>0.0</td>\n      <td>0.0</td>\n      <td>0.0</td>\n      <td>0.0</td>\n      <td>0.0</td>\n      <td>0.0</td>\n      <td>0.0</td>\n      <td>0.0</td>\n      <td>220.0</td>\n    </tr>\n  </tbody>\n</table>\n<p>7096 rows × 277 columns</p>\n</div>"
     },
     "metadata": {},
     "execution_count": 28
    }
   ],
   "source": [
    "df"
   ]
  },
  {
   "cell_type": "code",
   "execution_count": 13,
   "metadata": {},
   "outputs": [
    {
     "output_type": "stream",
     "name": "stdout",
     "text": [
      "Year\nBudget\nOpening Theaters\nRunning time (min)\ngenre Action\ngenre Adventure\ngenre Fantasy\ngenre Sci-Fi\ngenre Animation\ngenre Comedy\ngenre Family\ngenre Drama\ngenre Romance\ngenre Thriller\ngenre Mystery\ngenre Crime\ngenre Sport\ngenre Musical\ngenre Documentary\ngenre History\ngenre Music\ngenre Biography\ngenre Horror\ngenre War\ngenre Western\ngenre Short\ngenre News\ngenre Film-Noir\ngenre Reality-TV\ngenre Adult\nMPAA PG-13\nMPAA PG\nMPAA R\nMPAA G\nMPAA Unrated\nMPAA NC-17\nMPAA Not Rated\nMPAA M/PG\nMPAA TV-PG\nDay\nMonth\nlanguage English\nlanguage French\nlanguage Swedish\nlanguage Spanish\nlanguage Italian\nlanguage Hindi\nlanguage Hebrew\nlanguage German\nlanguage Arabic\nlanguage Korean\nlanguage None\nlanguage Mandarin\nlanguage Finnish\nlanguage Japanese\nlanguage Danish\nlanguage Vietnamese\nlanguage Portuguese\nlanguage Persian\nlanguage Greek\nlanguage Cantonese\nlanguage Serbian\nlanguage Norwegian\nlanguage Romanian\nlanguage Zulu\nlanguage Turkish\nlanguage Estonian\nlanguage Dutch\nlanguage Russian\nlanguage Catalan\nlanguage Urdu\nlanguage Thai\nlanguage Southern Sotho\nlanguage Bosnian\nlanguage Tibetan\nlanguage Tamil\nlanguage Lingala\nlanguage Czech\nlanguage Indonesian\nlanguage Polish\nlanguage Flemish\nlanguage Aboriginal\nlanguage Albanian\nlanguage Filipino\nlanguage Punjabi\nlanguage Min Nan\nlanguage Hungarian\nlanguage Chinese\nlanguage Malayalam\nlanguage Kinyarwanda\nlanguage Tagalog\nlanguage Lao\nlanguage Georgian\nlanguage Nepali\nlanguage Ukrainian\nlanguage Telugu\nlanguage Bengali\nlanguage Ukrainian Sign Language\nlanguage Swiss German\nlanguage Basque\nlanguage Amharic\nlanguage Armenian\nlanguage Marathi\nlanguage Icelandic\nlanguage Bulgarian\nlanguage Maori\nlanguage Lithuanian\nlanguage Kazakh\nlanguage Maya\nlanguage Burmese\nlanguage Tswana\nlanguage Yiddish\nlanguage Slovak\nlanguage Xhosa\nlanguage Irish\nlanguage American Sign Language\nlanguage Malay\nlanguage Latin\nlanguage Guarani\nlanguage Wayuu\nlanguage Yakut\nlanguage Neapolitan\nlanguage Wolof\nlanguage Dari\nlanguage Rhaetian\ncountry USA\ncountry UK\ncountry France\ncountry Japan\ncountry China\ncountry Australia\ncountry Germany\ncountry Bulgaria\ncountry Spain\ncountry Canada\ncountry New Zealand\ncountry Italy\ncountry United Arab Emirates\ncountry Ireland\ncountry India\ncountry Switzerland\ncountry Monaco\ncountry Sweden\ncountry Denmark\ncountry Norway\ncountry Poland\ncountry Russia\ncountry Argentina\ncountry South Korea\ncountry Hong Kong\ncountry Israel\ncountry Austria\ncountry Egypt\ncountry Mexico\ncountry Belgium\ncountry Netherlands\ncountry Brazil\ncountry Hungary\ncountry Romania\ncountry Malta\ncountry Bahamas\ncountry Isle Of Man\ncountry Cameroon\ncountry Guatemala\ncountry Dominican Republic\ncountry Finland\ncountry Vietnam\ncountry Luxembourg\ncountry Taiwan\ncountry Chile\ncountry Iran\ncountry Greece\ncountry Palestine\ncountry Peru\ncountry Colombia\ncountry Cambodia\ncountry West Germany\ncountry Serbia\ncountry Iceland\ncountry Tunisia\ncountry South Africa\ncountry Senegal\ncountry Kuwait\ncountry Jordan\ncountry Portugal\ncountry Turkey\ncountry Estonia\ncountry Puerto Rico\ncountry Thailand\ncountry Antarctica\ncountry Botswana\ncountry Lebanon\ncountry Kenya\ncountry Pakistan\ncountry Bolivia\ncountry Angola\ncountry The Democratic Republic Of Congo\ncountry Venezuela\ncountry Singapore\ncountry Malaysia\ncountry Soviet Union\ncountry Afghanistan\ncountry Tanzania\ncountry Georgia\ncountry Nigeria\ncountry Chad\ncountry Saudi Arabia\ncountry Philippines\ncountry Ukraine\ncountry Algeria\ncountry Czech Republic\ncountry Bosnia and Herzegovina\ncountry Sri Lanka\ncountry Madagascar\ncountry Côte d'Ivoire\ncountry Uganda\ncountry Indonesia\ncountry Ghana\ncountry Ethiopia\ncountry Namibia\ncountry Qatar\ncountry Lithuania\ncountry Albania\ncountry Slovakia\ncountry Cuba\ncountry Czechoslovakia\ncountry Nepal\ncountry Bhutan\ncountry Slovenia\ncountry Croatia\ncountry Armenia\ncountry Costa Rica\ncountry Haiti\ncountry Rwanda\ncountry Serbia and Montenegro\ncountry Belarus\ncountry Latvia\ncountry Jamaica\ncountry Bangladesh\ncountry Macao\ncountry Morocco\ncountry Ecuador\ncountry Laos\ncountry Greenland\ncountry Paraguay\ncountry Mali\ncountry Papua New Guinea\ncountry Mauritania\ncountry Panama\ncountry Cyprus\ncountry Montenegro\ncountry Malawi\ncountry Sierra Leone\ncountry Liberia\ncountry Mongolia\ncountry North Korea\ncountry Vanuatu\ncountry Uruguay\ncountry Congo\ncountry Kazakhstan\ncountry Myanmar\ncountry Kosovo\ncountry Iraq\ncountry Bahrain\ncountry Zimbabwe\ncountry Syria\ncountry Holy See (Vatican City State)\ncountry Zambia\ncountry Swaziland\ncountry Republic of North Macedonia\ncountry Reunion\nProducer(s) rank\nDirector(s) rank\nWriter(s) rank\nStars rank\nDistributor rank\nDomestic Gross ($)\n"
     ]
    }
   ],
   "source": [
    "for item in df.columns:\n",
    "    print(item )"
   ]
  },
  {
   "cell_type": "code",
   "execution_count": 37,
   "metadata": {},
   "outputs": [
    {
     "output_type": "execute_result",
     "data": {
      "text/plain": [
       "Year                      2015.0\n",
       "Budget                25000000.0\n",
       "Opening Theaters             5.0\n",
       "Running time (min)         101.0\n",
       "genre Action                 0.0\n",
       "                         ...    \n",
       "Director(s) rank             0.0\n",
       "Writer(s) rank               0.0\n",
       "Stars rank                   0.0\n",
       "Distributor rank             0.0\n",
       "Domestic Gross ($)      167810.5\n",
       "Length: 277, dtype: float64"
      ]
     },
     "metadata": {},
     "execution_count": 37
    }
   ],
   "source": [
    "df.median()"
   ]
  },
  {
   "source": [
    "fill NaN values with median of that column"
   ],
   "cell_type": "markdown",
   "metadata": {}
  },
  {
   "cell_type": "code",
   "execution_count": 56,
   "metadata": {},
   "outputs": [],
   "source": [
    "df.fillna(df.median(),inplace=True)"
   ]
  },
  {
   "source": [
    "replace domestic gross and budget with their log "
   ],
   "cell_type": "markdown",
   "metadata": {}
  },
  {
   "cell_type": "code",
   "execution_count": 57,
   "metadata": {},
   "outputs": [],
   "source": [
    "logcolumns=['Domestic Gross ($)','Budget']\n",
    "df.loc[:, logcolumns] = np.log(df[logcolumns])"
   ]
  },
  {
   "source": [
    "scaling the data "
   ],
   "cell_type": "markdown",
   "metadata": {}
  },
  {
   "cell_type": "code",
   "execution_count": 68,
   "metadata": {},
   "outputs": [],
   "source": [
    "from sklearn.preprocessing import MinMaxScaler\n",
    "scaler=MinMaxScaler()\n",
    "df[df.columns]=scaler.fit_transform(df)"
   ]
  },
  {
   "source": [
    "define X and Y "
   ],
   "cell_type": "markdown",
   "metadata": {}
  },
  {
   "cell_type": "code",
   "execution_count": 61,
   "metadata": {},
   "outputs": [
    {
     "output_type": "execute_result",
     "data": {
      "text/plain": [
       "0       20.435272\n",
       "1       19.843801\n",
       "2       19.627224\n",
       "3       19.559902\n",
       "4       19.521064\n",
       "          ...    \n",
       "7091     7.149132\n",
       "7092     8.328451\n",
       "7093     6.672033\n",
       "7094     7.459915\n",
       "7095     5.393628\n",
       "Name: Domestic Gross ($), Length: 7096, dtype: float64"
      ]
     },
     "metadata": {},
     "execution_count": 61
    }
   ],
   "source": [
    "Y=df['Domestic Gross ($)']\n",
    "X=df[]"
   ]
  }
 ]
}