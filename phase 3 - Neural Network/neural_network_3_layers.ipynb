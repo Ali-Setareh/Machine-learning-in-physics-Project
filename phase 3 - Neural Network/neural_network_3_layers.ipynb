{
  "nbformat": 4,
  "nbformat_minor": 0,
  "metadata": {
    "colab": {
      "name": "neural network 3 layers.ipynb",
      "provenance": [],
      "collapsed_sections": []
    },
    "kernelspec": {
      "name": "python3",
      "display_name": "Python 3"
    },
    "language_info": {
      "name": "python"
    }
  },
  "cells": [
    {
      "cell_type": "code",
      "metadata": {
        "id": "ZrcgOpo9GAcU"
      },
      "source": [
        "import numpy as np\n",
        "import matplotlib.pyplot as plt\n",
        "import pandas as pd\n",
        "import requests\n",
        "import io\n",
        "from sklearn.model_selection import train_test_split\n",
        "from google.colab import files\n",
        "from sklearn.metrics import mean_absolute_error, mean_squared_error"
      ],
      "execution_count": 1,
      "outputs": []
    },
    {
      "cell_type": "markdown",
      "metadata": {
        "id": "TF_AawJ6GhoQ"
      },
      "source": [
        "# preparing data"
      ]
    },
    {
      "cell_type": "code",
      "metadata": {
        "colab": {
          "resources": {
            "http://localhost:8080/nbextensions/google.colab/files.js": {
              "data": "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",
              "ok": true,
              "headers": [
                [
                  "content-type",
                  "application/javascript"
                ]
              ],
              "status": 200,
              "status_text": ""
            }
          },
          "base_uri": "https://localhost:8080/",
          "height": 375
        },
        "id": "wGkqQSblGBSb",
        "outputId": "edf386d4-e059-4df8-c175-25ddfd0d4ab8"
      },
      "source": [
        "'upload file from pc'\n",
        "uploaded = files.upload()\n",
        "data = pd.read_csv(io.BytesIO(uploaded['final data fill nan .csv']))"
      ],
      "execution_count": 3,
      "outputs": [
        {
          "output_type": "display_data",
          "data": {
            "text/html": [
              "\n",
              "     <input type=\"file\" id=\"files-d29d5a9a-eece-4928-b34c-42541edaf0d2\" name=\"files[]\" multiple disabled\n",
              "        style=\"border:none\" />\n",
              "     <output id=\"result-d29d5a9a-eece-4928-b34c-42541edaf0d2\">\n",
              "      Upload widget is only available when the cell has been executed in the\n",
              "      current browser session. Please rerun this cell to enable.\n",
              "      </output>\n",
              "      <script src=\"/nbextensions/google.colab/files.js\"></script> "
            ],
            "text/plain": [
              "<IPython.core.display.HTML object>"
            ]
          },
          "metadata": {
            "tags": []
          }
        },
        {
          "output_type": "error",
          "ename": "KeyboardInterrupt",
          "evalue": "ignored",
          "traceback": [
            "\u001b[0;31m---------------------------------------------------------------------------\u001b[0m",
            "\u001b[0;31mKeyboardInterrupt\u001b[0m                         Traceback (most recent call last)",
            "\u001b[0;32m<ipython-input-3-6a2eb6607941>\u001b[0m in \u001b[0;36m<module>\u001b[0;34m()\u001b[0m\n\u001b[1;32m      1\u001b[0m \u001b[0;34m'upload file from pc'\u001b[0m\u001b[0;34m\u001b[0m\u001b[0;34m\u001b[0m\u001b[0m\n\u001b[0;32m----> 2\u001b[0;31m \u001b[0muploaded\u001b[0m \u001b[0;34m=\u001b[0m \u001b[0mfiles\u001b[0m\u001b[0;34m.\u001b[0m\u001b[0mupload\u001b[0m\u001b[0;34m(\u001b[0m\u001b[0;34m)\u001b[0m\u001b[0;34m\u001b[0m\u001b[0;34m\u001b[0m\u001b[0m\n\u001b[0m\u001b[1;32m      3\u001b[0m \u001b[0mdata\u001b[0m \u001b[0;34m=\u001b[0m \u001b[0mpd\u001b[0m\u001b[0;34m.\u001b[0m\u001b[0mread_csv\u001b[0m\u001b[0;34m(\u001b[0m\u001b[0mio\u001b[0m\u001b[0;34m.\u001b[0m\u001b[0mBytesIO\u001b[0m\u001b[0;34m(\u001b[0m\u001b[0muploaded\u001b[0m\u001b[0;34m[\u001b[0m\u001b[0;34m'final data fill nan .csv'\u001b[0m\u001b[0;34m]\u001b[0m\u001b[0;34m)\u001b[0m\u001b[0;34m)\u001b[0m\u001b[0;34m\u001b[0m\u001b[0;34m\u001b[0m\u001b[0m\n",
            "\u001b[0;32m/usr/local/lib/python3.7/dist-packages/google/colab/files.py\u001b[0m in \u001b[0;36mupload\u001b[0;34m()\u001b[0m\n\u001b[1;32m     62\u001b[0m   result = _output.eval_js(\n\u001b[1;32m     63\u001b[0m       'google.colab._files._uploadFiles(\"{input_id}\", \"{output_id}\")'.format(\n\u001b[0;32m---> 64\u001b[0;31m           input_id=input_id, output_id=output_id))\n\u001b[0m\u001b[1;32m     65\u001b[0m   \u001b[0mfiles\u001b[0m \u001b[0;34m=\u001b[0m \u001b[0m_collections\u001b[0m\u001b[0;34m.\u001b[0m\u001b[0mdefaultdict\u001b[0m\u001b[0;34m(\u001b[0m\u001b[0m_six\u001b[0m\u001b[0;34m.\u001b[0m\u001b[0mbinary_type\u001b[0m\u001b[0;34m)\u001b[0m\u001b[0;34m\u001b[0m\u001b[0;34m\u001b[0m\u001b[0m\n\u001b[1;32m     66\u001b[0m   \u001b[0;31m# Mapping from original filename to filename as saved locally.\u001b[0m\u001b[0;34m\u001b[0m\u001b[0;34m\u001b[0m\u001b[0;34m\u001b[0m\u001b[0m\n",
            "\u001b[0;32m/usr/local/lib/python3.7/dist-packages/google/colab/output/_js.py\u001b[0m in \u001b[0;36meval_js\u001b[0;34m(script, ignore_result, timeout_sec)\u001b[0m\n\u001b[1;32m     38\u001b[0m   \u001b[0;32mif\u001b[0m \u001b[0mignore_result\u001b[0m\u001b[0;34m:\u001b[0m\u001b[0;34m\u001b[0m\u001b[0;34m\u001b[0m\u001b[0m\n\u001b[1;32m     39\u001b[0m     \u001b[0;32mreturn\u001b[0m\u001b[0;34m\u001b[0m\u001b[0;34m\u001b[0m\u001b[0m\n\u001b[0;32m---> 40\u001b[0;31m   \u001b[0;32mreturn\u001b[0m \u001b[0m_message\u001b[0m\u001b[0;34m.\u001b[0m\u001b[0mread_reply_from_input\u001b[0m\u001b[0;34m(\u001b[0m\u001b[0mrequest_id\u001b[0m\u001b[0;34m,\u001b[0m \u001b[0mtimeout_sec\u001b[0m\u001b[0;34m)\u001b[0m\u001b[0;34m\u001b[0m\u001b[0;34m\u001b[0m\u001b[0m\n\u001b[0m\u001b[1;32m     41\u001b[0m \u001b[0;34m\u001b[0m\u001b[0m\n\u001b[1;32m     42\u001b[0m \u001b[0;34m\u001b[0m\u001b[0m\n",
            "\u001b[0;32m/usr/local/lib/python3.7/dist-packages/google/colab/_message.py\u001b[0m in \u001b[0;36mread_reply_from_input\u001b[0;34m(message_id, timeout_sec)\u001b[0m\n\u001b[1;32m     99\u001b[0m     \u001b[0mreply\u001b[0m \u001b[0;34m=\u001b[0m \u001b[0m_read_next_input_message\u001b[0m\u001b[0;34m(\u001b[0m\u001b[0;34m)\u001b[0m\u001b[0;34m\u001b[0m\u001b[0;34m\u001b[0m\u001b[0m\n\u001b[1;32m    100\u001b[0m     \u001b[0;32mif\u001b[0m \u001b[0mreply\u001b[0m \u001b[0;34m==\u001b[0m \u001b[0m_NOT_READY\u001b[0m \u001b[0;32mor\u001b[0m \u001b[0;32mnot\u001b[0m \u001b[0misinstance\u001b[0m\u001b[0;34m(\u001b[0m\u001b[0mreply\u001b[0m\u001b[0;34m,\u001b[0m \u001b[0mdict\u001b[0m\u001b[0;34m)\u001b[0m\u001b[0;34m:\u001b[0m\u001b[0;34m\u001b[0m\u001b[0;34m\u001b[0m\u001b[0m\n\u001b[0;32m--> 101\u001b[0;31m       \u001b[0mtime\u001b[0m\u001b[0;34m.\u001b[0m\u001b[0msleep\u001b[0m\u001b[0;34m(\u001b[0m\u001b[0;36m0.025\u001b[0m\u001b[0;34m)\u001b[0m\u001b[0;34m\u001b[0m\u001b[0;34m\u001b[0m\u001b[0m\n\u001b[0m\u001b[1;32m    102\u001b[0m       \u001b[0;32mcontinue\u001b[0m\u001b[0;34m\u001b[0m\u001b[0;34m\u001b[0m\u001b[0m\n\u001b[1;32m    103\u001b[0m     if (reply.get('type') == 'colab_reply' and\n",
            "\u001b[0;31mKeyboardInterrupt\u001b[0m: "
          ]
        }
      ]
    },
    {
      "cell_type": "code",
      "metadata": {
        "id": "7mqwjEWFGBUu"
      },
      "source": [
        "data = pd.read_csv(io.BytesIO(uploaded['final data fill nan .csv']))\n",
        "data=data.drop(['Unnamed: 0'],axis=1)"
      ],
      "execution_count": 4,
      "outputs": []
    },
    {
      "cell_type": "code",
      "metadata": {
        "id": "4iR3xGM5GHe9"
      },
      "source": [
        "data_X=data.iloc[:,:276]\n",
        "data_Y=data.iloc[:,-1]"
      ],
      "execution_count": 5,
      "outputs": []
    },
    {
      "cell_type": "code",
      "metadata": {
        "id": "pXBGuarRGHhc"
      },
      "source": [
        "#choose 2019 data as Y test than shuffle datas\n",
        "a=data_X.iloc[:,0]==2019\n",
        "ind_list=[i for i, data_X in enumerate(a) if data_X]\n",
        "\n",
        "# 2019 Y data choose as test samples other as train \n",
        "Y_train=[i for i in data_Y[ind_list]]\n",
        "Y_test=[i for i in data_Y[:ind_list[0]-1]]\n",
        "X_train, X_test, Y_train, Y_test = train_test_split(data_X, data_Y,train_size=len(data_Y)-len(ind_list),test_size=len(ind_list), shuffle=False)\n",
        "\n",
        "from sklearn.utils import shuffle\n",
        "X_train,Y_train = shuffle(X_train,Y_train,random_state=0)\n",
        "X_test,Y_test = shuffle(X_test,Y_test,random_state=0)"
      ],
      "execution_count": 7,
      "outputs": []
    },
    {
      "cell_type": "markdown",
      "metadata": {
        "id": "zPQWBuZTGRsH"
      },
      "source": [
        "# neural network"
      ]
    },
    {
      "cell_type": "code",
      "metadata": {
        "id": "t8JuX7FsGSVv"
      },
      "source": [
        "from tensorflow import keras as ks\n",
        "from keras.models import Sequential\n",
        "from keras.layers import Dense\n",
        "from keras.wrappers.scikit_learn import KerasRegressor\n",
        "from sklearn.model_selection import cross_val_score\n",
        "from sklearn.model_selection import KFold\n",
        "from sklearn.preprocessing import StandardScaler\n",
        "from sklearn.pipeline import Pipeline\n"
      ],
      "execution_count": 8,
      "outputs": []
    },
    {
      "cell_type": "code",
      "metadata": {
        "colab": {
          "base_uri": "https://localhost:8080/"
        },
        "id": "yfvXE4i9GTK2",
        "outputId": "8c7af8cb-6488-46b5-bd81-af93d6a531ca"
      },
      "source": [
        "model = Sequential()\n",
        "model.add(Dense(12, input_dim=276, kernel_initializer='normal', activation='relu'))\n",
        "model.add(Dense(8, activation='relu'))\n",
        "model.add(Dense(1, activation='linear'))\n",
        "model.summary()"
      ],
      "execution_count": 9,
      "outputs": [
        {
          "output_type": "stream",
          "text": [
            "Model: \"sequential\"\n",
            "_________________________________________________________________\n",
            "Layer (type)                 Output Shape              Param #   \n",
            "=================================================================\n",
            "dense (Dense)                (None, 12)                3324      \n",
            "_________________________________________________________________\n",
            "dense_1 (Dense)              (None, 8)                 104       \n",
            "_________________________________________________________________\n",
            "dense_2 (Dense)              (None, 1)                 9         \n",
            "=================================================================\n",
            "Total params: 3,437\n",
            "Trainable params: 3,437\n",
            "Non-trainable params: 0\n",
            "_________________________________________________________________\n"
          ],
          "name": "stdout"
        }
      ]
    },
    {
      "cell_type": "code",
      "metadata": {
        "id": "zg3SfU9pGTQ1"
      },
      "source": [
        "model.compile(loss='mse', optimizer='adam', metrics=['mse','mae'])"
      ],
      "execution_count": 10,
      "outputs": []
    },
    {
      "cell_type": "code",
      "metadata": {
        "colab": {
          "base_uri": "https://localhost:8080/"
        },
        "id": "kJ7F3UOmGTTW",
        "outputId": "0a10628a-3234-4cd5-c205-d73780ceb563"
      },
      "source": [
        "history = model.fit(X_train, Y_train, epochs=150, batch_size=50,  verbose=1, validation_split=0.2)"
      ],
      "execution_count": 11,
      "outputs": [
        {
          "output_type": "stream",
          "text": [
            "102/102 [==============================] - 14s 8ms/step - loss: 1144.8530 - mse: 1144.8530 - mae: 24.0289 - val_loss: 21.5781 - val_mse: 21.5781 - val_mae: 3.3566\n",
            "Epoch 2/150\n",
            "102/102 [==============================] - 0s 2ms/step - loss: 17.2467 - mse: 17.2467 - mae: 2.8560 - val_loss: 4.7387 - val_mse: 4.7387 - val_mae: 1.7319\n",
            "Epoch 3/150\n",
            "102/102 [==============================] - 0s 2ms/step - loss: 4.2407 - mse: 4.2407 - mae: 1.5955 - val_loss: 4.4545 - val_mse: 4.4545 - val_mae: 1.6158\n",
            "Epoch 4/150\n",
            "102/102 [==============================] - 0s 2ms/step - loss: 4.2056 - mse: 4.2056 - mae: 1.5537 - val_loss: 4.3793 - val_mse: 4.3793 - val_mae: 1.5997\n",
            "Epoch 5/150\n",
            "102/102 [==============================] - 0s 2ms/step - loss: 4.0565 - mse: 4.0565 - mae: 1.5429 - val_loss: 4.4366 - val_mse: 4.4366 - val_mae: 1.6135\n",
            "Epoch 6/150\n",
            "102/102 [==============================] - 0s 2ms/step - loss: 3.9261 - mse: 3.9261 - mae: 1.5017 - val_loss: 4.3197 - val_mse: 4.3197 - val_mae: 1.5855\n",
            "Epoch 7/150\n",
            "102/102 [==============================] - 0s 2ms/step - loss: 3.9738 - mse: 3.9738 - mae: 1.5333 - val_loss: 4.3410 - val_mse: 4.3410 - val_mae: 1.5699\n",
            "Epoch 8/150\n",
            "102/102 [==============================] - 0s 2ms/step - loss: 4.0332 - mse: 4.0332 - mae: 1.5337 - val_loss: 4.3061 - val_mse: 4.3061 - val_mae: 1.5958\n",
            "Epoch 9/150\n",
            "102/102 [==============================] - 0s 2ms/step - loss: 3.8024 - mse: 3.8024 - mae: 1.4813 - val_loss: 4.3006 - val_mse: 4.3006 - val_mae: 1.5744\n",
            "Epoch 10/150\n",
            "102/102 [==============================] - 0s 2ms/step - loss: 3.9173 - mse: 3.9173 - mae: 1.5179 - val_loss: 4.2418 - val_mse: 4.2418 - val_mae: 1.5631\n",
            "Epoch 11/150\n",
            "102/102 [==============================] - 0s 2ms/step - loss: 3.8377 - mse: 3.8377 - mae: 1.5095 - val_loss: 4.1952 - val_mse: 4.1952 - val_mae: 1.5522\n",
            "Epoch 12/150\n",
            "102/102 [==============================] - 0s 2ms/step - loss: 3.8150 - mse: 3.8150 - mae: 1.4762 - val_loss: 4.2280 - val_mse: 4.2280 - val_mae: 1.5331\n",
            "Epoch 13/150\n",
            "102/102 [==============================] - 0s 2ms/step - loss: 3.7724 - mse: 3.7724 - mae: 1.4683 - val_loss: 4.1888 - val_mse: 4.1888 - val_mae: 1.5541\n",
            "Epoch 14/150\n",
            "102/102 [==============================] - 0s 2ms/step - loss: 3.6474 - mse: 3.6474 - mae: 1.4628 - val_loss: 4.2349 - val_mse: 4.2349 - val_mae: 1.5675\n",
            "Epoch 15/150\n",
            "102/102 [==============================] - 0s 2ms/step - loss: 3.7123 - mse: 3.7123 - mae: 1.4623 - val_loss: 5.4237 - val_mse: 5.4237 - val_mae: 1.8970\n",
            "Epoch 16/150\n",
            "102/102 [==============================] - 0s 2ms/step - loss: 3.9756 - mse: 3.9756 - mae: 1.5460 - val_loss: 4.2037 - val_mse: 4.2037 - val_mae: 1.5714\n",
            "Epoch 17/150\n",
            "102/102 [==============================] - 0s 2ms/step - loss: 3.4485 - mse: 3.4485 - mae: 1.3979 - val_loss: 4.0783 - val_mse: 4.0783 - val_mae: 1.5312\n",
            "Epoch 18/150\n",
            "102/102 [==============================] - 0s 2ms/step - loss: 3.5268 - mse: 3.5268 - mae: 1.4194 - val_loss: 4.0367 - val_mse: 4.0367 - val_mae: 1.5108\n",
            "Epoch 19/150\n",
            "102/102 [==============================] - 0s 2ms/step - loss: 3.6259 - mse: 3.6259 - mae: 1.4464 - val_loss: 4.0606 - val_mse: 4.0606 - val_mae: 1.4978\n",
            "Epoch 20/150\n",
            "102/102 [==============================] - 0s 2ms/step - loss: 3.5470 - mse: 3.5470 - mae: 1.4535 - val_loss: 5.2491 - val_mse: 5.2491 - val_mae: 1.8581\n",
            "Epoch 21/150\n",
            "102/102 [==============================] - 0s 2ms/step - loss: 3.8511 - mse: 3.8511 - mae: 1.5240 - val_loss: 4.1528 - val_mse: 4.1528 - val_mae: 1.5698\n",
            "Epoch 22/150\n",
            "102/102 [==============================] - 0s 2ms/step - loss: 3.6899 - mse: 3.6899 - mae: 1.4683 - val_loss: 3.9920 - val_mse: 3.9920 - val_mae: 1.5163\n",
            "Epoch 23/150\n",
            "102/102 [==============================] - 0s 2ms/step - loss: 3.5799 - mse: 3.5799 - mae: 1.4569 - val_loss: 4.1601 - val_mse: 4.1601 - val_mae: 1.5194\n",
            "Epoch 24/150\n",
            "102/102 [==============================] - 0s 2ms/step - loss: 3.6765 - mse: 3.6765 - mae: 1.4622 - val_loss: 4.0378 - val_mse: 4.0378 - val_mae: 1.5398\n",
            "Epoch 25/150\n",
            "102/102 [==============================] - 0s 2ms/step - loss: 3.4822 - mse: 3.4822 - mae: 1.4319 - val_loss: 4.3568 - val_mse: 4.3568 - val_mae: 1.6573\n",
            "Epoch 26/150\n",
            "102/102 [==============================] - 0s 2ms/step - loss: 3.7381 - mse: 3.7381 - mae: 1.4952 - val_loss: 4.8669 - val_mse: 4.8669 - val_mae: 1.8093\n",
            "Epoch 27/150\n",
            "102/102 [==============================] - 0s 2ms/step - loss: 3.5382 - mse: 3.5382 - mae: 1.4481 - val_loss: 3.9444 - val_mse: 3.9444 - val_mae: 1.5105\n",
            "Epoch 28/150\n",
            "102/102 [==============================] - 0s 2ms/step - loss: 3.4386 - mse: 3.4386 - mae: 1.4181 - val_loss: 3.9580 - val_mse: 3.9580 - val_mae: 1.5241\n",
            "Epoch 29/150\n",
            "102/102 [==============================] - 0s 2ms/step - loss: 3.4612 - mse: 3.4612 - mae: 1.4183 - val_loss: 5.2968 - val_mse: 5.2968 - val_mae: 1.9060\n",
            "Epoch 30/150\n",
            "102/102 [==============================] - 0s 2ms/step - loss: 3.6704 - mse: 3.6704 - mae: 1.4920 - val_loss: 4.8684 - val_mse: 4.8684 - val_mae: 1.7451\n",
            "Epoch 31/150\n",
            "102/102 [==============================] - 0s 2ms/step - loss: 3.6898 - mse: 3.6898 - mae: 1.4840 - val_loss: 3.8887 - val_mse: 3.8887 - val_mae: 1.4959\n",
            "Epoch 32/150\n",
            "102/102 [==============================] - 0s 2ms/step - loss: 3.4519 - mse: 3.4519 - mae: 1.4198 - val_loss: 3.8972 - val_mse: 3.8972 - val_mae: 1.5121\n",
            "Epoch 33/150\n",
            "102/102 [==============================] - 0s 2ms/step - loss: 3.6070 - mse: 3.6070 - mae: 1.4596 - val_loss: 4.1758 - val_mse: 4.1758 - val_mae: 1.6173\n",
            "Epoch 34/150\n",
            "102/102 [==============================] - 0s 2ms/step - loss: 3.4570 - mse: 3.4570 - mae: 1.4433 - val_loss: 4.0925 - val_mse: 4.0925 - val_mae: 1.5021\n",
            "Epoch 35/150\n",
            "102/102 [==============================] - 0s 2ms/step - loss: 3.7290 - mse: 3.7290 - mae: 1.5105 - val_loss: 4.1299 - val_mse: 4.1299 - val_mae: 1.5971\n",
            "Epoch 36/150\n",
            "102/102 [==============================] - 0s 2ms/step - loss: 3.5003 - mse: 3.5003 - mae: 1.4426 - val_loss: 3.8328 - val_mse: 3.8328 - val_mae: 1.5081\n",
            "Epoch 37/150\n",
            "102/102 [==============================] - 0s 2ms/step - loss: 3.5693 - mse: 3.5693 - mae: 1.4436 - val_loss: 4.0050 - val_mse: 4.0050 - val_mae: 1.5847\n",
            "Epoch 38/150\n",
            "102/102 [==============================] - 0s 2ms/step - loss: 3.3205 - mse: 3.3205 - mae: 1.3957 - val_loss: 4.5563 - val_mse: 4.5563 - val_mae: 1.7066\n",
            "Epoch 39/150\n",
            "102/102 [==============================] - 0s 2ms/step - loss: 3.4813 - mse: 3.4813 - mae: 1.4564 - val_loss: 4.0359 - val_mse: 4.0359 - val_mae: 1.5756\n",
            "Epoch 40/150\n",
            "102/102 [==============================] - 0s 2ms/step - loss: 3.7643 - mse: 3.7643 - mae: 1.5365 - val_loss: 3.8761 - val_mse: 3.8761 - val_mae: 1.5068\n",
            "Epoch 41/150\n",
            "102/102 [==============================] - 0s 2ms/step - loss: 3.4679 - mse: 3.4679 - mae: 1.4260 - val_loss: 3.7895 - val_mse: 3.7895 - val_mae: 1.4590\n",
            "Epoch 42/150\n",
            "102/102 [==============================] - 0s 2ms/step - loss: 3.4249 - mse: 3.4249 - mae: 1.4152 - val_loss: 4.0202 - val_mse: 4.0202 - val_mae: 1.5872\n",
            "Epoch 43/150\n",
            "102/102 [==============================] - 0s 2ms/step - loss: 3.4286 - mse: 3.4286 - mae: 1.4191 - val_loss: 3.7422 - val_mse: 3.7422 - val_mae: 1.4833\n",
            "Epoch 44/150\n",
            "102/102 [==============================] - 0s 2ms/step - loss: 3.4449 - mse: 3.4449 - mae: 1.4295 - val_loss: 3.6811 - val_mse: 3.6811 - val_mae: 1.4590\n",
            "Epoch 45/150\n",
            "102/102 [==============================] - 0s 2ms/step - loss: 3.8269 - mse: 3.8269 - mae: 1.5188 - val_loss: 3.7249 - val_mse: 3.7249 - val_mae: 1.4558\n",
            "Epoch 46/150\n",
            "102/102 [==============================] - 0s 2ms/step - loss: 3.2850 - mse: 3.2850 - mae: 1.3825 - val_loss: 3.7099 - val_mse: 3.7099 - val_mae: 1.4733\n",
            "Epoch 47/150\n",
            "102/102 [==============================] - 0s 2ms/step - loss: 3.2009 - mse: 3.2009 - mae: 1.3709 - val_loss: 4.0426 - val_mse: 4.0426 - val_mae: 1.5795\n",
            "Epoch 48/150\n",
            "102/102 [==============================] - 0s 2ms/step - loss: 3.3147 - mse: 3.3147 - mae: 1.3970 - val_loss: 3.6379 - val_mse: 3.6379 - val_mae: 1.4284\n",
            "Epoch 49/150\n",
            "102/102 [==============================] - 0s 2ms/step - loss: 3.2477 - mse: 3.2477 - mae: 1.3730 - val_loss: 3.6702 - val_mse: 3.6702 - val_mae: 1.4639\n",
            "Epoch 50/150\n",
            "102/102 [==============================] - 0s 2ms/step - loss: 3.3341 - mse: 3.3341 - mae: 1.3848 - val_loss: 3.9218 - val_mse: 3.9218 - val_mae: 1.5536\n",
            "Epoch 51/150\n",
            "102/102 [==============================] - 0s 2ms/step - loss: 3.2518 - mse: 3.2518 - mae: 1.3699 - val_loss: 4.2659 - val_mse: 4.2659 - val_mae: 1.6757\n",
            "Epoch 52/150\n",
            "102/102 [==============================] - 0s 2ms/step - loss: 3.4264 - mse: 3.4264 - mae: 1.4318 - val_loss: 4.5018 - val_mse: 4.5018 - val_mae: 1.6784\n",
            "Epoch 53/150\n",
            "102/102 [==============================] - 0s 2ms/step - loss: 3.4866 - mse: 3.4866 - mae: 1.4377 - val_loss: 5.3563 - val_mse: 5.3563 - val_mae: 1.9332\n",
            "Epoch 54/150\n",
            "102/102 [==============================] - 0s 2ms/step - loss: 3.5220 - mse: 3.5220 - mae: 1.4655 - val_loss: 3.5770 - val_mse: 3.5770 - val_mae: 1.4269\n",
            "Epoch 55/150\n",
            "102/102 [==============================] - 0s 2ms/step - loss: 3.3002 - mse: 3.3002 - mae: 1.3775 - val_loss: 4.5311 - val_mse: 4.5311 - val_mae: 1.7091\n",
            "Epoch 56/150\n",
            "102/102 [==============================] - 0s 2ms/step - loss: 3.5984 - mse: 3.5984 - mae: 1.4853 - val_loss: 3.7213 - val_mse: 3.7213 - val_mae: 1.5099\n",
            "Epoch 57/150\n",
            "102/102 [==============================] - 0s 2ms/step - loss: 3.3618 - mse: 3.3618 - mae: 1.4217 - val_loss: 4.3823 - val_mse: 4.3823 - val_mae: 1.6139\n",
            "Epoch 58/150\n",
            "102/102 [==============================] - 0s 2ms/step - loss: 3.5129 - mse: 3.5129 - mae: 1.4511 - val_loss: 4.2766 - val_mse: 4.2766 - val_mae: 1.6173\n",
            "Epoch 59/150\n",
            "102/102 [==============================] - 0s 2ms/step - loss: 3.3530 - mse: 3.3530 - mae: 1.4139 - val_loss: 3.7899 - val_mse: 3.7899 - val_mae: 1.4875\n",
            "Epoch 60/150\n",
            "102/102 [==============================] - 0s 2ms/step - loss: 3.2767 - mse: 3.2767 - mae: 1.3779 - val_loss: 4.0191 - val_mse: 4.0191 - val_mae: 1.5777\n",
            "Epoch 61/150\n",
            "102/102 [==============================] - 0s 2ms/step - loss: 3.2181 - mse: 3.2181 - mae: 1.3783 - val_loss: 3.7371 - val_mse: 3.7371 - val_mae: 1.4623\n",
            "Epoch 62/150\n",
            "102/102 [==============================] - 0s 2ms/step - loss: 3.1303 - mse: 3.1303 - mae: 1.3566 - val_loss: 4.0745 - val_mse: 4.0745 - val_mae: 1.6271\n",
            "Epoch 63/150\n",
            "102/102 [==============================] - 0s 2ms/step - loss: 3.2482 - mse: 3.2482 - mae: 1.3700 - val_loss: 3.5540 - val_mse: 3.5540 - val_mae: 1.4326\n",
            "Epoch 64/150\n",
            "102/102 [==============================] - 0s 2ms/step - loss: 3.2115 - mse: 3.2115 - mae: 1.3818 - val_loss: 4.3156 - val_mse: 4.3156 - val_mae: 1.6598\n",
            "Epoch 65/150\n",
            "102/102 [==============================] - 0s 2ms/step - loss: 3.3291 - mse: 3.3291 - mae: 1.4240 - val_loss: 3.5079 - val_mse: 3.5079 - val_mae: 1.4166\n",
            "Epoch 66/150\n",
            "102/102 [==============================] - 0s 2ms/step - loss: 3.2805 - mse: 3.2805 - mae: 1.3919 - val_loss: 3.5823 - val_mse: 3.5823 - val_mae: 1.4554\n",
            "Epoch 67/150\n",
            "102/102 [==============================] - 0s 2ms/step - loss: 3.2306 - mse: 3.2306 - mae: 1.3764 - val_loss: 3.9960 - val_mse: 3.9960 - val_mae: 1.6019\n",
            "Epoch 68/150\n",
            "102/102 [==============================] - 0s 2ms/step - loss: 3.0555 - mse: 3.0555 - mae: 1.3397 - val_loss: 4.2161 - val_mse: 4.2161 - val_mae: 1.6767\n",
            "Epoch 69/150\n",
            "102/102 [==============================] - 0s 2ms/step - loss: 3.3269 - mse: 3.3269 - mae: 1.4058 - val_loss: 3.5643 - val_mse: 3.5643 - val_mae: 1.4446\n",
            "Epoch 70/150\n",
            "102/102 [==============================] - 0s 2ms/step - loss: 3.3556 - mse: 3.3556 - mae: 1.4091 - val_loss: 3.6268 - val_mse: 3.6268 - val_mae: 1.4781\n",
            "Epoch 71/150\n",
            "102/102 [==============================] - 0s 2ms/step - loss: 3.3594 - mse: 3.3594 - mae: 1.4260 - val_loss: 4.0749 - val_mse: 4.0749 - val_mae: 1.5704\n",
            "Epoch 72/150\n",
            "102/102 [==============================] - 0s 2ms/step - loss: 3.4859 - mse: 3.4859 - mae: 1.4451 - val_loss: 4.0581 - val_mse: 4.0581 - val_mae: 1.6232\n",
            "Epoch 73/150\n",
            "102/102 [==============================] - 0s 2ms/step - loss: 3.1466 - mse: 3.1466 - mae: 1.3667 - val_loss: 3.8878 - val_mse: 3.8878 - val_mae: 1.5205\n",
            "Epoch 74/150\n",
            "102/102 [==============================] - 0s 2ms/step - loss: 3.5814 - mse: 3.5814 - mae: 1.4919 - val_loss: 3.5320 - val_mse: 3.5320 - val_mae: 1.4546\n",
            "Epoch 75/150\n",
            "102/102 [==============================] - 0s 2ms/step - loss: 3.1493 - mse: 3.1493 - mae: 1.3580 - val_loss: 3.5970 - val_mse: 3.5970 - val_mae: 1.4211\n",
            "Epoch 76/150\n",
            "102/102 [==============================] - 0s 2ms/step - loss: 3.1077 - mse: 3.1077 - mae: 1.3452 - val_loss: 3.5180 - val_mse: 3.5180 - val_mae: 1.4019\n",
            "Epoch 77/150\n",
            "102/102 [==============================] - 0s 2ms/step - loss: 3.1594 - mse: 3.1594 - mae: 1.3358 - val_loss: 3.4528 - val_mse: 3.4528 - val_mae: 1.3979\n",
            "Epoch 78/150\n",
            "102/102 [==============================] - 0s 2ms/step - loss: 2.9767 - mse: 2.9767 - mae: 1.3214 - val_loss: 4.4944 - val_mse: 4.4944 - val_mae: 1.7396\n",
            "Epoch 79/150\n",
            "102/102 [==============================] - 0s 2ms/step - loss: 3.2018 - mse: 3.2018 - mae: 1.3931 - val_loss: 4.1330 - val_mse: 4.1330 - val_mae: 1.6101\n",
            "Epoch 80/150\n",
            "102/102 [==============================] - 0s 2ms/step - loss: 3.4789 - mse: 3.4789 - mae: 1.4646 - val_loss: 3.5886 - val_mse: 3.5886 - val_mae: 1.4524\n",
            "Epoch 81/150\n",
            "102/102 [==============================] - 0s 2ms/step - loss: 3.0880 - mse: 3.0880 - mae: 1.3457 - val_loss: 3.6268 - val_mse: 3.6268 - val_mae: 1.4637\n",
            "Epoch 82/150\n",
            "102/102 [==============================] - 0s 2ms/step - loss: 3.0858 - mse: 3.0858 - mae: 1.3545 - val_loss: 3.5164 - val_mse: 3.5164 - val_mae: 1.4306\n",
            "Epoch 83/150\n",
            "102/102 [==============================] - 0s 2ms/step - loss: 3.0241 - mse: 3.0241 - mae: 1.3245 - val_loss: 3.4718 - val_mse: 3.4718 - val_mae: 1.3966\n",
            "Epoch 84/150\n",
            "102/102 [==============================] - 0s 2ms/step - loss: 3.2556 - mse: 3.2556 - mae: 1.3941 - val_loss: 3.6516 - val_mse: 3.6516 - val_mae: 1.4977\n",
            "Epoch 85/150\n",
            "102/102 [==============================] - 0s 2ms/step - loss: 3.0217 - mse: 3.0217 - mae: 1.3296 - val_loss: 4.6888 - val_mse: 4.6888 - val_mae: 1.7827\n",
            "Epoch 86/150\n",
            "102/102 [==============================] - 0s 2ms/step - loss: 3.3237 - mse: 3.3237 - mae: 1.4071 - val_loss: 3.8122 - val_mse: 3.8122 - val_mae: 1.5156\n",
            "Epoch 87/150\n",
            "102/102 [==============================] - 0s 2ms/step - loss: 3.0745 - mse: 3.0745 - mae: 1.3504 - val_loss: 3.8043 - val_mse: 3.8043 - val_mae: 1.5209\n",
            "Epoch 88/150\n",
            "102/102 [==============================] - 0s 2ms/step - loss: 3.0977 - mse: 3.0977 - mae: 1.3567 - val_loss: 3.4698 - val_mse: 3.4698 - val_mae: 1.4032\n",
            "Epoch 89/150\n",
            "102/102 [==============================] - 0s 2ms/step - loss: 3.0358 - mse: 3.0358 - mae: 1.3299 - val_loss: 3.6196 - val_mse: 3.6196 - val_mae: 1.4509\n",
            "Epoch 90/150\n",
            "102/102 [==============================] - 0s 2ms/step - loss: 3.1185 - mse: 3.1185 - mae: 1.3466 - val_loss: 3.8406 - val_mse: 3.8406 - val_mae: 1.5600\n",
            "Epoch 91/150\n",
            "102/102 [==============================] - 0s 2ms/step - loss: 3.4790 - mse: 3.4790 - mae: 1.4536 - val_loss: 3.6668 - val_mse: 3.6668 - val_mae: 1.5163\n",
            "Epoch 92/150\n",
            "102/102 [==============================] - 0s 2ms/step - loss: 2.9992 - mse: 2.9992 - mae: 1.3316 - val_loss: 5.0770 - val_mse: 5.0770 - val_mae: 1.8794\n",
            "Epoch 93/150\n",
            "102/102 [==============================] - 0s 2ms/step - loss: 3.4005 - mse: 3.4005 - mae: 1.4181 - val_loss: 3.4351 - val_mse: 3.4351 - val_mae: 1.4024\n",
            "Epoch 94/150\n",
            "102/102 [==============================] - 0s 2ms/step - loss: 3.1705 - mse: 3.1705 - mae: 1.3707 - val_loss: 3.4724 - val_mse: 3.4724 - val_mae: 1.3929\n",
            "Epoch 95/150\n",
            "102/102 [==============================] - 0s 2ms/step - loss: 3.0132 - mse: 3.0132 - mae: 1.3179 - val_loss: 3.4727 - val_mse: 3.4727 - val_mae: 1.4258\n",
            "Epoch 96/150\n",
            "102/102 [==============================] - 0s 2ms/step - loss: 3.2640 - mse: 3.2640 - mae: 1.3878 - val_loss: 3.8426 - val_mse: 3.8426 - val_mae: 1.5719\n",
            "Epoch 97/150\n",
            "102/102 [==============================] - 0s 2ms/step - loss: 3.1207 - mse: 3.1207 - mae: 1.3527 - val_loss: 3.6490 - val_mse: 3.6490 - val_mae: 1.5049\n",
            "Epoch 98/150\n",
            "102/102 [==============================] - 0s 2ms/step - loss: 2.9588 - mse: 2.9588 - mae: 1.3174 - val_loss: 3.8676 - val_mse: 3.8676 - val_mae: 1.5490\n",
            "Epoch 99/150\n",
            "102/102 [==============================] - 0s 2ms/step - loss: 3.1739 - mse: 3.1739 - mae: 1.3709 - val_loss: 3.9010 - val_mse: 3.9010 - val_mae: 1.5364\n",
            "Epoch 100/150\n",
            "102/102 [==============================] - 0s 2ms/step - loss: 3.2626 - mse: 3.2626 - mae: 1.4039 - val_loss: 4.5374 - val_mse: 4.5374 - val_mae: 1.6877\n",
            "Epoch 101/150\n",
            "102/102 [==============================] - 0s 2ms/step - loss: 3.5126 - mse: 3.5126 - mae: 1.4447 - val_loss: 3.9848 - val_mse: 3.9848 - val_mae: 1.5900\n",
            "Epoch 102/150\n",
            "102/102 [==============================] - 0s 3ms/step - loss: 3.1527 - mse: 3.1527 - mae: 1.3775 - val_loss: 3.5827 - val_mse: 3.5827 - val_mae: 1.4378\n",
            "Epoch 103/150\n",
            "102/102 [==============================] - 0s 2ms/step - loss: 2.9774 - mse: 2.9774 - mae: 1.3138 - val_loss: 3.5490 - val_mse: 3.5490 - val_mae: 1.4554\n",
            "Epoch 104/150\n",
            "102/102 [==============================] - 0s 2ms/step - loss: 3.0163 - mse: 3.0163 - mae: 1.3201 - val_loss: 3.7353 - val_mse: 3.7353 - val_mae: 1.5313\n",
            "Epoch 105/150\n",
            "102/102 [==============================] - 0s 2ms/step - loss: 3.1747 - mse: 3.1747 - mae: 1.3848 - val_loss: 3.7991 - val_mse: 3.7991 - val_mae: 1.5380\n",
            "Epoch 106/150\n",
            "102/102 [==============================] - 0s 2ms/step - loss: 3.1990 - mse: 3.1990 - mae: 1.3883 - val_loss: 3.8335 - val_mse: 3.8335 - val_mae: 1.5508\n",
            "Epoch 107/150\n",
            "102/102 [==============================] - 0s 2ms/step - loss: 3.0579 - mse: 3.0579 - mae: 1.3445 - val_loss: 3.5713 - val_mse: 3.5713 - val_mae: 1.4533\n",
            "Epoch 108/150\n",
            "102/102 [==============================] - 0s 2ms/step - loss: 3.0422 - mse: 3.0422 - mae: 1.3290 - val_loss: 3.7304 - val_mse: 3.7304 - val_mae: 1.5295\n",
            "Epoch 109/150\n",
            "102/102 [==============================] - 0s 2ms/step - loss: 3.1509 - mse: 3.1509 - mae: 1.3582 - val_loss: 3.5463 - val_mse: 3.5463 - val_mae: 1.4538\n",
            "Epoch 110/150\n",
            "102/102 [==============================] - 0s 2ms/step - loss: 3.0408 - mse: 3.0408 - mae: 1.3311 - val_loss: 3.9215 - val_mse: 3.9215 - val_mae: 1.4869\n",
            "Epoch 111/150\n",
            "102/102 [==============================] - 0s 2ms/step - loss: 3.0148 - mse: 3.0148 - mae: 1.3260 - val_loss: 3.6487 - val_mse: 3.6487 - val_mae: 1.4976\n",
            "Epoch 112/150\n",
            "102/102 [==============================] - 0s 2ms/step - loss: 2.9432 - mse: 2.9432 - mae: 1.3042 - val_loss: 3.5582 - val_mse: 3.5582 - val_mae: 1.4228\n",
            "Epoch 113/150\n",
            "102/102 [==============================] - 0s 2ms/step - loss: 3.0231 - mse: 3.0231 - mae: 1.3095 - val_loss: 3.5946 - val_mse: 3.5946 - val_mae: 1.4732\n",
            "Epoch 114/150\n",
            "102/102 [==============================] - 0s 2ms/step - loss: 3.0018 - mse: 3.0018 - mae: 1.3134 - val_loss: 3.8292 - val_mse: 3.8292 - val_mae: 1.5464\n",
            "Epoch 115/150\n",
            "102/102 [==============================] - 0s 2ms/step - loss: 3.1169 - mse: 3.1169 - mae: 1.3590 - val_loss: 3.9412 - val_mse: 3.9412 - val_mae: 1.5706\n",
            "Epoch 116/150\n",
            "102/102 [==============================] - 0s 2ms/step - loss: 3.3066 - mse: 3.3066 - mae: 1.4142 - val_loss: 4.2278 - val_mse: 4.2278 - val_mae: 1.6801\n",
            "Epoch 117/150\n",
            "102/102 [==============================] - 0s 2ms/step - loss: 3.1667 - mse: 3.1667 - mae: 1.3623 - val_loss: 3.5710 - val_mse: 3.5710 - val_mae: 1.4493\n",
            "Epoch 118/150\n",
            "102/102 [==============================] - 0s 2ms/step - loss: 3.1372 - mse: 3.1372 - mae: 1.3567 - val_loss: 3.5560 - val_mse: 3.5560 - val_mae: 1.4582\n",
            "Epoch 119/150\n",
            "102/102 [==============================] - 0s 2ms/step - loss: 2.9048 - mse: 2.9048 - mae: 1.2963 - val_loss: 3.5655 - val_mse: 3.5655 - val_mae: 1.4584\n",
            "Epoch 120/150\n",
            "102/102 [==============================] - 0s 2ms/step - loss: 3.1247 - mse: 3.1247 - mae: 1.3672 - val_loss: 3.8105 - val_mse: 3.8105 - val_mae: 1.5167\n",
            "Epoch 121/150\n",
            "102/102 [==============================] - 0s 2ms/step - loss: 3.1649 - mse: 3.1649 - mae: 1.3765 - val_loss: 3.4640 - val_mse: 3.4640 - val_mae: 1.4055\n",
            "Epoch 122/150\n",
            "102/102 [==============================] - 0s 2ms/step - loss: 3.0352 - mse: 3.0352 - mae: 1.3591 - val_loss: 3.5959 - val_mse: 3.5959 - val_mae: 1.4537\n",
            "Epoch 123/150\n",
            "102/102 [==============================] - 0s 2ms/step - loss: 3.0496 - mse: 3.0496 - mae: 1.3343 - val_loss: 3.4551 - val_mse: 3.4551 - val_mae: 1.4045\n",
            "Epoch 124/150\n",
            "102/102 [==============================] - 0s 2ms/step - loss: 2.9508 - mse: 2.9508 - mae: 1.3050 - val_loss: 4.9751 - val_mse: 4.9751 - val_mae: 1.8603\n",
            "Epoch 125/150\n",
            "102/102 [==============================] - 0s 2ms/step - loss: 3.2375 - mse: 3.2375 - mae: 1.3720 - val_loss: 3.5159 - val_mse: 3.5159 - val_mae: 1.4304\n",
            "Epoch 126/150\n",
            "102/102 [==============================] - 0s 2ms/step - loss: 3.0476 - mse: 3.0476 - mae: 1.3308 - val_loss: 3.5770 - val_mse: 3.5770 - val_mae: 1.4664\n",
            "Epoch 127/150\n",
            "102/102 [==============================] - 0s 2ms/step - loss: 3.2495 - mse: 3.2495 - mae: 1.3783 - val_loss: 4.1796 - val_mse: 4.1796 - val_mae: 1.6005\n",
            "Epoch 128/150\n",
            "102/102 [==============================] - 0s 2ms/step - loss: 2.9728 - mse: 2.9728 - mae: 1.3326 - val_loss: 3.5980 - val_mse: 3.5980 - val_mae: 1.4379\n",
            "Epoch 129/150\n",
            "102/102 [==============================] - 0s 2ms/step - loss: 2.8721 - mse: 2.8721 - mae: 1.2823 - val_loss: 4.0399 - val_mse: 4.0399 - val_mae: 1.5854\n",
            "Epoch 130/150\n",
            "102/102 [==============================] - 0s 2ms/step - loss: 3.1595 - mse: 3.1595 - mae: 1.3621 - val_loss: 3.6015 - val_mse: 3.6015 - val_mae: 1.4536\n",
            "Epoch 131/150\n",
            "102/102 [==============================] - 0s 2ms/step - loss: 3.0860 - mse: 3.0860 - mae: 1.3439 - val_loss: 3.5218 - val_mse: 3.5218 - val_mae: 1.4234\n",
            "Epoch 132/150\n",
            "102/102 [==============================] - 0s 2ms/step - loss: 3.0238 - mse: 3.0238 - mae: 1.3189 - val_loss: 4.3924 - val_mse: 4.3924 - val_mae: 1.6995\n",
            "Epoch 133/150\n",
            "102/102 [==============================] - 0s 2ms/step - loss: 2.8854 - mse: 2.8854 - mae: 1.2936 - val_loss: 3.5373 - val_mse: 3.5373 - val_mae: 1.4230\n",
            "Epoch 134/150\n",
            "102/102 [==============================] - 0s 2ms/step - loss: 3.1135 - mse: 3.1135 - mae: 1.3604 - val_loss: 3.7695 - val_mse: 3.7695 - val_mae: 1.5264\n",
            "Epoch 135/150\n",
            "102/102 [==============================] - 0s 2ms/step - loss: 2.9991 - mse: 2.9991 - mae: 1.3148 - val_loss: 3.7042 - val_mse: 3.7042 - val_mae: 1.4379\n",
            "Epoch 136/150\n",
            "102/102 [==============================] - 0s 2ms/step - loss: 3.1753 - mse: 3.1753 - mae: 1.3540 - val_loss: 3.4449 - val_mse: 3.4449 - val_mae: 1.3935\n",
            "Epoch 137/150\n",
            "102/102 [==============================] - 0s 2ms/step - loss: 2.9148 - mse: 2.9148 - mae: 1.2837 - val_loss: 3.4925 - val_mse: 3.4925 - val_mae: 1.4180\n",
            "Epoch 138/150\n",
            "102/102 [==============================] - 0s 2ms/step - loss: 2.9326 - mse: 2.9326 - mae: 1.2976 - val_loss: 3.8362 - val_mse: 3.8362 - val_mae: 1.5557\n",
            "Epoch 139/150\n",
            "102/102 [==============================] - 0s 2ms/step - loss: 3.1562 - mse: 3.1562 - mae: 1.3641 - val_loss: 3.5168 - val_mse: 3.5168 - val_mae: 1.4114\n",
            "Epoch 140/150\n",
            "102/102 [==============================] - 0s 2ms/step - loss: 3.0789 - mse: 3.0789 - mae: 1.3408 - val_loss: 3.4772 - val_mse: 3.4772 - val_mae: 1.4081\n",
            "Epoch 141/150\n",
            "102/102 [==============================] - 0s 2ms/step - loss: 3.0094 - mse: 3.0094 - mae: 1.3102 - val_loss: 3.8472 - val_mse: 3.8472 - val_mae: 1.5268\n",
            "Epoch 142/150\n",
            "102/102 [==============================] - 0s 2ms/step - loss: 2.8528 - mse: 2.8528 - mae: 1.2876 - val_loss: 3.5912 - val_mse: 3.5912 - val_mae: 1.4565\n",
            "Epoch 143/150\n",
            "102/102 [==============================] - 0s 2ms/step - loss: 3.0465 - mse: 3.0465 - mae: 1.3274 - val_loss: 3.4767 - val_mse: 3.4767 - val_mae: 1.4193\n",
            "Epoch 144/150\n",
            "102/102 [==============================] - 0s 2ms/step - loss: 2.9600 - mse: 2.9600 - mae: 1.3108 - val_loss: 3.4619 - val_mse: 3.4619 - val_mae: 1.4102\n",
            "Epoch 145/150\n",
            "102/102 [==============================] - 0s 2ms/step - loss: 2.9898 - mse: 2.9898 - mae: 1.3083 - val_loss: 4.0372 - val_mse: 4.0372 - val_mae: 1.5283\n",
            "Epoch 146/150\n",
            "102/102 [==============================] - 0s 3ms/step - loss: 3.0376 - mse: 3.0376 - mae: 1.3255 - val_loss: 3.6602 - val_mse: 3.6602 - val_mae: 1.4788\n",
            "Epoch 147/150\n",
            "102/102 [==============================] - 0s 2ms/step - loss: 2.8990 - mse: 2.8990 - mae: 1.2927 - val_loss: 3.5509 - val_mse: 3.5509 - val_mae: 1.4351\n",
            "Epoch 148/150\n",
            "102/102 [==============================] - 0s 2ms/step - loss: 2.8469 - mse: 2.8469 - mae: 1.2710 - val_loss: 3.4544 - val_mse: 3.4544 - val_mae: 1.4185\n",
            "Epoch 149/150\n",
            "102/102 [==============================] - 0s 2ms/step - loss: 3.1737 - mse: 3.1737 - mae: 1.3463 - val_loss: 3.4644 - val_mse: 3.4644 - val_mae: 1.4019\n",
            "Epoch 150/150\n",
            "102/102 [==============================] - 0s 2ms/step - loss: 3.0267 - mse: 3.0267 - mae: 1.3298 - val_loss: 3.5041 - val_mse: 3.5041 - val_mae: 1.4341\n"
          ],
          "name": "stdout"
        }
      ]
    },
    {
      "cell_type": "code",
      "metadata": {
        "colab": {
          "base_uri": "https://localhost:8080/",
          "height": 360
        },
        "id": "RZ-eqGimGaGg",
        "outputId": "d7c69d00-c395-44d0-95c6-b09cd998d9eb"
      },
      "source": [
        "# Plot training & validation accuracy values\n",
        "fig = plt.figure(figsize=(14,5))\n",
        "ax = fig.add_subplot(1,2,1, title = 'Model mean absolute error')\n",
        "plt.ylabel('mae',size='15')\n",
        "plt.plot(history.history['mae'])\n",
        "plt.plot(history.history['val_mae'])\n",
        "plt.legend(['Train', 'Test'], loc='upper left')\n",
        "plt.xlabel('epoch',size='15')\n",
        "# Plot training & validation loss values\n",
        "ax = fig.add_subplot(1,2,2, title = 'Model loss')\n",
        "plt.ylabel('Loss',size='15')\n",
        "plt.plot(history.history['loss'])\n",
        "plt.plot(history.history['val_loss'])\n",
        "plt.legend(['Train', 'Test'], loc='upper left')\n",
        "plt.xlabel('epoch',size='15')\n",
        "plt.tight_layout()\n",
        "plt.savefig('nn3layers.png',dpi=800)\n",
        "plt.show()"
      ],
      "execution_count": 15,
      "outputs": [
        {
          "output_type": "display_data",
          "data": {
            "image/png": "[encoded data removed]",
            "text/plain": [
              "<Figure size 1008x360 with 2 Axes>"
            ]
          },
          "metadata": {
            "tags": [],
            "needs_background": "light"
          }
        }
      ]
    },
    {
      "cell_type": "code",
      "metadata": {
        "id": "XTyEih_OGaM1"
      },
      "source": [
        ""
      ],
      "execution_count": null,
      "outputs": []
    }
  ]
}