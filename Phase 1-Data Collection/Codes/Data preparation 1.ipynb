{
 "metadata": {
  "language_info": {
   "codemirror_mode": {
    "name": "ipython",
    "version": 3
   },
   "file_extension": ".py",
   "mimetype": "text/x-python",
   "name": "python",
   "nbconvert_exporter": "python",
   "pygments_lexer": "ipython3",
   "version": "3.8.3-final"
  },
  "orig_nbformat": 2,
  "kernelspec": {
   "name": "python3",
   "display_name": "Python 3.8.3 64-bit (conda)",
   "metadata": {
    "interpreter": {
     "hash": "84d37dffb2af7f268fc7f49b660c49f0933770a2b2a82a03c1aeb1edb794d7a9"
    }
   }
  }
 },
 "nbformat": 4,
 "nbformat_minor": 2,
 "cells": [
  {
   "source": [
    "# Libraries"
   ],
   "cell_type": "markdown",
   "metadata": {}
  },
  {
   "cell_type": "code",
   "execution_count": 186,
   "metadata": {},
   "outputs": [],
   "source": [
    "import pandas as pd \n",
    "import numpy as np "
   ]
  },
  {
   "source": [
    "# Data Preparation "
   ],
   "cell_type": "markdown",
   "metadata": {}
  },
  {
   "source": [
    "let's first put together all the data sets "
   ],
   "cell_type": "markdown",
   "metadata": {}
  },
  {
   "cell_type": "code",
   "execution_count": 261,
   "metadata": {},
   "outputs": [],
   "source": [
    "dfs=[]\n",
    "for year in range(2010,2020):\n",
    "    dfs.append(pd.read_csv('C:\\\\Users\\\\alise\\\\Dropbox\\\\Programming\\\\Machine learning in physics\\\\Project\\\\Success in movies\\\\Machine-learning-in-physics-Project\\\\Phase 1-Data Collection\\\\Data\\\\Yearly data sets\\\\%s.csv'%year,index_col=0))\n",
    "meta=pd.concat(dfs,ignore_index=True)"
   ]
  },
  {
   "cell_type": "code",
   "execution_count": 262,
   "metadata": {},
   "outputs": [
    {
     "output_type": "execute_result",
     "data": {
      "text/plain": [
       "(8403, 27)"
      ]
     },
     "metadata": {},
     "execution_count": 262
    }
   ],
   "source": [
    "meta.shape"
   ]
  },
  {
   "cell_type": "code",
   "execution_count": 263,
   "metadata": {},
   "outputs": [
    {
     "output_type": "execute_result",
     "data": {
      "text/plain": [
       "     IMDB ID     Mojo ID                       title  \\\n",
       "0  tt0499549   876971521                      Avatar   \n",
       "1  tt0435761  1383564801                 Toy Story 3   \n",
       "2  tt1014759  3393226241         Alice in Wonderland   \n",
       "3  tt1228705  1515881985                  Iron Man 2   \n",
       "4  tt1325004   659654145  The Twilight Saga: Eclipse   \n",
       "\n",
       "                                              Genres    Year  \\\n",
       "0  Action\\n    \\n        Adventure\\n    \\n       ...  2011.0   \n",
       "1  Adventure\\n    \\n        Animation\\n    \\n    ...  2011.0   \n",
       "2  Adventure\\n    \\n        Family\\n    \\n       ...  2011.0   \n",
       "3  Action\\n    \\n        Adventure\\n    \\n       ...  2011.0   \n",
       "4  Action\\n    \\n        Adventure\\n    \\n       ...  2011.0   \n",
       "\n",
       "   Domestic Gross ($)  Worldwide Gross ($)  Opening ($)       Budget  \\\n",
       "0         749766139.0         2.744337e+09   77025481.0  237000000.0   \n",
       "1         415004880.0         1.066970e+09  110307189.0  200000000.0   \n",
       "2         334191110.0         1.025467e+09  116101023.0  200000000.0   \n",
       "3         312433331.0         6.239333e+08  128122480.0  200000000.0   \n",
       "4         300531751.0         6.984913e+08   64832191.0   68000000.0   \n",
       "\n",
       "   Opening Theaters  ...                                        Producer(s)  \\\n",
       "0            3452.0  ...  Brooke Breton\\n James Cameron\\n Laeta Kalogrid...   \n",
       "1            4028.0  ...  Darla K. Anderson\\n John Lasseter\\n Nicole Par...   \n",
       "2            3728.0  ...  Katterli Frauenfelder\\n Derek Frey\\n Chris Leb...   \n",
       "3            4380.0  ...  Victoria Alonso\\n Louis D'Esposito\\n Susan Dow...   \n",
       "4            4468.0  ...  Bill Bannerman\\n Marty Bowen\\n Wyck Godfrey\\n ...   \n",
       "\n",
       "  Running time (min)  IMDB score  IMDB votes Metascore  \\\n",
       "0              162.0         7.8   1122762.0      83.0   \n",
       "1              103.0         8.2    760723.0      92.0   \n",
       "2              108.0         6.4    385498.0      53.0   \n",
       "3              124.0         7.0    726620.0      57.0   \n",
       "4              124.0         5.0    229133.0      58.0   \n",
       "\n",
       "                 Meta Users  Country Language  \\\n",
       "0  3,483 user\\n536 critic\\n      USA  English   \n",
       "1    912 user\\n479 critic\\n      USA  English   \n",
       "2    802 user\\n459 critic\\n  USA\\nUK  English   \n",
       "3    912 user\\n498 critic\\n      USA  English   \n",
       "4    528 user\\n294 critic\\n      USA  English   \n",
       "\n",
       "                           Distributor  \\\n",
       "0                Twentieth Century Fox   \n",
       "1  Walt Disney Studios Motion Pictures   \n",
       "2  Walt Disney Studios Motion Pictures   \n",
       "3                   Paramount Pictures   \n",
       "4                 Summit Entertainment   \n",
       "\n",
       "                                        Plot Outline  \n",
       "0  A paraplegic Marine dispatched to the moon Pan...  \n",
       "1  The toys are mistakenly delivered to a day-car...  \n",
       "2  Nineteen-year-old Alice returns to the magical...  \n",
       "3  With the world now aware of his identity as Ir...  \n",
       "4  As a string of mysterious killings grips Seatt...  \n",
       "\n",
       "[5 rows x 27 columns]"
      ],
      "text/html": "<div>\n<style scoped>\n    .dataframe tbody tr th:only-of-type {\n        vertical-align: middle;\n    }\n\n    .dataframe tbody tr th {\n        vertical-align: top;\n    }\n\n    .dataframe thead th {\n        text-align: right;\n    }\n</style>\n<table border=\"1\" class=\"dataframe\">\n  <thead>\n    <tr style=\"text-align: right;\">\n      <th></th>\n      <th>IMDB ID</th>\n      <th>Mojo ID</th>\n      <th>title</th>\n      <th>Genres</th>\n      <th>Year</th>\n      <th>Domestic Gross ($)</th>\n      <th>Worldwide Gross ($)</th>\n      <th>Opening ($)</th>\n      <th>Budget</th>\n      <th>Opening Theaters</th>\n      <th>...</th>\n      <th>Producer(s)</th>\n      <th>Running time (min)</th>\n      <th>IMDB score</th>\n      <th>IMDB votes</th>\n      <th>Metascore</th>\n      <th>Meta Users</th>\n      <th>Country</th>\n      <th>Language</th>\n      <th>Distributor</th>\n      <th>Plot Outline</th>\n    </tr>\n  </thead>\n  <tbody>\n    <tr>\n      <th>0</th>\n      <td>tt0499549</td>\n      <td>876971521</td>\n      <td>Avatar</td>\n      <td>Action\\n    \\n        Adventure\\n    \\n       ...</td>\n      <td>2011.0</td>\n      <td>749766139.0</td>\n      <td>2.744337e+09</td>\n      <td>77025481.0</td>\n      <td>237000000.0</td>\n      <td>3452.0</td>\n      <td>...</td>\n      <td>Brooke Breton\\n James Cameron\\n Laeta Kalogrid...</td>\n      <td>162.0</td>\n      <td>7.8</td>\n      <td>1122762.0</td>\n      <td>83.0</td>\n      <td>3,483 user\\n536 critic\\n</td>\n      <td>USA</td>\n      <td>English</td>\n      <td>Twentieth Century Fox</td>\n      <td>A paraplegic Marine dispatched to the moon Pan...</td>\n    </tr>\n    <tr>\n      <th>1</th>\n      <td>tt0435761</td>\n      <td>1383564801</td>\n      <td>Toy Story 3</td>\n      <td>Adventure\\n    \\n        Animation\\n    \\n    ...</td>\n      <td>2011.0</td>\n      <td>415004880.0</td>\n      <td>1.066970e+09</td>\n      <td>110307189.0</td>\n      <td>200000000.0</td>\n      <td>4028.0</td>\n      <td>...</td>\n      <td>Darla K. Anderson\\n John Lasseter\\n Nicole Par...</td>\n      <td>103.0</td>\n      <td>8.2</td>\n      <td>760723.0</td>\n      <td>92.0</td>\n      <td>912 user\\n479 critic\\n</td>\n      <td>USA</td>\n      <td>English</td>\n      <td>Walt Disney Studios Motion Pictures</td>\n      <td>The toys are mistakenly delivered to a day-car...</td>\n    </tr>\n    <tr>\n      <th>2</th>\n      <td>tt1014759</td>\n      <td>3393226241</td>\n      <td>Alice in Wonderland</td>\n      <td>Adventure\\n    \\n        Family\\n    \\n       ...</td>\n      <td>2011.0</td>\n      <td>334191110.0</td>\n      <td>1.025467e+09</td>\n      <td>116101023.0</td>\n      <td>200000000.0</td>\n      <td>3728.0</td>\n      <td>...</td>\n      <td>Katterli Frauenfelder\\n Derek Frey\\n Chris Leb...</td>\n      <td>108.0</td>\n      <td>6.4</td>\n      <td>385498.0</td>\n      <td>53.0</td>\n      <td>802 user\\n459 critic\\n</td>\n      <td>USA\\nUK</td>\n      <td>English</td>\n      <td>Walt Disney Studios Motion Pictures</td>\n      <td>Nineteen-year-old Alice returns to the magical...</td>\n    </tr>\n    <tr>\n      <th>3</th>\n      <td>tt1228705</td>\n      <td>1515881985</td>\n      <td>Iron Man 2</td>\n      <td>Action\\n    \\n        Adventure\\n    \\n       ...</td>\n      <td>2011.0</td>\n      <td>312433331.0</td>\n      <td>6.239333e+08</td>\n      <td>128122480.0</td>\n      <td>200000000.0</td>\n      <td>4380.0</td>\n      <td>...</td>\n      <td>Victoria Alonso\\n Louis D'Esposito\\n Susan Dow...</td>\n      <td>124.0</td>\n      <td>7.0</td>\n      <td>726620.0</td>\n      <td>57.0</td>\n      <td>912 user\\n498 critic\\n</td>\n      <td>USA</td>\n      <td>English</td>\n      <td>Paramount Pictures</td>\n      <td>With the world now aware of his identity as Ir...</td>\n    </tr>\n    <tr>\n      <th>4</th>\n      <td>tt1325004</td>\n      <td>659654145</td>\n      <td>The Twilight Saga: Eclipse</td>\n      <td>Action\\n    \\n        Adventure\\n    \\n       ...</td>\n      <td>2011.0</td>\n      <td>300531751.0</td>\n      <td>6.984913e+08</td>\n      <td>64832191.0</td>\n      <td>68000000.0</td>\n      <td>4468.0</td>\n      <td>...</td>\n      <td>Bill Bannerman\\n Marty Bowen\\n Wyck Godfrey\\n ...</td>\n      <td>124.0</td>\n      <td>5.0</td>\n      <td>229133.0</td>\n      <td>58.0</td>\n      <td>528 user\\n294 critic\\n</td>\n      <td>USA</td>\n      <td>English</td>\n      <td>Summit Entertainment</td>\n      <td>As a string of mysterious killings grips Seatt...</td>\n    </tr>\n  </tbody>\n</table>\n<p>5 rows × 27 columns</p>\n</div>"
     },
     "metadata": {},
     "execution_count": 263
    }
   ],
   "source": [
    "meta.head()"
   ]
  },
  {
   "source": [
    "# Convert genres column to numerical values"
   ],
   "cell_type": "markdown",
   "metadata": {}
  },
  {
   "cell_type": "code",
   "execution_count": 264,
   "metadata": {},
   "outputs": [],
   "source": [
    "for index in meta.index:\n",
    "    if type(meta.Genres[index])!=float:\n",
    "        meta.at[index,'Genres']=meta.Genres[index].replace('\\n','').split()"
   ]
  },
  {
   "cell_type": "code",
   "execution_count": 265,
   "metadata": {},
   "outputs": [],
   "source": [
    "genres=[]\n",
    "for item in meta.Genres:\n",
    "    if type(item)==list:\n",
    "        for genre in item:\n",
    "            genres.append(genre)\n",
    "genres=sorted(list(set(genres)))"
   ]
  },
  {
   "cell_type": "code",
   "execution_count": 266,
   "metadata": {},
   "outputs": [
    {
     "output_type": "execute_result",
     "data": {
      "text/plain": [
       "['Action',\n",
       " 'Adult',\n",
       " 'Adventure',\n",
       " 'Animation',\n",
       " 'Biography',\n",
       " 'Comedy',\n",
       " 'Crime',\n",
       " 'Documentary',\n",
       " 'Drama',\n",
       " 'Family',\n",
       " 'Fantasy',\n",
       " 'Film-Noir',\n",
       " 'History',\n",
       " 'Horror',\n",
       " 'Music',\n",
       " 'Musical',\n",
       " 'Mystery',\n",
       " 'News',\n",
       " 'Reality-TV',\n",
       " 'Romance',\n",
       " 'Sci-Fi',\n",
       " 'Short',\n",
       " 'Sport',\n",
       " 'Thriller',\n",
       " 'War',\n",
       " 'Western']"
      ]
     },
     "metadata": {},
     "execution_count": 266
    }
   ],
   "source": [
    "genres"
   ]
  },
  {
   "cell_type": "code",
   "execution_count": 267,
   "metadata": {},
   "outputs": [],
   "source": [
    "for index in meta.index:\n",
    "    if type(meta.loc[index,'Genres'])==list:\n",
    "        for genre in meta.loc[index,'Genres']:\n",
    "            meta.loc[index,genre]=1"
   ]
  },
  {
   "cell_type": "code",
   "execution_count": 268,
   "metadata": {},
   "outputs": [
    {
     "output_type": "execute_result",
     "data": {
      "text/plain": [
       "      Action  Adult  Adventure  Animation  Biography  Comedy  Crime  \\\n",
       "0        1.0    NaN        1.0        NaN        NaN     NaN    NaN   \n",
       "1        NaN    NaN        1.0        1.0        NaN     1.0    NaN   \n",
       "2        NaN    NaN        1.0        NaN        NaN     NaN    NaN   \n",
       "3        1.0    NaN        1.0        NaN        NaN     NaN    NaN   \n",
       "4        1.0    NaN        1.0        NaN        NaN     NaN    NaN   \n",
       "...      ...    ...        ...        ...        ...     ...    ...   \n",
       "8398     NaN    NaN        NaN        NaN        NaN     NaN    NaN   \n",
       "8399     NaN    NaN        NaN        NaN        NaN     NaN    NaN   \n",
       "8400     NaN    NaN        NaN        NaN        NaN     NaN    NaN   \n",
       "8401     NaN    NaN        NaN        NaN        NaN     NaN    NaN   \n",
       "8402     NaN    NaN        NaN        NaN        NaN     NaN    NaN   \n",
       "\n",
       "      Documentary  Drama  Family  ...  Mystery  News  Reality-TV  Romance  \\\n",
       "0             NaN    NaN     NaN  ...      NaN   NaN         NaN      NaN   \n",
       "1             NaN    NaN     1.0  ...      NaN   NaN         NaN      NaN   \n",
       "2             NaN    NaN     1.0  ...      NaN   NaN         NaN      NaN   \n",
       "3             NaN    NaN     NaN  ...      NaN   NaN         NaN      NaN   \n",
       "4             NaN    1.0     NaN  ...      NaN   NaN         NaN      1.0   \n",
       "...           ...    ...     ...  ...      ...   ...         ...      ...   \n",
       "8398          1.0    NaN     NaN  ...      NaN   NaN         NaN      NaN   \n",
       "8399          1.0    1.0     NaN  ...      NaN   NaN         NaN      NaN   \n",
       "8400          1.0    NaN     NaN  ...      NaN   NaN         NaN      NaN   \n",
       "8401          1.0    NaN     NaN  ...      NaN   NaN         NaN      NaN   \n",
       "8402          NaN    NaN     NaN  ...      1.0   NaN         NaN      NaN   \n",
       "\n",
       "      Sci-Fi  Short  Sport  Thriller  War  Western  \n",
       "0        1.0    NaN    NaN       NaN  NaN      NaN  \n",
       "1        NaN    NaN    NaN       NaN  NaN      NaN  \n",
       "2        NaN    NaN    NaN       NaN  NaN      NaN  \n",
       "3        1.0    NaN    NaN       NaN  NaN      NaN  \n",
       "4        NaN    NaN    NaN       1.0  NaN      NaN  \n",
       "...      ...    ...    ...       ...  ...      ...  \n",
       "8398     NaN    NaN    NaN       NaN  NaN      NaN  \n",
       "8399     NaN    NaN    NaN       NaN  1.0      NaN  \n",
       "8400     NaN    NaN    NaN       NaN  NaN      NaN  \n",
       "8401     NaN    NaN    NaN       NaN  NaN      NaN  \n",
       "8402     NaN    NaN    NaN       NaN  NaN      NaN  \n",
       "\n",
       "[8403 rows x 26 columns]"
      ],
      "text/html": "<div>\n<style scoped>\n    .dataframe tbody tr th:only-of-type {\n        vertical-align: middle;\n    }\n\n    .dataframe tbody tr th {\n        vertical-align: top;\n    }\n\n    .dataframe thead th {\n        text-align: right;\n    }\n</style>\n<table border=\"1\" class=\"dataframe\">\n  <thead>\n    <tr style=\"text-align: right;\">\n      <th></th>\n      <th>Action</th>\n      <th>Adult</th>\n      <th>Adventure</th>\n      <th>Animation</th>\n      <th>Biography</th>\n      <th>Comedy</th>\n      <th>Crime</th>\n      <th>Documentary</th>\n      <th>Drama</th>\n      <th>Family</th>\n      <th>...</th>\n      <th>Mystery</th>\n      <th>News</th>\n      <th>Reality-TV</th>\n      <th>Romance</th>\n      <th>Sci-Fi</th>\n      <th>Short</th>\n      <th>Sport</th>\n      <th>Thriller</th>\n      <th>War</th>\n      <th>Western</th>\n    </tr>\n  </thead>\n  <tbody>\n    <tr>\n      <th>0</th>\n      <td>1.0</td>\n      <td>NaN</td>\n      <td>1.0</td>\n      <td>NaN</td>\n      <td>NaN</td>\n      <td>NaN</td>\n      <td>NaN</td>\n      <td>NaN</td>\n      <td>NaN</td>\n      <td>NaN</td>\n      <td>...</td>\n      <td>NaN</td>\n      <td>NaN</td>\n      <td>NaN</td>\n      <td>NaN</td>\n      <td>1.0</td>\n      <td>NaN</td>\n      <td>NaN</td>\n      <td>NaN</td>\n      <td>NaN</td>\n      <td>NaN</td>\n    </tr>\n    <tr>\n      <th>1</th>\n      <td>NaN</td>\n      <td>NaN</td>\n      <td>1.0</td>\n      <td>1.0</td>\n      <td>NaN</td>\n      <td>1.0</td>\n      <td>NaN</td>\n      <td>NaN</td>\n      <td>NaN</td>\n      <td>1.0</td>\n      <td>...</td>\n      <td>NaN</td>\n      <td>NaN</td>\n      <td>NaN</td>\n      <td>NaN</td>\n      <td>NaN</td>\n      <td>NaN</td>\n      <td>NaN</td>\n      <td>NaN</td>\n      <td>NaN</td>\n      <td>NaN</td>\n    </tr>\n    <tr>\n      <th>2</th>\n      <td>NaN</td>\n      <td>NaN</td>\n      <td>1.0</td>\n      <td>NaN</td>\n      <td>NaN</td>\n      <td>NaN</td>\n      <td>NaN</td>\n      <td>NaN</td>\n      <td>NaN</td>\n      <td>1.0</td>\n      <td>...</td>\n      <td>NaN</td>\n      <td>NaN</td>\n      <td>NaN</td>\n      <td>NaN</td>\n      <td>NaN</td>\n      <td>NaN</td>\n      <td>NaN</td>\n      <td>NaN</td>\n      <td>NaN</td>\n      <td>NaN</td>\n    </tr>\n    <tr>\n      <th>3</th>\n      <td>1.0</td>\n      <td>NaN</td>\n      <td>1.0</td>\n      <td>NaN</td>\n      <td>NaN</td>\n      <td>NaN</td>\n      <td>NaN</td>\n      <td>NaN</td>\n      <td>NaN</td>\n      <td>NaN</td>\n      <td>...</td>\n      <td>NaN</td>\n      <td>NaN</td>\n      <td>NaN</td>\n      <td>NaN</td>\n      <td>1.0</td>\n      <td>NaN</td>\n      <td>NaN</td>\n      <td>NaN</td>\n      <td>NaN</td>\n      <td>NaN</td>\n    </tr>\n    <tr>\n      <th>4</th>\n      <td>1.0</td>\n      <td>NaN</td>\n      <td>1.0</td>\n      <td>NaN</td>\n      <td>NaN</td>\n      <td>NaN</td>\n      <td>NaN</td>\n      <td>NaN</td>\n      <td>1.0</td>\n      <td>NaN</td>\n      <td>...</td>\n      <td>NaN</td>\n      <td>NaN</td>\n      <td>NaN</td>\n      <td>1.0</td>\n      <td>NaN</td>\n      <td>NaN</td>\n      <td>NaN</td>\n      <td>1.0</td>\n      <td>NaN</td>\n      <td>NaN</td>\n    </tr>\n    <tr>\n      <th>...</th>\n      <td>...</td>\n      <td>...</td>\n      <td>...</td>\n      <td>...</td>\n      <td>...</td>\n      <td>...</td>\n      <td>...</td>\n      <td>...</td>\n      <td>...</td>\n      <td>...</td>\n      <td>...</td>\n      <td>...</td>\n      <td>...</td>\n      <td>...</td>\n      <td>...</td>\n      <td>...</td>\n      <td>...</td>\n      <td>...</td>\n      <td>...</td>\n      <td>...</td>\n      <td>...</td>\n    </tr>\n    <tr>\n      <th>8398</th>\n      <td>NaN</td>\n      <td>NaN</td>\n      <td>NaN</td>\n      <td>NaN</td>\n      <td>NaN</td>\n      <td>NaN</td>\n      <td>NaN</td>\n      <td>1.0</td>\n      <td>NaN</td>\n      <td>NaN</td>\n      <td>...</td>\n      <td>NaN</td>\n      <td>NaN</td>\n      <td>NaN</td>\n      <td>NaN</td>\n      <td>NaN</td>\n      <td>NaN</td>\n      <td>NaN</td>\n      <td>NaN</td>\n      <td>NaN</td>\n      <td>NaN</td>\n    </tr>\n    <tr>\n      <th>8399</th>\n      <td>NaN</td>\n      <td>NaN</td>\n      <td>NaN</td>\n      <td>NaN</td>\n      <td>NaN</td>\n      <td>NaN</td>\n      <td>NaN</td>\n      <td>1.0</td>\n      <td>1.0</td>\n      <td>NaN</td>\n      <td>...</td>\n      <td>NaN</td>\n      <td>NaN</td>\n      <td>NaN</td>\n      <td>NaN</td>\n      <td>NaN</td>\n      <td>NaN</td>\n      <td>NaN</td>\n      <td>NaN</td>\n      <td>1.0</td>\n      <td>NaN</td>\n    </tr>\n    <tr>\n      <th>8400</th>\n      <td>NaN</td>\n      <td>NaN</td>\n      <td>NaN</td>\n      <td>NaN</td>\n      <td>NaN</td>\n      <td>NaN</td>\n      <td>NaN</td>\n      <td>1.0</td>\n      <td>NaN</td>\n      <td>NaN</td>\n      <td>...</td>\n      <td>NaN</td>\n      <td>NaN</td>\n      <td>NaN</td>\n      <td>NaN</td>\n      <td>NaN</td>\n      <td>NaN</td>\n      <td>NaN</td>\n      <td>NaN</td>\n      <td>NaN</td>\n      <td>NaN</td>\n    </tr>\n    <tr>\n      <th>8401</th>\n      <td>NaN</td>\n      <td>NaN</td>\n      <td>NaN</td>\n      <td>NaN</td>\n      <td>NaN</td>\n      <td>NaN</td>\n      <td>NaN</td>\n      <td>1.0</td>\n      <td>NaN</td>\n      <td>NaN</td>\n      <td>...</td>\n      <td>NaN</td>\n      <td>NaN</td>\n      <td>NaN</td>\n      <td>NaN</td>\n      <td>NaN</td>\n      <td>NaN</td>\n      <td>NaN</td>\n      <td>NaN</td>\n      <td>NaN</td>\n      <td>NaN</td>\n    </tr>\n    <tr>\n      <th>8402</th>\n      <td>NaN</td>\n      <td>NaN</td>\n      <td>NaN</td>\n      <td>NaN</td>\n      <td>NaN</td>\n      <td>NaN</td>\n      <td>NaN</td>\n      <td>NaN</td>\n      <td>NaN</td>\n      <td>NaN</td>\n      <td>...</td>\n      <td>1.0</td>\n      <td>NaN</td>\n      <td>NaN</td>\n      <td>NaN</td>\n      <td>NaN</td>\n      <td>NaN</td>\n      <td>NaN</td>\n      <td>NaN</td>\n      <td>NaN</td>\n      <td>NaN</td>\n    </tr>\n  </tbody>\n</table>\n<p>8403 rows × 26 columns</p>\n</div>"
     },
     "metadata": {},
     "execution_count": 268
    }
   ],
   "source": [
    "meta[['Action',\n",
    " 'Adult',\n",
    " 'Adventure',\n",
    " 'Animation',\n",
    " 'Biography',\n",
    " 'Comedy',\n",
    " 'Crime',\n",
    " 'Documentary',\n",
    " 'Drama',\n",
    " 'Family',\n",
    " 'Fantasy',\n",
    " 'Film-Noir',\n",
    " 'History',\n",
    " 'Horror',\n",
    " 'Music',\n",
    " 'Musical',\n",
    " 'Mystery',\n",
    " 'News',\n",
    " 'Reality-TV',\n",
    " 'Romance',\n",
    " 'Sci-Fi',\n",
    " 'Short',\n",
    " 'Sport',\n",
    " 'Thriller',\n",
    " 'War',\n",
    " 'Western']]"
   ]
  },
  {
   "cell_type": "code",
   "execution_count": 269,
   "metadata": {},
   "outputs": [],
   "source": [
    "for item in genres:\n",
    "    meta[item]=meta[item].fillna(value=0)"
   ]
  },
  {
   "source": [
    "# Convert MPAA column valeus to numerical valeus "
   ],
   "cell_type": "markdown",
   "metadata": {}
  },
  {
   "cell_type": "code",
   "execution_count": 270,
   "metadata": {},
   "outputs": [],
   "source": [
    "mpaa=[]\n",
    "for i in meta.MPAA.to_list():\n",
    "   if type(i)!=float:\n",
    "       mpaa.append(i)\n",
    "\n",
    "\n",
    "mpaa=sorted(list(set(mpaa)))\n",
    "#D={}\n",
    "#for index,item in enumerate(mpaa):\n",
    " #   v=np.zeros(len(mpaa),dtype=int)\n",
    "  #  v[index]=1\n",
    "   # D[item]=v\n",
    "#D"
   ]
  },
  {
   "cell_type": "code",
   "execution_count": 271,
   "metadata": {},
   "outputs": [],
   "source": [
    "for index in meta.index:\n",
    "    if type(meta.loc[index,'MPAA'])==str:\n",
    "        meta.loc[index,meta.loc[index,'MPAA']]=1\n",
    "        "
   ]
  },
  {
   "cell_type": "code",
   "execution_count": 272,
   "metadata": {},
   "outputs": [],
   "source": [
    "for item in mpaa:\n",
    "    meta[item]=meta[item].fillna(value=0)"
   ]
  },
  {
   "cell_type": "code",
   "execution_count": 273,
   "metadata": {},
   "outputs": [
    {
     "output_type": "execute_result",
     "data": {
      "text/plain": [
       "     IMDB ID     Mojo ID                       title  \\\n",
       "0  tt0499549   876971521                      Avatar   \n",
       "1  tt0435761  1383564801                 Toy Story 3   \n",
       "2  tt1014759  3393226241         Alice in Wonderland   \n",
       "3  tt1228705  1515881985                  Iron Man 2   \n",
       "4  tt1325004   659654145  The Twilight Saga: Eclipse   \n",
       "\n",
       "                                              Genres    Year  \\\n",
       "0               [Action, Adventure, Fantasy, Sci-Fi]  2011.0   \n",
       "1    [Adventure, Animation, Comedy, Family, Fantasy]  2011.0   \n",
       "2                       [Adventure, Family, Fantasy]  2011.0   \n",
       "3                        [Action, Adventure, Sci-Fi]  2011.0   \n",
       "4  [Action, Adventure, Drama, Fantasy, Romance, T...  2011.0   \n",
       "\n",
       "   Domestic Gross ($)  Worldwide Gross ($)  Opening ($)       Budget  \\\n",
       "0         749766139.0         2.744337e+09   77025481.0  237000000.0   \n",
       "1         415004880.0         1.066970e+09  110307189.0  200000000.0   \n",
       "2         334191110.0         1.025467e+09  116101023.0  200000000.0   \n",
       "3         312433331.0         6.239333e+08  128122480.0  200000000.0   \n",
       "4         300531751.0         6.984913e+08   64832191.0   68000000.0   \n",
       "\n",
       "   Opening Theaters  ... Adult PG-13   PG    R    G Unrated NC-17 Not Rated  \\\n",
       "0            3452.0  ...   0.0   1.0  0.0  0.0  0.0     0.0   0.0       0.0   \n",
       "1            4028.0  ...   0.0   0.0  0.0  0.0  0.0     0.0   0.0       0.0   \n",
       "2            3728.0  ...   0.0   0.0  1.0  0.0  0.0     0.0   0.0       0.0   \n",
       "3            4380.0  ...   0.0   1.0  0.0  0.0  0.0     0.0   0.0       0.0   \n",
       "4            4468.0  ...   0.0   1.0  0.0  0.0  0.0     0.0   0.0       0.0   \n",
       "\n",
       "   M/PG  TV-PG  \n",
       "0   0.0    0.0  \n",
       "1   0.0    0.0  \n",
       "2   0.0    0.0  \n",
       "3   0.0    0.0  \n",
       "4   0.0    0.0  \n",
       "\n",
       "[5 rows x 62 columns]"
      ],
      "text/html": "<div>\n<style scoped>\n    .dataframe tbody tr th:only-of-type {\n        vertical-align: middle;\n    }\n\n    .dataframe tbody tr th {\n        vertical-align: top;\n    }\n\n    .dataframe thead th {\n        text-align: right;\n    }\n</style>\n<table border=\"1\" class=\"dataframe\">\n  <thead>\n    <tr style=\"text-align: right;\">\n      <th></th>\n      <th>IMDB ID</th>\n      <th>Mojo ID</th>\n      <th>title</th>\n      <th>Genres</th>\n      <th>Year</th>\n      <th>Domestic Gross ($)</th>\n      <th>Worldwide Gross ($)</th>\n      <th>Opening ($)</th>\n      <th>Budget</th>\n      <th>Opening Theaters</th>\n      <th>...</th>\n      <th>Adult</th>\n      <th>PG-13</th>\n      <th>PG</th>\n      <th>R</th>\n      <th>G</th>\n      <th>Unrated</th>\n      <th>NC-17</th>\n      <th>Not Rated</th>\n      <th>M/PG</th>\n      <th>TV-PG</th>\n    </tr>\n  </thead>\n  <tbody>\n    <tr>\n      <th>0</th>\n      <td>tt0499549</td>\n      <td>876971521</td>\n      <td>Avatar</td>\n      <td>[Action, Adventure, Fantasy, Sci-Fi]</td>\n      <td>2011.0</td>\n      <td>749766139.0</td>\n      <td>2.744337e+09</td>\n      <td>77025481.0</td>\n      <td>237000000.0</td>\n      <td>3452.0</td>\n      <td>...</td>\n      <td>0.0</td>\n      <td>1.0</td>\n      <td>0.0</td>\n      <td>0.0</td>\n      <td>0.0</td>\n      <td>0.0</td>\n      <td>0.0</td>\n      <td>0.0</td>\n      <td>0.0</td>\n      <td>0.0</td>\n    </tr>\n    <tr>\n      <th>1</th>\n      <td>tt0435761</td>\n      <td>1383564801</td>\n      <td>Toy Story 3</td>\n      <td>[Adventure, Animation, Comedy, Family, Fantasy]</td>\n      <td>2011.0</td>\n      <td>415004880.0</td>\n      <td>1.066970e+09</td>\n      <td>110307189.0</td>\n      <td>200000000.0</td>\n      <td>4028.0</td>\n      <td>...</td>\n      <td>0.0</td>\n      <td>0.0</td>\n      <td>0.0</td>\n      <td>0.0</td>\n      <td>0.0</td>\n      <td>0.0</td>\n      <td>0.0</td>\n      <td>0.0</td>\n      <td>0.0</td>\n      <td>0.0</td>\n    </tr>\n    <tr>\n      <th>2</th>\n      <td>tt1014759</td>\n      <td>3393226241</td>\n      <td>Alice in Wonderland</td>\n      <td>[Adventure, Family, Fantasy]</td>\n      <td>2011.0</td>\n      <td>334191110.0</td>\n      <td>1.025467e+09</td>\n      <td>116101023.0</td>\n      <td>200000000.0</td>\n      <td>3728.0</td>\n      <td>...</td>\n      <td>0.0</td>\n      <td>0.0</td>\n      <td>1.0</td>\n      <td>0.0</td>\n      <td>0.0</td>\n      <td>0.0</td>\n      <td>0.0</td>\n      <td>0.0</td>\n      <td>0.0</td>\n      <td>0.0</td>\n    </tr>\n    <tr>\n      <th>3</th>\n      <td>tt1228705</td>\n      <td>1515881985</td>\n      <td>Iron Man 2</td>\n      <td>[Action, Adventure, Sci-Fi]</td>\n      <td>2011.0</td>\n      <td>312433331.0</td>\n      <td>6.239333e+08</td>\n      <td>128122480.0</td>\n      <td>200000000.0</td>\n      <td>4380.0</td>\n      <td>...</td>\n      <td>0.0</td>\n      <td>1.0</td>\n      <td>0.0</td>\n      <td>0.0</td>\n      <td>0.0</td>\n      <td>0.0</td>\n      <td>0.0</td>\n      <td>0.0</td>\n      <td>0.0</td>\n      <td>0.0</td>\n    </tr>\n    <tr>\n      <th>4</th>\n      <td>tt1325004</td>\n      <td>659654145</td>\n      <td>The Twilight Saga: Eclipse</td>\n      <td>[Action, Adventure, Drama, Fantasy, Romance, T...</td>\n      <td>2011.0</td>\n      <td>300531751.0</td>\n      <td>6.984913e+08</td>\n      <td>64832191.0</td>\n      <td>68000000.0</td>\n      <td>4468.0</td>\n      <td>...</td>\n      <td>0.0</td>\n      <td>1.0</td>\n      <td>0.0</td>\n      <td>0.0</td>\n      <td>0.0</td>\n      <td>0.0</td>\n      <td>0.0</td>\n      <td>0.0</td>\n      <td>0.0</td>\n      <td>0.0</td>\n    </tr>\n  </tbody>\n</table>\n<p>5 rows × 62 columns</p>\n</div>"
     },
     "metadata": {},
     "execution_count": 273
    }
   ],
   "source": [
    "meta.head(5)"
   ]
  },
  {
   "source": [
    "# adding month and day columns"
   ],
   "cell_type": "markdown",
   "metadata": {}
  },
  {
   "cell_type": "code",
   "execution_count": 274,
   "metadata": {},
   "outputs": [],
   "source": [
    "for index in meta.index:\n",
    "    if type(meta.loc[index,'Release Date'])!=float:\n",
    "        try:\n",
    "            meta.loc[index,'Day']=int(meta.loc[index,'Release Date'].split()[1].replace(',',''))\n",
    "            meta.loc[index,'Month']=meta.loc[index,'Release Date'].split()[0]\n",
    "        except:\n",
    "            meta.loc[index,'Day']=int(meta.loc[index,'Release Date'].split('-')[0])\n",
    "            meta.loc[index,'Month']=meta.loc[index,'Release Date'].split('-')[1]"
   ]
  },
  {
   "cell_type": "code",
   "execution_count": 275,
   "metadata": {},
   "outputs": [],
   "source": [
    "month_dict={'Jan':1,'Feb':2,'Mar':3,'Apr':4,'May':5,'Jun':6,'Jul':7,'Aug':8,'Sep':9,'Oct':10,'Nov':11,'Dec':12}\n",
    "for index in meta.index:\n",
    "    if type(meta.loc[index,'Month'])==str:\n",
    "        meta.loc[index,'Month']=month_dict[meta.loc[index,'Month']]"
   ]
  },
  {
   "cell_type": "code",
   "execution_count": 276,
   "metadata": {},
   "outputs": [],
   "source": [
    "meta.drop('Release Date',axis=1,inplace=True)"
   ]
  },
  {
   "cell_type": "code",
   "execution_count": 277,
   "metadata": {},
   "outputs": [],
   "source": [
    "meta.drop('Genres',axis=1,inplace=True)"
   ]
  },
  {
   "cell_type": "code",
   "execution_count": 278,
   "metadata": {},
   "outputs": [],
   "source": [
    "meta.drop('MPAA',axis=1,inplace=True)"
   ]
  },
  {
   "cell_type": "code",
   "execution_count": 279,
   "metadata": {},
   "outputs": [
    {
     "output_type": "execute_result",
     "data": {
      "text/plain": [
       "Index(['IMDB ID', 'Mojo ID', 'title', 'Year', 'Domestic Gross ($)',\n",
       "       'Worldwide Gross ($)', 'Opening ($)', 'Budget', 'Opening Theaters',\n",
       "       'In Realease (Days)', 'Widest Release', 'Stars', 'Director(s)',\n",
       "       'Writer(s)', 'Producer(s)', 'Running time (min)', 'IMDB score',\n",
       "       'IMDB votes', 'Metascore', 'Meta Users', 'Country', 'Language',\n",
       "       'Distributor', 'Plot Outline', 'Action', 'Adventure', 'Fantasy',\n",
       "       'Sci-Fi', 'Animation', 'Comedy', 'Family', 'Drama', 'Romance',\n",
       "       'Thriller', 'Mystery', 'Crime', 'Sport', 'Musical', 'Documentary',\n",
       "       'History', 'Music', 'Biography', 'Horror', 'War', 'Western', 'Short',\n",
       "       'News', 'Film-Noir', 'Reality-TV', 'Adult', 'PG-13', 'PG', 'R', 'G',\n",
       "       'Unrated', 'NC-17', 'Not Rated', 'M/PG', 'TV-PG', 'Day', 'Month'],\n",
       "      dtype='object')"
      ]
     },
     "metadata": {},
     "execution_count": 279
    }
   ],
   "source": [
    "meta.columns"
   ]
  },
  {
   "source": [
    "# separate regular users and critics and add them in to our data set "
   ],
   "cell_type": "markdown",
   "metadata": {}
  },
  {
   "cell_type": "code",
   "execution_count": 280,
   "metadata": {},
   "outputs": [],
   "source": [
    "for index in meta.index:\n",
    "    if type(meta.loc[index,'Meta Users'])==str:\n",
    "        demo=meta.loc[index,'Meta Users'].strip().split('\\n')\n",
    "        for item in demo:\n",
    "            user=item.split()\n",
    "            if user[1]=='user':\n",
    "                meta.loc[index,'User']=int(user[0].replace(',',''))\n",
    "            elif user[1]=='critic':\n",
    "                meta.loc[index,'Critic']=int(user[0].replace(',',''))\n",
    "\n"
   ]
  },
  {
   "cell_type": "code",
   "execution_count": 281,
   "metadata": {},
   "outputs": [],
   "source": [
    "meta.drop('Meta Users',axis=1,inplace=True)"
   ]
  },
  {
   "source": [
    "# add languages as a separate column for each language using one hot encoding"
   ],
   "cell_type": "markdown",
   "metadata": {}
  },
  {
   "cell_type": "code",
   "execution_count": 282,
   "metadata": {},
   "outputs": [],
   "source": [
    "language=set(meta.Language)\n",
    "language={x for x in a if x==x}\n",
    "language=sorted(a)"
   ]
  },
  {
   "cell_type": "code",
   "execution_count": 313,
   "metadata": {},
   "outputs": [],
   "source": [
    "for index in meta.index:\n",
    "    if type(meta.loc[index,'Language']==str):\n",
    "        meta.loc[index,meta.loc[index,'Language']]=1\n",
    "for item in language:\n",
    "    meta[item]=meta[item].fillna(value=0)"
   ]
  },
  {
   "cell_type": "code",
   "execution_count": 314,
   "metadata": {},
   "outputs": [
    {
     "output_type": "execute_result",
     "data": {
      "text/plain": [
       "0       1\n",
       "1       1\n",
       "2       1\n",
       "3       1\n",
       "4       1\n",
       "       ..\n",
       "8398    1\n",
       "8399    0\n",
       "8400    0\n",
       "8401    0\n",
       "8402    1\n",
       "Name: English, Length: 8403, dtype: int64"
      ]
     },
     "metadata": {},
     "execution_count": 314
    }
   ],
   "source": [
    "meta['English']"
   ]
  },
  {
   "cell_type": "code",
   "execution_count": 315,
   "metadata": {},
   "outputs": [
    {
     "output_type": "execute_result",
     "data": {
      "text/plain": [
       "     IMDB ID     Mojo ID                       title    Year  \\\n",
       "0  tt0499549   876971521                      Avatar  2011.0   \n",
       "1  tt0435761  1383564801                 Toy Story 3  2011.0   \n",
       "2  tt1014759  3393226241         Alice in Wonderland  2011.0   \n",
       "3  tt1228705  1515881985                  Iron Man 2  2011.0   \n",
       "4  tt1325004   659654145  The Twilight Saga: Eclipse  2011.0   \n",
       "\n",
       "   Domestic Gross ($)  Worldwide Gross ($)  Opening ($)       Budget  \\\n",
       "0         749766139.0         2.744337e+09   77025481.0  237000000.0   \n",
       "1         415004880.0         1.066970e+09  110307189.0  200000000.0   \n",
       "2         334191110.0         1.025467e+09  116101023.0  200000000.0   \n",
       "3         312433331.0         6.239333e+08  128122480.0  200000000.0   \n",
       "4         300531751.0         6.984913e+08   64832191.0   68000000.0   \n",
       "\n",
       "   Opening Theaters  In Realease (Days)  ...  American Sign Language Malay  \\\n",
       "0            3452.0               379.0  ...                       0     0   \n",
       "1            4028.0               203.0  ...                       0     0   \n",
       "2            3728.0               302.0  ...                       0     0   \n",
       "3            4380.0               239.0  ...                       0     0   \n",
       "4            4468.0               185.0  ...                       0     0   \n",
       "\n",
       "  Latin Guarani Wayuu  Yakut  Neapolitan  Wolof  Dari Rhaetian  \n",
       "0     0       0     0      0           0      0     0        0  \n",
       "1     0       0     0      0           0      0     0        0  \n",
       "2     0       0     0      0           0      0     0        0  \n",
       "3     0       0     0      0           0      0     0        0  \n",
       "4     0       0     0      0           0      0     0        0  \n",
       "\n",
       "[5 rows x 147 columns]"
      ],
      "text/html": "<div>\n<style scoped>\n    .dataframe tbody tr th:only-of-type {\n        vertical-align: middle;\n    }\n\n    .dataframe tbody tr th {\n        vertical-align: top;\n    }\n\n    .dataframe thead th {\n        text-align: right;\n    }\n</style>\n<table border=\"1\" class=\"dataframe\">\n  <thead>\n    <tr style=\"text-align: right;\">\n      <th></th>\n      <th>IMDB ID</th>\n      <th>Mojo ID</th>\n      <th>title</th>\n      <th>Year</th>\n      <th>Domestic Gross ($)</th>\n      <th>Worldwide Gross ($)</th>\n      <th>Opening ($)</th>\n      <th>Budget</th>\n      <th>Opening Theaters</th>\n      <th>In Realease (Days)</th>\n      <th>...</th>\n      <th>American Sign Language</th>\n      <th>Malay</th>\n      <th>Latin</th>\n      <th>Guarani</th>\n      <th>Wayuu</th>\n      <th>Yakut</th>\n      <th>Neapolitan</th>\n      <th>Wolof</th>\n      <th>Dari</th>\n      <th>Rhaetian</th>\n    </tr>\n  </thead>\n  <tbody>\n    <tr>\n      <th>0</th>\n      <td>tt0499549</td>\n      <td>876971521</td>\n      <td>Avatar</td>\n      <td>2011.0</td>\n      <td>749766139.0</td>\n      <td>2.744337e+09</td>\n      <td>77025481.0</td>\n      <td>237000000.0</td>\n      <td>3452.0</td>\n      <td>379.0</td>\n      <td>...</td>\n      <td>0</td>\n      <td>0</td>\n      <td>0</td>\n      <td>0</td>\n      <td>0</td>\n      <td>0</td>\n      <td>0</td>\n      <td>0</td>\n      <td>0</td>\n      <td>0</td>\n    </tr>\n    <tr>\n      <th>1</th>\n      <td>tt0435761</td>\n      <td>1383564801</td>\n      <td>Toy Story 3</td>\n      <td>2011.0</td>\n      <td>415004880.0</td>\n      <td>1.066970e+09</td>\n      <td>110307189.0</td>\n      <td>200000000.0</td>\n      <td>4028.0</td>\n      <td>203.0</td>\n      <td>...</td>\n      <td>0</td>\n      <td>0</td>\n      <td>0</td>\n      <td>0</td>\n      <td>0</td>\n      <td>0</td>\n      <td>0</td>\n      <td>0</td>\n      <td>0</td>\n      <td>0</td>\n    </tr>\n    <tr>\n      <th>2</th>\n      <td>tt1014759</td>\n      <td>3393226241</td>\n      <td>Alice in Wonderland</td>\n      <td>2011.0</td>\n      <td>334191110.0</td>\n      <td>1.025467e+09</td>\n      <td>116101023.0</td>\n      <td>200000000.0</td>\n      <td>3728.0</td>\n      <td>302.0</td>\n      <td>...</td>\n      <td>0</td>\n      <td>0</td>\n      <td>0</td>\n      <td>0</td>\n      <td>0</td>\n      <td>0</td>\n      <td>0</td>\n      <td>0</td>\n      <td>0</td>\n      <td>0</td>\n    </tr>\n    <tr>\n      <th>3</th>\n      <td>tt1228705</td>\n      <td>1515881985</td>\n      <td>Iron Man 2</td>\n      <td>2011.0</td>\n      <td>312433331.0</td>\n      <td>6.239333e+08</td>\n      <td>128122480.0</td>\n      <td>200000000.0</td>\n      <td>4380.0</td>\n      <td>239.0</td>\n      <td>...</td>\n      <td>0</td>\n      <td>0</td>\n      <td>0</td>\n      <td>0</td>\n      <td>0</td>\n      <td>0</td>\n      <td>0</td>\n      <td>0</td>\n      <td>0</td>\n      <td>0</td>\n    </tr>\n    <tr>\n      <th>4</th>\n      <td>tt1325004</td>\n      <td>659654145</td>\n      <td>The Twilight Saga: Eclipse</td>\n      <td>2011.0</td>\n      <td>300531751.0</td>\n      <td>6.984913e+08</td>\n      <td>64832191.0</td>\n      <td>68000000.0</td>\n      <td>4468.0</td>\n      <td>185.0</td>\n      <td>...</td>\n      <td>0</td>\n      <td>0</td>\n      <td>0</td>\n      <td>0</td>\n      <td>0</td>\n      <td>0</td>\n      <td>0</td>\n      <td>0</td>\n      <td>0</td>\n      <td>0</td>\n    </tr>\n  </tbody>\n</table>\n<p>5 rows × 147 columns</p>\n</div>"
     },
     "metadata": {},
     "execution_count": 315
    }
   ],
   "source": [
    "meta.head()"
   ]
  },
  {
   "cell_type": "code",
   "execution_count": 318,
   "metadata": {},
   "outputs": [],
   "source": [
    "meta.drop('Language',axis=1,inplace=True)"
   ]
  },
  {
   "source": [
    "# add country as a feature "
   ],
   "cell_type": "markdown",
   "metadata": {}
  },
  {
   "cell_type": "code",
   "execution_count": 337,
   "metadata": {},
   "outputs": [],
   "source": [
    "for index in meta.index:\n",
    "    if type(meta.loc[index,'Country'])!=float:\n",
    "        meta.at[index,'Country']=meta.loc[index].Country.split('\\n')"
   ]
  },
  {
   "cell_type": "code",
   "execution_count": 338,
   "metadata": {},
   "outputs": [],
   "source": [
    "meta.drop('country',axis=1,inplace=True)"
   ]
  },
  {
   "cell_type": "code",
   "execution_count": 343,
   "metadata": {},
   "outputs": [],
   "source": [
    "for index in meta.index:\n",
    "    if type(meta.loc[index,'Country'])==list:\n",
    "        for item in meta.loc[index,'Country']:\n",
    "            meta.loc[index,item]=1"
   ]
  },
  {
   "cell_type": "code",
   "execution_count": 345,
   "metadata": {},
   "outputs": [
    {
     "output_type": "execute_result",
     "data": {
      "text/plain": [
       "IMDB ID                                    tt1014759\n",
       "Mojo ID                                   3393226241\n",
       "title                            Alice in Wonderland\n",
       "Year                                            2011\n",
       "Domestic Gross ($)                       3.34191e+08\n",
       "                                        ...         \n",
       "Holy See (Vatican City State)                    NaN\n",
       "Zambia                                           NaN\n",
       "Swaziland                                        NaN\n",
       "Republic of North Macedonia                      NaN\n",
       "Reunion                                          NaN\n",
       "Name: 2, Length: 292, dtype: object"
      ]
     },
     "metadata": {},
     "execution_count": 345
    }
   ],
   "source": [
    "meta.loc[2,[]]"
   ]
  },
  {
   "cell_type": "code",
   "execution_count": 355,
   "metadata": {},
   "outputs": [],
   "source": [
    "meta.drop('Country',axis=1,inplace=True)"
   ]
  },
  {
   "cell_type": "code",
   "execution_count": 356,
   "metadata": {},
   "outputs": [
    {
     "output_type": "execute_result",
     "data": {
      "text/plain": [
       "array(['IMDB ID', 'Mojo ID', 'title', 'Year', 'Domestic Gross ($)',\n",
       "       'Worldwide Gross ($)', 'Opening ($)', 'Budget', 'Opening Theaters',\n",
       "       'In Realease (Days)', 'Widest Release', 'Stars', 'Director(s)',\n",
       "       'Writer(s)', 'Producer(s)', 'Running time (min)', 'IMDB score',\n",
       "       'IMDB votes', 'Metascore', 'Distributor', 'Plot Outline', 'Action',\n",
       "       'Adventure', 'Fantasy', 'Sci-Fi', 'Animation', 'Comedy', 'Family',\n",
       "       'Drama', 'Romance', 'Thriller', 'Mystery', 'Crime', 'Sport',\n",
       "       'Musical', 'Documentary', 'History', 'Music', 'Biography',\n",
       "       'Horror', 'War', 'Western', 'Short', 'News', 'Film-Noir',\n",
       "       'Reality-TV', 'Adult', 'PG-13', 'PG', 'R', 'G', 'Unrated', 'NC-17',\n",
       "       'Not Rated', 'M/PG', 'TV-PG', 'Day', 'Month', 'User', 'Critic',\n",
       "       'English', 'French', 'Swedish', 'Spanish', 'Italian', 'Hindi',\n",
       "       'Hebrew', 'German', 'Arabic', 'Korean', 'None', 'Mandarin', nan,\n",
       "       'Finnish', 'Japanese', 'Danish', 'Vietnamese', 'Portuguese',\n",
       "       'Persian', 'Greek', 'Cantonese', 'Serbian', 'Norwegian',\n",
       "       'Romanian', 'Zulu', 'Turkish', 'Estonian', 'Dutch', 'Russian',\n",
       "       'Catalan', 'Urdu', 'Thai', 'Southern Sotho', 'Bosnian', 'Tibetan',\n",
       "       'Tamil', 'Lingala', 'Czech', 'Indonesian', 'Polish', 'Flemish',\n",
       "       'Aboriginal', 'Albanian', 'Filipino', 'Punjabi', 'Min Nan',\n",
       "       'Hungarian', 'Chinese', 'Malayalam', 'Kinyarwanda', 'Tagalog',\n",
       "       'Lao', 'Georgian', 'Nepali', 'Ukrainian', 'Telugu', 'Bengali',\n",
       "       'Ukrainian Sign Language', 'Swiss German', 'Basque', 'Amharic',\n",
       "       'Armenian', 'Marathi', 'Icelandic', 'Bulgarian', 'Maori',\n",
       "       'Lithuanian', 'Kazakh', 'Maya', 'Burmese', 'Tswana', 'Yiddish',\n",
       "       'Slovak', 'Xhosa', 'Irish', 'American Sign Language', 'Malay',\n",
       "       'Latin', 'Guarani', 'Wayuu', 'Yakut', 'Neapolitan', 'Wolof',\n",
       "       'Dari', 'Rhaetian', 'USA', 'UK', 'France', 'Japan', 'China',\n",
       "       'Australia', 'Germany', 'Bulgaria', 'Spain', 'Canada',\n",
       "       'New Zealand', 'Italy', 'United Arab Emirates', 'Ireland', 'India',\n",
       "       'Switzerland', 'Monaco', 'Sweden', 'Denmark', 'Norway', 'Poland',\n",
       "       'Russia', 'Argentina', 'South Korea', 'Hong Kong', 'Israel',\n",
       "       'Austria', 'Egypt', 'Mexico', 'Belgium', 'Netherlands', 'Brazil',\n",
       "       'Hungary', 'Romania', 'Malta', 'Bahamas', 'Isle Of Man',\n",
       "       'Cameroon', 'Guatemala', 'Dominican Republic', 'Finland',\n",
       "       'Vietnam', 'Luxembourg', 'Taiwan', 'Chile', 'Iran', 'Greece',\n",
       "       'Palestine', 'Peru', 'Colombia', 'Cambodia', 'West Germany',\n",
       "       'Serbia', 'Iceland', 'Tunisia', 'South Africa', 'Senegal',\n",
       "       'Kuwait', 'Jordan', 'Portugal', 'Turkey', 'Estonia', 'Puerto Rico',\n",
       "       'Thailand', 'Antarctica', 'Botswana', 'Lebanon', 'Kenya',\n",
       "       'Pakistan', 'Bolivia', 'Angola',\n",
       "       'The Democratic Republic Of Congo', 'Venezuela', 'Singapore',\n",
       "       'Malaysia', 'Soviet Union', 'Afghanistan', 'Tanzania', 'Georgia',\n",
       "       'Nigeria', 'Chad', 'Saudi Arabia', 'Philippines', 'Ukraine',\n",
       "       'Algeria', 'Czech Republic', 'Bosnia and Herzegovina', 'Sri Lanka',\n",
       "       'Madagascar', \"Côte d'Ivoire\", 'Uganda', 'Indonesia', 'Ghana',\n",
       "       'Ethiopia', 'Namibia', 'Qatar', 'Lithuania', 'Albania', 'Slovakia',\n",
       "       'Cuba', 'Czechoslovakia', 'Nepal', 'Bhutan', 'Slovenia', 'Croatia',\n",
       "       'Armenia', 'Costa Rica', 'Haiti', 'Rwanda',\n",
       "       'Serbia and Montenegro', 'Belarus', 'Latvia', 'Jamaica',\n",
       "       'Bangladesh', 'Macao', 'Morocco', 'Ecuador', 'Laos', 'Greenland',\n",
       "       'Paraguay', 'Mali', 'Papua New Guinea', 'Mauritania', 'Panama',\n",
       "       'Cyprus', 'Montenegro', 'Malawi', 'Sierra Leone', 'Liberia',\n",
       "       'Mongolia', 'North Korea', 'Vanuatu', 'Uruguay', 'Congo',\n",
       "       'Kazakhstan', 'Myanmar', 'Kosovo', 'Iraq', 'Bahrain', 'Zimbabwe',\n",
       "       'Syria', 'Holy See (Vatican City State)', 'Zambia', 'Swaziland',\n",
       "       'Republic of North Macedonia', 'Reunion'], dtype=object)"
      ]
     },
     "metadata": {},
     "execution_count": 356
    }
   ],
   "source": [
    "meta.columns.values"
   ]
  }
 ]
}